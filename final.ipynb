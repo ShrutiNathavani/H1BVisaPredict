{
 "cells": [
  {
   "cell_type": "code",
   "execution_count": 1,
   "metadata": {},
   "outputs": [],
   "source": [
    "import pandas as pd\n",
    "import numpy as np\n",
    "import seaborn as sns\n",
    "import matplotlib.pyplot as plt\n",
    "import missingno as mno\n",
    "from category_encoders import BinaryEncoder\n",
    "from sklearn.model_selection import train_test_split"
   ]
  },
  {
   "cell_type": "code",
   "execution_count": 2,
   "metadata": {},
   "outputs": [
    {
     "name": "stderr",
     "output_type": "stream",
     "text": [
      "C:\\Users\\Shruti Nathavani\\AppData\\Local\\Temp\\ipykernel_3012\\546086871.py:1: DtypeWarning: Columns (0,1,2,3,4,5,6,7,8,9,10,11,13,14,19,20,21,22,23,24,25,26,27,28,29,31,32,33,34,35,36,37,38,39,40,41,42,43,45,46,47,48,49,50,51,52,53,54,55,57,58,59,61,64,66,67,68,69,70,71,72,73,76,78,79,80,82,85,87,88,89,90,91,92,93,94,97,98,99,100,101,103,106,108,109,110,111,112,113,114,115,121,122,124,127,129,130,131,132,133,134,135,136,142,143,145,148,150,151,152,153,154,155,156,157,160,162,163,164,166,169,171,172,173,174,175,176,177,178,184,185,187,190,192,193,194,195,196,197,198,199,205,206,208,211,213,214,215,216,217,218,219,220,223,225,226,227,229,232,234,235,236,237,238,239,240,244,246,247,248,250,253,254,255,256,257,258,259) have mixed types. Specify dtype option on import or set low_memory=False.\n",
      "  dataset=pd.read_csv('data.csv')\n"
     ]
    }
   ],
   "source": [
    "dataset=pd.read_csv('data.csv')"
   ]
  },
  {
   "cell_type": "code",
   "execution_count": 3,
   "metadata": {},
   "outputs": [
    {
     "data": {
      "text/html": [
       "<div>\n",
       "<style scoped>\n",
       "    .dataframe tbody tr th:only-of-type {\n",
       "        vertical-align: middle;\n",
       "    }\n",
       "\n",
       "    .dataframe tbody tr th {\n",
       "        vertical-align: top;\n",
       "    }\n",
       "\n",
       "    .dataframe thead th {\n",
       "        text-align: right;\n",
       "    }\n",
       "</style>\n",
       "<table border=\"1\" class=\"dataframe\">\n",
       "  <thead>\n",
       "    <tr style=\"text-align: right;\">\n",
       "      <th></th>\n",
       "      <th>CASE_NUMBER</th>\n",
       "      <th>CASE_STATUS</th>\n",
       "      <th>CASE_SUBMITTED</th>\n",
       "      <th>DECISION_DATE</th>\n",
       "      <th>ORIGINAL_CERT_DATE</th>\n",
       "      <th>VISA_CLASS</th>\n",
       "      <th>JOB_TITLE</th>\n",
       "      <th>SOC_CODE</th>\n",
       "      <th>SOC_TITLE</th>\n",
       "      <th>FULL_TIME_POSITION</th>\n",
       "      <th>...</th>\n",
       "      <th>PW_OTHER_SOURCE_10</th>\n",
       "      <th>PW_NON-OES_YEAR_10</th>\n",
       "      <th>PW_SURVEY_PUBLISHER_10</th>\n",
       "      <th>PW_SURVEY_NAME_10</th>\n",
       "      <th>H-1B_DEPENDENT</th>\n",
       "      <th>WILLFUL_VIOLATOR</th>\n",
       "      <th>SUPPORT_H1B</th>\n",
       "      <th>STATUTORY_BASIS</th>\n",
       "      <th>MASTERS_EXEMPTION</th>\n",
       "      <th>PUBLIC_DISCLOSURE</th>\n",
       "    </tr>\n",
       "  </thead>\n",
       "  <tbody>\n",
       "    <tr>\n",
       "      <th>0</th>\n",
       "      <td>I-200-16092-327771</td>\n",
       "      <td>WITHDRAWN</td>\n",
       "      <td>08-04-16</td>\n",
       "      <td>30-04-19</td>\n",
       "      <td>NaN</td>\n",
       "      <td>H-1B</td>\n",
       "      <td>ASSOCIATE CREATIVE DIRECTOR</td>\n",
       "      <td>11-2011</td>\n",
       "      <td>ADVERTISING AND PROMOTIONS MANAGERS</td>\n",
       "      <td>Y</td>\n",
       "      <td>...</td>\n",
       "      <td>NaN</td>\n",
       "      <td>NaN</td>\n",
       "      <td>NaN</td>\n",
       "      <td>NaN</td>\n",
       "      <td>N</td>\n",
       "      <td>N</td>\n",
       "      <td>NaN</td>\n",
       "      <td>NaN</td>\n",
       "      <td>NaN</td>\n",
       "      <td>NaN</td>\n",
       "    </tr>\n",
       "    <tr>\n",
       "      <th>1</th>\n",
       "      <td>I-203-17188-450729</td>\n",
       "      <td>WITHDRAWN</td>\n",
       "      <td>14-07-17</td>\n",
       "      <td>13-05-19</td>\n",
       "      <td>NaN</td>\n",
       "      <td>E-3 Australian</td>\n",
       "      <td>ACCOUNT SUPERVISOR (MOTHER)</td>\n",
       "      <td>11-2011</td>\n",
       "      <td>ADVERTISING AND PROMOTIONS MANAGERS</td>\n",
       "      <td>Y</td>\n",
       "      <td>...</td>\n",
       "      <td>NaN</td>\n",
       "      <td>NaN</td>\n",
       "      <td>NaN</td>\n",
       "      <td>NaN</td>\n",
       "      <td>NaN</td>\n",
       "      <td>NaN</td>\n",
       "      <td>NaN</td>\n",
       "      <td>NaN</td>\n",
       "      <td>NaN</td>\n",
       "      <td>NaN</td>\n",
       "    </tr>\n",
       "    <tr>\n",
       "      <th>2</th>\n",
       "      <td>I-203-17229-572307</td>\n",
       "      <td>WITHDRAWN</td>\n",
       "      <td>23-08-17</td>\n",
       "      <td>30-04-19</td>\n",
       "      <td>NaN</td>\n",
       "      <td>E-3 Australian</td>\n",
       "      <td>EXECUTIVE CREATIVE DIRECTOR</td>\n",
       "      <td>11-2011</td>\n",
       "      <td>ADVERTISING AND PROMOTIONS MANAGERS</td>\n",
       "      <td>Y</td>\n",
       "      <td>...</td>\n",
       "      <td>NaN</td>\n",
       "      <td>NaN</td>\n",
       "      <td>NaN</td>\n",
       "      <td>NaN</td>\n",
       "      <td>NaN</td>\n",
       "      <td>NaN</td>\n",
       "      <td>NaN</td>\n",
       "      <td>NaN</td>\n",
       "      <td>NaN</td>\n",
       "      <td>NaN</td>\n",
       "    </tr>\n",
       "    <tr>\n",
       "      <th>3</th>\n",
       "      <td>I-203-17356-299648</td>\n",
       "      <td>WITHDRAWN</td>\n",
       "      <td>22-12-17</td>\n",
       "      <td>20-08-19</td>\n",
       "      <td>NaN</td>\n",
       "      <td>E-3 Australian</td>\n",
       "      <td>PROJECT MANAGEMENT LEAD</td>\n",
       "      <td>11-2011</td>\n",
       "      <td>ADVERTISING AND PROMOTIONS MANAGERS</td>\n",
       "      <td>Y</td>\n",
       "      <td>...</td>\n",
       "      <td>NaN</td>\n",
       "      <td>NaN</td>\n",
       "      <td>NaN</td>\n",
       "      <td>NaN</td>\n",
       "      <td>NaN</td>\n",
       "      <td>NaN</td>\n",
       "      <td>NaN</td>\n",
       "      <td>NaN</td>\n",
       "      <td>NaN</td>\n",
       "      <td>NaN</td>\n",
       "    </tr>\n",
       "    <tr>\n",
       "      <th>4</th>\n",
       "      <td>I-203-18008-577576</td>\n",
       "      <td>WITHDRAWN</td>\n",
       "      <td>10-01-18</td>\n",
       "      <td>15-04-19</td>\n",
       "      <td>NaN</td>\n",
       "      <td>E-3 Australian</td>\n",
       "      <td>CREATIVE DIRECTOR, UX</td>\n",
       "      <td>11-2011</td>\n",
       "      <td>ADVERTISING AND PROMOTIONS MANAGERS</td>\n",
       "      <td>Y</td>\n",
       "      <td>...</td>\n",
       "      <td>NaN</td>\n",
       "      <td>NaN</td>\n",
       "      <td>NaN</td>\n",
       "      <td>NaN</td>\n",
       "      <td>NaN</td>\n",
       "      <td>NaN</td>\n",
       "      <td>NaN</td>\n",
       "      <td>NaN</td>\n",
       "      <td>NaN</td>\n",
       "      <td>NaN</td>\n",
       "    </tr>\n",
       "  </tbody>\n",
       "</table>\n",
       "<p>5 rows × 260 columns</p>\n",
       "</div>"
      ],
      "text/plain": [
       "          CASE_NUMBER CASE_STATUS CASE_SUBMITTED DECISION_DATE  \\\n",
       "0  I-200-16092-327771   WITHDRAWN       08-04-16      30-04-19   \n",
       "1  I-203-17188-450729   WITHDRAWN       14-07-17      13-05-19   \n",
       "2  I-203-17229-572307   WITHDRAWN       23-08-17      30-04-19   \n",
       "3  I-203-17356-299648   WITHDRAWN       22-12-17      20-08-19   \n",
       "4  I-203-18008-577576   WITHDRAWN       10-01-18      15-04-19   \n",
       "\n",
       "  ORIGINAL_CERT_DATE      VISA_CLASS                    JOB_TITLE SOC_CODE  \\\n",
       "0                NaN            H-1B  ASSOCIATE CREATIVE DIRECTOR  11-2011   \n",
       "1                NaN  E-3 Australian  ACCOUNT SUPERVISOR (MOTHER)  11-2011   \n",
       "2                NaN  E-3 Australian  EXECUTIVE CREATIVE DIRECTOR  11-2011   \n",
       "3                NaN  E-3 Australian      PROJECT MANAGEMENT LEAD  11-2011   \n",
       "4                NaN  E-3 Australian        CREATIVE DIRECTOR, UX  11-2011   \n",
       "\n",
       "                             SOC_TITLE FULL_TIME_POSITION  ...  \\\n",
       "0  ADVERTISING AND PROMOTIONS MANAGERS                  Y  ...   \n",
       "1  ADVERTISING AND PROMOTIONS MANAGERS                  Y  ...   \n",
       "2  ADVERTISING AND PROMOTIONS MANAGERS                  Y  ...   \n",
       "3  ADVERTISING AND PROMOTIONS MANAGERS                  Y  ...   \n",
       "4  ADVERTISING AND PROMOTIONS MANAGERS                  Y  ...   \n",
       "\n",
       "  PW_OTHER_SOURCE_10 PW_NON-OES_YEAR_10  PW_SURVEY_PUBLISHER_10  \\\n",
       "0                NaN                NaN                     NaN   \n",
       "1                NaN                NaN                     NaN   \n",
       "2                NaN                NaN                     NaN   \n",
       "3                NaN                NaN                     NaN   \n",
       "4                NaN                NaN                     NaN   \n",
       "\n",
       "  PW_SURVEY_NAME_10 H-1B_DEPENDENT  WILLFUL_VIOLATOR  SUPPORT_H1B  \\\n",
       "0               NaN              N                 N          NaN   \n",
       "1               NaN            NaN               NaN          NaN   \n",
       "2               NaN            NaN               NaN          NaN   \n",
       "3               NaN            NaN               NaN          NaN   \n",
       "4               NaN            NaN               NaN          NaN   \n",
       "\n",
       "   STATUTORY_BASIS  MASTERS_EXEMPTION PUBLIC_DISCLOSURE  \n",
       "0              NaN                NaN               NaN  \n",
       "1              NaN                NaN               NaN  \n",
       "2              NaN                NaN               NaN  \n",
       "3              NaN                NaN               NaN  \n",
       "4              NaN                NaN               NaN  \n",
       "\n",
       "[5 rows x 260 columns]"
      ]
     },
     "execution_count": 3,
     "metadata": {},
     "output_type": "execute_result"
    }
   ],
   "source": [
    "dataset.head()"
   ]
  },
  {
   "cell_type": "code",
   "execution_count": 4,
   "metadata": {},
   "outputs": [
    {
     "data": {
      "text/plain": [
       "(1048547, 260)"
      ]
     },
     "execution_count": 4,
     "metadata": {},
     "output_type": "execute_result"
    }
   ],
   "source": [
    "dataset.shape"
   ]
  },
  {
   "cell_type": "code",
   "execution_count": 5,
   "metadata": {},
   "outputs": [],
   "source": [
    "dataset.drop(dataset[dataset['VISA_CLASS'] == 'E-3 Australian'].index, inplace = True)\n",
    "dataset.drop(dataset[dataset['VISA_CLASS'] == 'H-1B1 Singapore'].index, inplace = True)\n",
    "dataset.drop(dataset[dataset['VISA_CLASS'] == 'H-1B1 Chile'].index, inplace = True)\n",
    "dataset.drop(dataset[dataset['VISA_CLASS'] == 'nan'].index, inplace = True)"
   ]
  },
  {
   "cell_type": "code",
   "execution_count": 6,
   "metadata": {},
   "outputs": [
    {
     "data": {
      "text/plain": [
       "(1033014, 260)"
      ]
     },
     "execution_count": 6,
     "metadata": {},
     "output_type": "execute_result"
    }
   ],
   "source": [
    "dataset.shape"
   ]
  },
  {
   "cell_type": "code",
   "execution_count": 7,
   "metadata": {},
   "outputs": [
    {
     "name": "stdout",
     "output_type": "stream",
     "text": [
      "<class 'pandas.core.frame.DataFrame'>\n",
      "Int64Index: 1033014 entries, 0 to 1048546\n",
      "Columns: 260 entries, CASE_NUMBER to PUBLIC_DISCLOSURE\n",
      "dtypes: float64(82), object(178)\n",
      "memory usage: 2.0+ GB\n"
     ]
    }
   ],
   "source": [
    "dataset.info()"
   ]
  },
  {
   "cell_type": "code",
   "execution_count": 8,
   "metadata": {},
   "outputs": [
    {
     "data": {
      "text/plain": [
       "<bound method NDFrame.describe of                 CASE_NUMBER CASE_STATUS       CASE_SUBMITTED DECISION_DATE  \\\n",
       "0        I-200-16092-327771   WITHDRAWN             08-04-16      30-04-19   \n",
       "5        I-200-18150-993604   WITHDRAWN             30-05-18      08-08-19   \n",
       "6        I-200-18289-307616   WITHDRAWN  10-19-2018 13:49:03      19-10-18   \n",
       "7        I-200-19015-877040   WITHDRAWN       15-01-19 15:12      15-01-19   \n",
       "8        I-200-19031-693896   WITHDRAWN       31-01-19 16:32      31-01-19   \n",
       "...                     ...         ...                  ...           ...   \n",
       "1048542                 NaN         NaN                  NaN           NaN   \n",
       "1048543                 NaN         NaN                  NaN           NaN   \n",
       "1048544                 NaN         NaN                  NaN           NaN   \n",
       "1048545                 NaN         NaN                  NaN           NaN   \n",
       "1048546                 NaN         NaN                  NaN           NaN   \n",
       "\n",
       "        ORIGINAL_CERT_DATE VISA_CLASS                         JOB_TITLE  \\\n",
       "0                      NaN       H-1B       ASSOCIATE CREATIVE DIRECTOR   \n",
       "5                      NaN       H-1B           GLOBAL BRAND SUPERVISOR   \n",
       "6                      NaN       H-1B  DIRECTOR OF BUSINESS DEVELOPMENT   \n",
       "7                      NaN       H-1B      HEAD OF BUSINESS DEVELOPMENT   \n",
       "8                      NaN       H-1B    ACCOUNT DIRECTOR, SOCIAL MEDIA   \n",
       "...                    ...        ...                               ...   \n",
       "1048542                NaN        NaN                               NaN   \n",
       "1048543                NaN        NaN                               NaN   \n",
       "1048544                NaN        NaN                               NaN   \n",
       "1048545                NaN        NaN                               NaN   \n",
       "1048546                NaN        NaN                               NaN   \n",
       "\n",
       "        SOC_CODE                            SOC_TITLE FULL_TIME_POSITION  ...  \\\n",
       "0        11-2011  ADVERTISING AND PROMOTIONS MANAGERS                  Y  ...   \n",
       "5        11-2011  ADVERTISING AND PROMOTIONS MANAGERS                  Y  ...   \n",
       "6        11-2011  ADVERTISING AND PROMOTIONS MANAGERS                  Y  ...   \n",
       "7        11-2011  ADVERTISING AND PROMOTIONS MANAGERS                  Y  ...   \n",
       "8        11-2011  ADVERTISING AND PROMOTIONS MANAGERS                  Y  ...   \n",
       "...          ...                                  ...                ...  ...   \n",
       "1048542      NaN                                  NaN                NaN  ...   \n",
       "1048543      NaN                                  NaN                NaN  ...   \n",
       "1048544      NaN                                  NaN                NaN  ...   \n",
       "1048545      NaN                                  NaN                NaN  ...   \n",
       "1048546      NaN                                  NaN                NaN  ...   \n",
       "\n",
       "        PW_OTHER_SOURCE_10 PW_NON-OES_YEAR_10  PW_SURVEY_PUBLISHER_10  \\\n",
       "0                      NaN                NaN                     NaN   \n",
       "5                      NaN                NaN                     NaN   \n",
       "6                      NaN                NaN                     NaN   \n",
       "7                      NaN                NaN                     NaN   \n",
       "8                      NaN                NaN                     NaN   \n",
       "...                    ...                ...                     ...   \n",
       "1048542                NaN                NaN                     NaN   \n",
       "1048543                NaN                NaN                     NaN   \n",
       "1048544                NaN                NaN                     NaN   \n",
       "1048545                NaN                NaN                     NaN   \n",
       "1048546                NaN                NaN                     NaN   \n",
       "\n",
       "        PW_SURVEY_NAME_10 H-1B_DEPENDENT  WILLFUL_VIOLATOR  SUPPORT_H1B  \\\n",
       "0                     NaN              N                 N          NaN   \n",
       "5                     NaN              N                 N          NaN   \n",
       "6                     NaN              N                 N          NaN   \n",
       "7                     NaN              N                 N          NaN   \n",
       "8                     NaN              N                 N          NaN   \n",
       "...                   ...            ...               ...          ...   \n",
       "1048542               NaN            NaN               NaN          NaN   \n",
       "1048543               NaN            NaN               NaN          NaN   \n",
       "1048544               NaN            NaN               NaN          NaN   \n",
       "1048545               NaN            NaN               NaN          NaN   \n",
       "1048546               NaN            NaN               NaN          NaN   \n",
       "\n",
       "         STATUTORY_BASIS  MASTERS_EXEMPTION    PUBLIC_DISCLOSURE  \n",
       "0                    NaN                NaN                  NaN  \n",
       "5                    NaN                NaN                  NaN  \n",
       "6                    NaN                NaN    PLACE OF BUSINESS  \n",
       "7                    NaN                NaN    PLACE OF BUSINESS  \n",
       "8                    NaN                NaN  PLACE OF EMPLOYMENT  \n",
       "...                  ...                ...                  ...  \n",
       "1048542              NaN                NaN                  NaN  \n",
       "1048543              NaN                NaN                  NaN  \n",
       "1048544              NaN                NaN                  NaN  \n",
       "1048545              NaN                NaN                  NaN  \n",
       "1048546              NaN                NaN                  NaN  \n",
       "\n",
       "[1033014 rows x 260 columns]>"
      ]
     },
     "execution_count": 8,
     "metadata": {},
     "output_type": "execute_result"
    }
   ],
   "source": [
    "dataset.describe"
   ]
  },
  {
   "cell_type": "code",
   "execution_count": 9,
   "metadata": {},
   "outputs": [
    {
     "data": {
      "text/plain": [
       "array(['H-1B', nan], dtype=object)"
      ]
     },
     "execution_count": 9,
     "metadata": {},
     "output_type": "execute_result"
    }
   ],
   "source": [
    "dataset['VISA_CLASS'].unique()"
   ]
  },
  {
   "cell_type": "code",
   "execution_count": 10,
   "metadata": {},
   "outputs": [
    {
     "data": {
      "text/plain": [
       "CASE_NUMBER           object\n",
       "CASE_STATUS           object\n",
       "CASE_SUBMITTED        object\n",
       "DECISION_DATE         object\n",
       "ORIGINAL_CERT_DATE    object\n",
       "                       ...  \n",
       "WILLFUL_VIOLATOR      object\n",
       "SUPPORT_H1B           object\n",
       "STATUTORY_BASIS       object\n",
       "MASTERS_EXEMPTION     object\n",
       "PUBLIC_DISCLOSURE     object\n",
       "Length: 260, dtype: object"
      ]
     },
     "execution_count": 10,
     "metadata": {},
     "output_type": "execute_result"
    }
   ],
   "source": [
    "dataset.dtypes"
   ]
  },
  {
   "cell_type": "code",
   "execution_count": 11,
   "metadata": {},
   "outputs": [
    {
     "data": {
      "text/plain": [
       "array(['WITHDRAWN', 'CERTIFIED-WITHDRAWN', 'CERTIFIED', 'DENIED', nan],\n",
       "      dtype=object)"
      ]
     },
     "execution_count": 11,
     "metadata": {},
     "output_type": "execute_result"
    }
   ],
   "source": [
    "dataset['CASE_STATUS'].unique()"
   ]
  },
  {
   "cell_type": "code",
   "execution_count": 12,
   "metadata": {},
   "outputs": [],
   "source": [
    "# dropping case status which aren't neede\n",
    "dataset.drop(dataset[dataset['CASE_STATUS'] == 'CERTIFIED-WITHDRAWN'].index, inplace = True)\n",
    "dataset.drop(dataset[dataset['CASE_STATUS'] == 'WITHDRAWN'].index, inplace = True)\n",
    "dataset.drop(dataset[dataset['CASE_STATUS'] == 'Nan'].index, inplace = True)"
   ]
  },
  {
   "cell_type": "code",
   "execution_count": 13,
   "metadata": {},
   "outputs": [
    {
     "data": {
      "text/plain": [
       "<AxesSubplot:title={'center':'H1B Petitions by Case Status'}>"
      ]
     },
     "execution_count": 13,
     "metadata": {},
     "output_type": "execute_result"
    },
    {
     "data": {
      "image/png": "[encoded data removed]",
      "text/plain": [
       "<Figure size 720x360 with 1 Axes>"
      ]
     },
     "metadata": {
      "needs_background": "light"
     },
     "output_type": "display_data"
    }
   ],
   "source": [
    "%matplotlib inline\n",
    "#import ggplot\n",
    "import matplotlib.pyplot as plt\n",
    "plt.rcParams[\"figure.figsize\"] = (10,5)\n",
    "dataset['CASE_STATUS'].value_counts().plot(kind='barh',title='H1B Petitions by Case Status')"
   ]
  },
  {
   "cell_type": "code",
   "execution_count": 14,
   "metadata": {},
   "outputs": [
    {
     "data": {
      "text/plain": [
       "<AxesSubplot:ylabel='CASE_STATUS'>"
      ]
     },
     "execution_count": 14,
     "metadata": {},
     "output_type": "execute_result"
    },
    {
     "data": {
      "image/png": "[encoded data removed]",
      "text/plain": [
       "<Figure size 720x360 with 1 Axes>"
      ]
     },
     "metadata": {
      "needs_background": "light"
     },
     "output_type": "display_data"
    }
   ],
   "source": [
    "plt.rcParams[\"figure.figsize\"] = (10,5)\n",
    "pd.crosstab(dataset['CASE_STATUS'],dataset['FULL_TIME_POSITION']).plot(kind='barh')"
   ]
  },
  {
   "cell_type": "code",
   "execution_count": 15,
   "metadata": {},
   "outputs": [
    {
     "data": {
      "text/plain": [
       "<AxesSubplot:title={'center':'Job title of top 20 h1b companies'}, ylabel='JOB_TITLE'>"
      ]
     },
     "execution_count": 15,
     "metadata": {},
     "output_type": "execute_result"
    },
    {
     "data": {
      "image/png": "[encoded data removed]",
      "text/plain": [
       "<Figure size 720x360 with 1 Axes>"
      ]
     },
     "metadata": {
      "needs_background": "light"
     },
     "output_type": "display_data"
    }
   ],
   "source": [
    "plt.rcParams[\"figure.figsize\"] = (10,5)\n",
    "top_10=dataset.groupby('EMPLOYER_NAME').CASE_STATUS.count().nlargest(10).index.tolist()\n",
    "top_10_datset=dataset.loc[dataset.EMPLOYER_NAME.isin(top_10)]\n",
    "top_10_datset.groupby('JOB_TITLE').EMPLOYER_NAME.count().nlargest(10).plot(kind='barh',title='Job title of top 20 h1b companies')"
   ]
  },
  {
   "cell_type": "code",
   "execution_count": 16,
   "metadata": {},
   "outputs": [
    {
     "data": {
      "text/plain": [
       "Index(['SOFTWARE DEVELOPER', 'SOFTWARE ENGINEER',\n",
       "       'SENIOR SYSTEMS ANALYST JC60', 'MANAGER JC50',\n",
       "       'SENIOR SOFTWARE ENGINEER', 'TECHNOLOGY LEAD - US - PRACTITIONER',\n",
       "       'ASSISTANT PROFESSOR', 'PROGRAMMER ANALYST',\n",
       "       'SENIOR SOFTWARE DEVELOPER', 'JAVA DEVELOPER'],\n",
       "      dtype='object', name='JOB_TITLE')"
      ]
     },
     "execution_count": 16,
     "metadata": {},
     "output_type": "execute_result"
    }
   ],
   "source": [
    "\n",
    "order_by_job_title = dataset.groupby('JOB_TITLE').count().sort_values(by='CASE_STATUS', ascending=False).index[0:10]\n",
    "order_by_job_title"
   ]
  },
  {
   "cell_type": "code",
   "execution_count": 17,
   "metadata": {},
   "outputs": [
    {
     "data": {
      "text/plain": [
       "<AxesSubplot:xlabel='JOB_TITLE', ylabel='count'>"
      ]
     },
     "execution_count": 17,
     "metadata": {},
     "output_type": "execute_result"
    },
    {
     "data": {
      "image/png": "[encoded data removed]",
      "text/plain": [
       "<Figure size 1872x720 with 1 Axes>"
      ]
     },
     "metadata": {
      "needs_background": "light"
     },
     "output_type": "display_data"
    }
   ],
   "source": [
    "plt.figure(figsize=(26,10))\n",
    "sns.countplot(x='JOB_TITLE', data=dataset, order=order_by_job_title)"
   ]
  },
  {
   "cell_type": "code",
   "execution_count": 18,
   "metadata": {},
   "outputs": [
    {
     "data": {
      "image/png": "[encoded data removed]",
      "text/plain": [
       "<Figure size 720x360 with 1 Axes>"
      ]
     },
     "metadata": {},
     "output_type": "display_data"
    }
   ],
   "source": [
    "sns.set_style('darkgrid')\n",
    "Yes = dataset.WILLFUL_VIOLATOR[dataset.WILLFUL_VIOLATOR == 'Y'].count()\n",
    "No = dataset.WILLFUL_VIOLATOR[dataset.WILLFUL_VIOLATOR == 'N'].count()\n",
    "\n",
    "plt.title(\"No. of employers who broke H-1B rules\")\n",
    "plt.pie([Yes, No], labels=['Yes', 'No'], autopct=\"%.2f%%\")\n",
    "plt.legend(loc=(1,0.5))\n",
    "\n",
    "plt.show()"
   ]
  },
  {
   "cell_type": "code",
   "execution_count": 19,
   "metadata": {},
   "outputs": [
    {
     "data": {
      "image/png": "[encoded data removed]",
      "text/plain": [
       "<Figure size 720x360 with 1 Axes>"
      ]
     },
     "metadata": {},
     "output_type": "display_data"
    }
   ],
   "source": [
    "wage_level = dataset['PW_WAGE_LEVEL_1'].value_counts()\n",
    "plt.pie(wage_level,autopct='%.2f',labels=['Level II','Level III','Level I','Level IV'])\n",
    "plt.show()"
   ]
  },
  {
   "cell_type": "code",
   "execution_count": 20,
   "metadata": {},
   "outputs": [
    {
     "data": {
      "text/plain": [
       "<AxesSubplot:title={'center':'H1B Petitions by Case Status'}>"
      ]
     },
     "execution_count": 20,
     "metadata": {},
     "output_type": "execute_result"
    },
    {
     "data": {
      "image/png": "[encoded data removed]",
      "text/plain": [
       "<Figure size 720x360 with 1 Axes>"
      ]
     },
     "metadata": {
      "needs_background": "light"
     },
     "output_type": "display_data"
    }
   ],
   "source": [
    "%matplotlib inline\n",
    "#import ggplot\n",
    "import matplotlib.pyplot as plt\n",
    "plt.rcParams[\"figure.figsize\"] = (10,5)\n",
    "dataset['CASE_STATUS'].value_counts().plot(kind='barh',title='H1B Petitions by Case Status')"
   ]
  },
  {
   "cell_type": "code",
   "execution_count": null,
   "metadata": {},
   "outputs": [],
   "source": []
  },
  {
   "cell_type": "code",
   "execution_count": 21,
   "metadata": {},
   "outputs": [
    {
     "name": "stderr",
     "output_type": "stream",
     "text": [
      "d:\\Program File\\Python310\\lib\\site-packages\\seaborn\\_decorators.py:36: FutureWarning: Pass the following variables as keyword args: x, y, hue. From version 0.12, the only valid positional argument will be `data`, and passing other arguments without an explicit keyword will result in an error or misinterpretation.\n",
      "  warnings.warn(\n"
     ]
    },
    {
     "data": {
      "text/plain": [
       "<AxesSubplot:xlabel='TOTAL_WORKER_POSITIONS', ylabel='NEW_CONCURRENT_EMPLOYMENT'>"
      ]
     },
     "execution_count": 21,
     "metadata": {},
     "output_type": "execute_result"
    },
    {
     "data": {
      "image/png": "[encoded data removed]",
      "text/plain": [
       "<Figure size 720x360 with 1 Axes>"
      ]
     },
     "metadata": {
      "needs_background": "light"
     },
     "output_type": "display_data"
    }
   ],
   "source": [
    "sns.scatterplot(dataset['TOTAL_WORKER_POSITIONS'],dataset['NEW_CONCURRENT_EMPLOYMENT'],dataset['AMENDED_PETITION'])"
   ]
  },
  {
   "cell_type": "code",
   "execution_count": 22,
   "metadata": {},
   "outputs": [
    {
     "data": {
      "text/html": [
       "<div>\n",
       "<style scoped>\n",
       "    .dataframe tbody tr th:only-of-type {\n",
       "        vertical-align: middle;\n",
       "    }\n",
       "\n",
       "    .dataframe tbody tr th {\n",
       "        vertical-align: top;\n",
       "    }\n",
       "\n",
       "    .dataframe thead th {\n",
       "        text-align: right;\n",
       "    }\n",
       "</style>\n",
       "<table border=\"1\" class=\"dataframe\">\n",
       "  <thead>\n",
       "    <tr style=\"text-align: right;\">\n",
       "      <th></th>\n",
       "      <th>CASE_NUMBER</th>\n",
       "      <th>CASE_STATUS</th>\n",
       "      <th>CASE_SUBMITTED</th>\n",
       "      <th>DECISION_DATE</th>\n",
       "      <th>ORIGINAL_CERT_DATE</th>\n",
       "      <th>VISA_CLASS</th>\n",
       "      <th>JOB_TITLE</th>\n",
       "      <th>SOC_CODE</th>\n",
       "      <th>SOC_TITLE</th>\n",
       "      <th>FULL_TIME_POSITION</th>\n",
       "      <th>...</th>\n",
       "      <th>PW_OTHER_SOURCE_10</th>\n",
       "      <th>PW_NON-OES_YEAR_10</th>\n",
       "      <th>PW_SURVEY_PUBLISHER_10</th>\n",
       "      <th>PW_SURVEY_NAME_10</th>\n",
       "      <th>H-1B_DEPENDENT</th>\n",
       "      <th>WILLFUL_VIOLATOR</th>\n",
       "      <th>SUPPORT_H1B</th>\n",
       "      <th>STATUTORY_BASIS</th>\n",
       "      <th>MASTERS_EXEMPTION</th>\n",
       "      <th>PUBLIC_DISCLOSURE</th>\n",
       "    </tr>\n",
       "  </thead>\n",
       "  <tbody>\n",
       "    <tr>\n",
       "      <th>24</th>\n",
       "      <td>I-200-18162-689783</td>\n",
       "      <td>CERTIFIED</td>\n",
       "      <td>26-09-18</td>\n",
       "      <td>02-10-18</td>\n",
       "      <td>NaN</td>\n",
       "      <td>H-1B</td>\n",
       "      <td>ADVERSTING AND PROMOTIONS MANAGER</td>\n",
       "      <td>11-2011</td>\n",
       "      <td>ADVERTISING AND PROMOTIONS MANAGERS</td>\n",
       "      <td>N</td>\n",
       "      <td>...</td>\n",
       "      <td>NaN</td>\n",
       "      <td>NaN</td>\n",
       "      <td>NaN</td>\n",
       "      <td>NaN</td>\n",
       "      <td>N</td>\n",
       "      <td>N</td>\n",
       "      <td>NaN</td>\n",
       "      <td>NaN</td>\n",
       "      <td>NaN</td>\n",
       "      <td>NaN</td>\n",
       "    </tr>\n",
       "    <tr>\n",
       "      <th>26</th>\n",
       "      <td>I-200-18268-784387</td>\n",
       "      <td>CERTIFIED</td>\n",
       "      <td>27-09-18</td>\n",
       "      <td>03-10-18</td>\n",
       "      <td>NaN</td>\n",
       "      <td>H-1B</td>\n",
       "      <td>ADVERTISING AND PROMOTIONS DIRECTOR</td>\n",
       "      <td>11-2011</td>\n",
       "      <td>ADVERTISING AND PROMOTIONS MANAGERS</td>\n",
       "      <td>Y</td>\n",
       "      <td>...</td>\n",
       "      <td>NaN</td>\n",
       "      <td>NaN</td>\n",
       "      <td>NaN</td>\n",
       "      <td>NaN</td>\n",
       "      <td>N</td>\n",
       "      <td>N</td>\n",
       "      <td>NaN</td>\n",
       "      <td>NaN</td>\n",
       "      <td>NaN</td>\n",
       "      <td>NaN</td>\n",
       "    </tr>\n",
       "    <tr>\n",
       "      <th>47</th>\n",
       "      <td>I-200-18299-123963</td>\n",
       "      <td>CERTIFIED</td>\n",
       "      <td>10-26-2018 17:31:16</td>\n",
       "      <td>11-01-2018 22:00:49</td>\n",
       "      <td>NaN</td>\n",
       "      <td>H-1B</td>\n",
       "      <td>PROGRAM MANAGER I</td>\n",
       "      <td>11-2011</td>\n",
       "      <td>ADVERTISING AND PROMOTIONS MANAGERS</td>\n",
       "      <td>Y</td>\n",
       "      <td>...</td>\n",
       "      <td>NaN</td>\n",
       "      <td>NaN</td>\n",
       "      <td>NaN</td>\n",
       "      <td>NaN</td>\n",
       "      <td>N</td>\n",
       "      <td>N</td>\n",
       "      <td>NaN</td>\n",
       "      <td>NaN</td>\n",
       "      <td>NaN</td>\n",
       "      <td>PLACE OF BUSINESS</td>\n",
       "    </tr>\n",
       "    <tr>\n",
       "      <th>52</th>\n",
       "      <td>I-200-18310-551334</td>\n",
       "      <td>CERTIFIED</td>\n",
       "      <td>11-06-2018 12:37:33</td>\n",
       "      <td>11-13-2018 22:00:38</td>\n",
       "      <td>NaN</td>\n",
       "      <td>H-1B</td>\n",
       "      <td>ASSOCIATE STRATEGY DIRECTOR</td>\n",
       "      <td>11-2011</td>\n",
       "      <td>ADVERTISING AND PROMOTIONS MANAGERS</td>\n",
       "      <td>Y</td>\n",
       "      <td>...</td>\n",
       "      <td>NaN</td>\n",
       "      <td>NaN</td>\n",
       "      <td>NaN</td>\n",
       "      <td>NaN</td>\n",
       "      <td>N</td>\n",
       "      <td>N</td>\n",
       "      <td>NaN</td>\n",
       "      <td>NaN</td>\n",
       "      <td>NaN</td>\n",
       "      <td>PLACE OF BUSINESS</td>\n",
       "    </tr>\n",
       "    <tr>\n",
       "      <th>54</th>\n",
       "      <td>I-200-18317-440186</td>\n",
       "      <td>CERTIFIED</td>\n",
       "      <td>11-13-2018 20:06:33</td>\n",
       "      <td>11-19-2018 22:00:55</td>\n",
       "      <td>NaN</td>\n",
       "      <td>H-1B</td>\n",
       "      <td>ADVERTISING AND PROMOTIONS MANAGER</td>\n",
       "      <td>11-2011</td>\n",
       "      <td>ADVERTISING AND PROMOTIONS MANAGERS</td>\n",
       "      <td>Y</td>\n",
       "      <td>...</td>\n",
       "      <td>NaN</td>\n",
       "      <td>NaN</td>\n",
       "      <td>NaN</td>\n",
       "      <td>NaN</td>\n",
       "      <td>N</td>\n",
       "      <td>N</td>\n",
       "      <td>NaN</td>\n",
       "      <td>NaN</td>\n",
       "      <td>NaN</td>\n",
       "      <td>PLACE OF BUSINESS</td>\n",
       "    </tr>\n",
       "  </tbody>\n",
       "</table>\n",
       "<p>5 rows × 260 columns</p>\n",
       "</div>"
      ],
      "text/plain": [
       "           CASE_NUMBER CASE_STATUS       CASE_SUBMITTED        DECISION_DATE  \\\n",
       "24  I-200-18162-689783   CERTIFIED             26-09-18             02-10-18   \n",
       "26  I-200-18268-784387   CERTIFIED             27-09-18             03-10-18   \n",
       "47  I-200-18299-123963   CERTIFIED  10-26-2018 17:31:16  11-01-2018 22:00:49   \n",
       "52  I-200-18310-551334   CERTIFIED  11-06-2018 12:37:33  11-13-2018 22:00:38   \n",
       "54  I-200-18317-440186   CERTIFIED  11-13-2018 20:06:33  11-19-2018 22:00:55   \n",
       "\n",
       "   ORIGINAL_CERT_DATE VISA_CLASS                            JOB_TITLE  \\\n",
       "24                NaN       H-1B    ADVERSTING AND PROMOTIONS MANAGER   \n",
       "26                NaN       H-1B  ADVERTISING AND PROMOTIONS DIRECTOR   \n",
       "47                NaN       H-1B                    PROGRAM MANAGER I   \n",
       "52                NaN       H-1B          ASSOCIATE STRATEGY DIRECTOR   \n",
       "54                NaN       H-1B   ADVERTISING AND PROMOTIONS MANAGER   \n",
       "\n",
       "   SOC_CODE                            SOC_TITLE FULL_TIME_POSITION  ...  \\\n",
       "24  11-2011  ADVERTISING AND PROMOTIONS MANAGERS                  N  ...   \n",
       "26  11-2011  ADVERTISING AND PROMOTIONS MANAGERS                  Y  ...   \n",
       "47  11-2011  ADVERTISING AND PROMOTIONS MANAGERS                  Y  ...   \n",
       "52  11-2011  ADVERTISING AND PROMOTIONS MANAGERS                  Y  ...   \n",
       "54  11-2011  ADVERTISING AND PROMOTIONS MANAGERS                  Y  ...   \n",
       "\n",
       "   PW_OTHER_SOURCE_10 PW_NON-OES_YEAR_10  PW_SURVEY_PUBLISHER_10  \\\n",
       "24                NaN                NaN                     NaN   \n",
       "26                NaN                NaN                     NaN   \n",
       "47                NaN                NaN                     NaN   \n",
       "52                NaN                NaN                     NaN   \n",
       "54                NaN                NaN                     NaN   \n",
       "\n",
       "   PW_SURVEY_NAME_10 H-1B_DEPENDENT  WILLFUL_VIOLATOR  SUPPORT_H1B  \\\n",
       "24               NaN              N                 N          NaN   \n",
       "26               NaN              N                 N          NaN   \n",
       "47               NaN              N                 N          NaN   \n",
       "52               NaN              N                 N          NaN   \n",
       "54               NaN              N                 N          NaN   \n",
       "\n",
       "    STATUTORY_BASIS  MASTERS_EXEMPTION  PUBLIC_DISCLOSURE  \n",
       "24              NaN                NaN                NaN  \n",
       "26              NaN                NaN                NaN  \n",
       "47              NaN                NaN  PLACE OF BUSINESS  \n",
       "52              NaN                NaN  PLACE OF BUSINESS  \n",
       "54              NaN                NaN  PLACE OF BUSINESS  \n",
       "\n",
       "[5 rows x 260 columns]"
      ]
     },
     "execution_count": 22,
     "metadata": {},
     "output_type": "execute_result"
    }
   ],
   "source": [
    "dataset.head()"
   ]
  },
  {
   "cell_type": "code",
   "execution_count": 23,
   "metadata": {
    "colab": {
     "base_uri": "https://localhost:8080/"
    },
    "id": "KgGDOKJP_aN0",
    "outputId": "72325969-a4a7-4334-f106-78685bf3fa68"
   },
   "outputs": [
    {
     "data": {
      "text/plain": [
       "(967737, 260)"
      ]
     },
     "execution_count": 23,
     "metadata": {},
     "output_type": "execute_result"
    }
   ],
   "source": [
    "dataset.shape"
   ]
  },
  {
   "cell_type": "code",
   "execution_count": 24,
   "metadata": {},
   "outputs": [
    {
     "data": {
      "text/plain": [
       "(967737, 260)"
      ]
     },
     "execution_count": 24,
     "metadata": {},
     "output_type": "execute_result"
    }
   ],
   "source": [
    "dataset.shape"
   ]
  },
  {
   "cell_type": "code",
   "execution_count": 25,
   "metadata": {
    "colab": {
     "base_uri": "https://localhost:8080/",
     "height": 411
    },
    "id": "7y_izgZW_hj0",
    "outputId": "90dc4c0f-f12c-4bfa-c841-3a829d0cbfdd"
   },
   "outputs": [
    {
     "data": {
      "text/html": [
       "<div>\n",
       "<style scoped>\n",
       "    .dataframe tbody tr th:only-of-type {\n",
       "        vertical-align: middle;\n",
       "    }\n",
       "\n",
       "    .dataframe tbody tr th {\n",
       "        vertical-align: top;\n",
       "    }\n",
       "\n",
       "    .dataframe thead th {\n",
       "        text-align: right;\n",
       "    }\n",
       "</style>\n",
       "<table border=\"1\" class=\"dataframe\">\n",
       "  <thead>\n",
       "    <tr style=\"text-align: right;\">\n",
       "      <th></th>\n",
       "      <th>TOTAL_WORKER_POSITIONS</th>\n",
       "      <th>CHANGE_PREVIOUS_EMPLOYMENT</th>\n",
       "      <th>NEW_CONCURRENT_EMPLOYMENT</th>\n",
       "      <th>CHANGE_EMPLOYER</th>\n",
       "      <th>AMENDED_PETITION</th>\n",
       "      <th>NAICS_CODE</th>\n",
       "      <th>WORKSITE_WORKERS_1</th>\n",
       "      <th>PREVAILING_WAGE_1</th>\n",
       "      <th>PW_OES_YEAR_1</th>\n",
       "      <th>PW_NON-OES_YEAR_1</th>\n",
       "      <th>...</th>\n",
       "      <th>PW_NON-OES_YEAR_9</th>\n",
       "      <th>PW_SURVEY_PUBLISHER_9</th>\n",
       "      <th>WORKSITE_WORKERS_10</th>\n",
       "      <th>WORKSITE_POSTAL_CODE_10</th>\n",
       "      <th>WAGE_RATE_OF_PAY_FROM_10</th>\n",
       "      <th>WAGE_RATE_OF_PAY_TO_10</th>\n",
       "      <th>PREVAILING_WAGE_10</th>\n",
       "      <th>PW_OES_YEAR_10</th>\n",
       "      <th>PW_NON-OES_YEAR_10</th>\n",
       "      <th>PW_SURVEY_PUBLISHER_10</th>\n",
       "    </tr>\n",
       "  </thead>\n",
       "  <tbody>\n",
       "    <tr>\n",
       "      <th>count</th>\n",
       "      <td>583805.000000</td>\n",
       "      <td>583806.000000</td>\n",
       "      <td>583805.000000</td>\n",
       "      <td>583806.000000</td>\n",
       "      <td>583806.000000</td>\n",
       "      <td>583805.000000</td>\n",
       "      <td>534016.000000</td>\n",
       "      <td>579125.000000</td>\n",
       "      <td>67730.000000</td>\n",
       "      <td>5.097420e+05</td>\n",
       "      <td>...</td>\n",
       "      <td>277.000000</td>\n",
       "      <td>57.000000</td>\n",
       "      <td>238.000000</td>\n",
       "      <td>238.000000</td>\n",
       "      <td>238.000000</td>\n",
       "      <td>85.000000</td>\n",
       "      <td>238.000000</td>\n",
       "      <td>48.000000</td>\n",
       "      <td>187.000000</td>\n",
       "      <td>48.000000</td>\n",
       "    </tr>\n",
       "    <tr>\n",
       "      <th>mean</th>\n",
       "      <td>1.671714</td>\n",
       "      <td>0.124814</td>\n",
       "      <td>0.014568</td>\n",
       "      <td>0.273586</td>\n",
       "      <td>0.237969</td>\n",
       "      <td>450683.011088</td>\n",
       "      <td>5.085670</td>\n",
       "      <td>84334.469125</td>\n",
       "      <td>2020.812255</td>\n",
       "      <td>2.036252e+03</td>\n",
       "      <td>...</td>\n",
       "      <td>2018.422383</td>\n",
       "      <td>2017.877193</td>\n",
       "      <td>2.554622</td>\n",
       "      <td>43783.567227</td>\n",
       "      <td>137885.080042</td>\n",
       "      <td>161120.681294</td>\n",
       "      <td>99383.167017</td>\n",
       "      <td>2017.979167</td>\n",
       "      <td>2018.427807</td>\n",
       "      <td>2017.979167</td>\n",
       "    </tr>\n",
       "    <tr>\n",
       "      <th>std</th>\n",
       "      <td>4.677798</td>\n",
       "      <td>0.951355</td>\n",
       "      <td>0.300402</td>\n",
       "      <td>1.169960</td>\n",
       "      <td>0.939516</td>\n",
       "      <td>189651.800010</td>\n",
       "      <td>496.535692</td>\n",
       "      <td>35379.050487</td>\n",
       "      <td>421.641867</td>\n",
       "      <td>1.222907e+04</td>\n",
       "      <td>...</td>\n",
       "      <td>0.550300</td>\n",
       "      <td>0.708877</td>\n",
       "      <td>5.226834</td>\n",
       "      <td>29096.518321</td>\n",
       "      <td>102360.602875</td>\n",
       "      <td>112832.514403</td>\n",
       "      <td>61366.388324</td>\n",
       "      <td>0.325484</td>\n",
       "      <td>0.547602</td>\n",
       "      <td>0.325484</td>\n",
       "    </tr>\n",
       "    <tr>\n",
       "      <th>min</th>\n",
       "      <td>1.000000</td>\n",
       "      <td>0.000000</td>\n",
       "      <td>0.000000</td>\n",
       "      <td>0.000000</td>\n",
       "      <td>0.000000</td>\n",
       "      <td>31.000000</td>\n",
       "      <td>1.000000</td>\n",
       "      <td>7.250000</td>\n",
       "      <td>1.000000</td>\n",
       "      <td>1.000000e+00</td>\n",
       "      <td>...</td>\n",
       "      <td>2018.000000</td>\n",
       "      <td>2013.000000</td>\n",
       "      <td>1.000000</td>\n",
       "      <td>2115.000000</td>\n",
       "      <td>24.550000</td>\n",
       "      <td>31.480000</td>\n",
       "      <td>24.550000</td>\n",
       "      <td>2017.000000</td>\n",
       "      <td>2018.000000</td>\n",
       "      <td>2017.000000</td>\n",
       "    </tr>\n",
       "    <tr>\n",
       "      <th>25%</th>\n",
       "      <td>1.000000</td>\n",
       "      <td>0.000000</td>\n",
       "      <td>0.000000</td>\n",
       "      <td>0.000000</td>\n",
       "      <td>0.000000</td>\n",
       "      <td>454111.000000</td>\n",
       "      <td>1.000000</td>\n",
       "      <td>69285.000000</td>\n",
       "      <td>2018.000000</td>\n",
       "      <td>2.018000e+03</td>\n",
       "      <td>...</td>\n",
       "      <td>2018.000000</td>\n",
       "      <td>2018.000000</td>\n",
       "      <td>1.000000</td>\n",
       "      <td>18510.000000</td>\n",
       "      <td>58369.250000</td>\n",
       "      <td>70082.000000</td>\n",
       "      <td>58067.190000</td>\n",
       "      <td>2018.000000</td>\n",
       "      <td>2018.000000</td>\n",
       "      <td>2018.000000</td>\n",
       "    </tr>\n",
       "    <tr>\n",
       "      <th>50%</th>\n",
       "      <td>1.000000</td>\n",
       "      <td>0.000000</td>\n",
       "      <td>0.000000</td>\n",
       "      <td>0.000000</td>\n",
       "      <td>0.000000</td>\n",
       "      <td>541511.000000</td>\n",
       "      <td>1.000000</td>\n",
       "      <td>84240.000000</td>\n",
       "      <td>2018.000000</td>\n",
       "      <td>2.018000e+03</td>\n",
       "      <td>...</td>\n",
       "      <td>2018.000000</td>\n",
       "      <td>2018.000000</td>\n",
       "      <td>1.000000</td>\n",
       "      <td>40712.500000</td>\n",
       "      <td>97084.000000</td>\n",
       "      <td>140000.000000</td>\n",
       "      <td>75025.500000</td>\n",
       "      <td>2018.000000</td>\n",
       "      <td>2018.000000</td>\n",
       "      <td>2018.000000</td>\n",
       "    </tr>\n",
       "    <tr>\n",
       "      <th>75%</th>\n",
       "      <td>1.000000</td>\n",
       "      <td>0.000000</td>\n",
       "      <td>0.000000</td>\n",
       "      <td>0.000000</td>\n",
       "      <td>0.000000</td>\n",
       "      <td>541512.000000</td>\n",
       "      <td>1.000000</td>\n",
       "      <td>102398.000000</td>\n",
       "      <td>2018.000000</td>\n",
       "      <td>2.019000e+03</td>\n",
       "      <td>...</td>\n",
       "      <td>2019.000000</td>\n",
       "      <td>2018.000000</td>\n",
       "      <td>1.000000</td>\n",
       "      <td>71748.000000</td>\n",
       "      <td>210000.000000</td>\n",
       "      <td>218160.000000</td>\n",
       "      <td>141263.000000</td>\n",
       "      <td>2018.000000</td>\n",
       "      <td>2019.000000</td>\n",
       "      <td>2018.000000</td>\n",
       "    </tr>\n",
       "    <tr>\n",
       "      <th>max</th>\n",
       "      <td>594.000000</td>\n",
       "      <td>338.000000</td>\n",
       "      <td>99.000000</td>\n",
       "      <td>99.000000</td>\n",
       "      <td>99.000000</td>\n",
       "      <td>928120.000000</td>\n",
       "      <td>160500.000000</td>\n",
       "      <td>849680.000000</td>\n",
       "      <td>72000.000000</td>\n",
       "      <td>8.731800e+06</td>\n",
       "      <td>...</td>\n",
       "      <td>2020.000000</td>\n",
       "      <td>2019.000000</td>\n",
       "      <td>45.000000</td>\n",
       "      <td>99218.000000</td>\n",
       "      <td>525000.000000</td>\n",
       "      <td>500000.000000</td>\n",
       "      <td>282235.000000</td>\n",
       "      <td>2019.000000</td>\n",
       "      <td>2020.000000</td>\n",
       "      <td>2019.000000</td>\n",
       "    </tr>\n",
       "  </tbody>\n",
       "</table>\n",
       "<p>8 rows × 82 columns</p>\n",
       "</div>"
      ],
      "text/plain": [
       "       TOTAL_WORKER_POSITIONS  CHANGE_PREVIOUS_EMPLOYMENT  \\\n",
       "count           583805.000000               583806.000000   \n",
       "mean                 1.671714                    0.124814   \n",
       "std                  4.677798                    0.951355   \n",
       "min                  1.000000                    0.000000   \n",
       "25%                  1.000000                    0.000000   \n",
       "50%                  1.000000                    0.000000   \n",
       "75%                  1.000000                    0.000000   \n",
       "max                594.000000                  338.000000   \n",
       "\n",
       "       NEW_CONCURRENT_EMPLOYMENT  CHANGE_EMPLOYER  AMENDED_PETITION  \\\n",
       "count              583805.000000    583806.000000     583806.000000   \n",
       "mean                    0.014568         0.273586          0.237969   \n",
       "std                     0.300402         1.169960          0.939516   \n",
       "min                     0.000000         0.000000          0.000000   \n",
       "25%                     0.000000         0.000000          0.000000   \n",
       "50%                     0.000000         0.000000          0.000000   \n",
       "75%                     0.000000         0.000000          0.000000   \n",
       "max                    99.000000        99.000000         99.000000   \n",
       "\n",
       "          NAICS_CODE  WORKSITE_WORKERS_1  PREVAILING_WAGE_1  PW_OES_YEAR_1  \\\n",
       "count  583805.000000       534016.000000      579125.000000   67730.000000   \n",
       "mean   450683.011088            5.085670       84334.469125    2020.812255   \n",
       "std    189651.800010          496.535692       35379.050487     421.641867   \n",
       "min        31.000000            1.000000           7.250000       1.000000   \n",
       "25%    454111.000000            1.000000       69285.000000    2018.000000   \n",
       "50%    541511.000000            1.000000       84240.000000    2018.000000   \n",
       "75%    541512.000000            1.000000      102398.000000    2018.000000   \n",
       "max    928120.000000       160500.000000      849680.000000   72000.000000   \n",
       "\n",
       "       PW_NON-OES_YEAR_1  ...  PW_NON-OES_YEAR_9  PW_SURVEY_PUBLISHER_9  \\\n",
       "count       5.097420e+05  ...         277.000000              57.000000   \n",
       "mean        2.036252e+03  ...        2018.422383            2017.877193   \n",
       "std         1.222907e+04  ...           0.550300               0.708877   \n",
       "min         1.000000e+00  ...        2018.000000            2013.000000   \n",
       "25%         2.018000e+03  ...        2018.000000            2018.000000   \n",
       "50%         2.018000e+03  ...        2018.000000            2018.000000   \n",
       "75%         2.019000e+03  ...        2019.000000            2018.000000   \n",
       "max         8.731800e+06  ...        2020.000000            2019.000000   \n",
       "\n",
       "       WORKSITE_WORKERS_10  WORKSITE_POSTAL_CODE_10  WAGE_RATE_OF_PAY_FROM_10  \\\n",
       "count           238.000000               238.000000                238.000000   \n",
       "mean              2.554622             43783.567227             137885.080042   \n",
       "std               5.226834             29096.518321             102360.602875   \n",
       "min               1.000000              2115.000000                 24.550000   \n",
       "25%               1.000000             18510.000000              58369.250000   \n",
       "50%               1.000000             40712.500000              97084.000000   \n",
       "75%               1.000000             71748.000000             210000.000000   \n",
       "max              45.000000             99218.000000             525000.000000   \n",
       "\n",
       "       WAGE_RATE_OF_PAY_TO_10  PREVAILING_WAGE_10  PW_OES_YEAR_10  \\\n",
       "count               85.000000          238.000000       48.000000   \n",
       "mean            161120.681294        99383.167017     2017.979167   \n",
       "std             112832.514403        61366.388324        0.325484   \n",
       "min                 31.480000           24.550000     2017.000000   \n",
       "25%              70082.000000        58067.190000     2018.000000   \n",
       "50%             140000.000000        75025.500000     2018.000000   \n",
       "75%             218160.000000       141263.000000     2018.000000   \n",
       "max             500000.000000       282235.000000     2019.000000   \n",
       "\n",
       "       PW_NON-OES_YEAR_10  PW_SURVEY_PUBLISHER_10  \n",
       "count          187.000000               48.000000  \n",
       "mean          2018.427807             2017.979167  \n",
       "std              0.547602                0.325484  \n",
       "min           2018.000000             2017.000000  \n",
       "25%           2018.000000             2018.000000  \n",
       "50%           2018.000000             2018.000000  \n",
       "75%           2019.000000             2018.000000  \n",
       "max           2020.000000             2019.000000  \n",
       "\n",
       "[8 rows x 82 columns]"
      ]
     },
     "execution_count": 25,
     "metadata": {},
     "output_type": "execute_result"
    }
   ],
   "source": [
    "dataset.describe()"
   ]
  },
  {
   "cell_type": "code",
   "execution_count": 26,
   "metadata": {
    "colab": {
     "base_uri": "https://localhost:8080/"
    },
    "id": "5LyBGykyByaX",
    "outputId": "c8bcb07e-5ca8-4462-b0a8-7721aca36cf4"
   },
   "outputs": [
    {
     "data": {
      "text/plain": [
       "array(['H-1B', nan], dtype=object)"
      ]
     },
     "execution_count": 26,
     "metadata": {},
     "output_type": "execute_result"
    }
   ],
   "source": [
    "dataset['VISA_CLASS'].unique()"
   ]
  },
  {
   "cell_type": "code",
   "execution_count": 27,
   "metadata": {},
   "outputs": [
    {
     "data": {
      "text/plain": [
       "CASE_NUMBER           object\n",
       "CASE_STATUS           object\n",
       "CASE_SUBMITTED        object\n",
       "DECISION_DATE         object\n",
       "ORIGINAL_CERT_DATE    object\n",
       "                       ...  \n",
       "WILLFUL_VIOLATOR      object\n",
       "SUPPORT_H1B           object\n",
       "STATUTORY_BASIS       object\n",
       "MASTERS_EXEMPTION     object\n",
       "PUBLIC_DISCLOSURE     object\n",
       "Length: 260, dtype: object"
      ]
     },
     "execution_count": 27,
     "metadata": {},
     "output_type": "execute_result"
    }
   ],
   "source": [
    "dataset.dtypes"
   ]
  },
  {
   "cell_type": "code",
   "execution_count": 28,
   "metadata": {},
   "outputs": [
    {
     "data": {
      "text/plain": [
       "array(['CERTIFIED', 'DENIED', nan], dtype=object)"
      ]
     },
     "execution_count": 28,
     "metadata": {},
     "output_type": "execute_result"
    }
   ],
   "source": [
    "dataset['CASE_STATUS'].unique()"
   ]
  },
  {
   "cell_type": "code",
   "execution_count": 29,
   "metadata": {},
   "outputs": [
    {
     "data": {
      "text/plain": [
       "(967737, 260)"
      ]
     },
     "execution_count": 29,
     "metadata": {},
     "output_type": "execute_result"
    }
   ],
   "source": [
    "dataset.shape"
   ]
  },
  {
   "cell_type": "code",
   "execution_count": 30,
   "metadata": {},
   "outputs": [
    {
     "data": {
      "text/plain": [
       "array(['UNITED STATES OF AMERICA', 'CANADA', 'TURKEY', 'INDIA',\n",
       "       'GUATEMALA', 'AFGHANISTAN', 'ALBANIA', 'AUSTRALIA', nan],\n",
       "      dtype=object)"
      ]
     },
     "execution_count": 30,
     "metadata": {},
     "output_type": "execute_result"
    }
   ],
   "source": [
    "dataset['EMPLOYER_COUNTRY'].unique()"
   ]
  },
  {
   "cell_type": "code",
   "execution_count": 31,
   "metadata": {},
   "outputs": [
    {
     "data": {
      "text/plain": [
       "UNITED STATES OF AMERICA    583774\n",
       "CANADA                          23\n",
       "INDIA                            3\n",
       "GUATEMALA                        2\n",
       "TURKEY                           1\n",
       "AFGHANISTAN                      1\n",
       "ALBANIA                          1\n",
       "AUSTRALIA                        1\n",
       "Name: EMPLOYER_COUNTRY, dtype: int64"
      ]
     },
     "execution_count": 31,
     "metadata": {},
     "output_type": "execute_result"
    }
   ],
   "source": [
    "dataset['EMPLOYER_COUNTRY'].value_counts()"
   ]
  },
  {
   "cell_type": "code",
   "execution_count": 32,
   "metadata": {},
   "outputs": [
    {
     "data": {
      "text/plain": [
       "array(['UNITED STATES OF AMERICA', 'CANADA', 'TURKEY', 'INDIA',\n",
       "       'GUATEMALA', 'AFGHANISTAN', 'ALBANIA', 'AUSTRALIA', nan],\n",
       "      dtype=object)"
      ]
     },
     "execution_count": 32,
     "metadata": {},
     "output_type": "execute_result"
    }
   ],
   "source": [
    "dataset['EMPLOYER_COUNTRY'].unique()"
   ]
  },
  {
   "cell_type": "code",
   "execution_count": 33,
   "metadata": {},
   "outputs": [
    {
     "data": {
      "text/plain": [
       "array(['FANTUAN GROUP INC', 'TPUSA-FHCS', 'UNIVERSITY OF TEXAS AT DALLAS',\n",
       "       ..., 'EVEREST CONSULTANTS, INC.',\n",
       "       'EMBRAER EXECUTIVE AIRCRAFT, INC.',\n",
       "       'PORT LOGISTICS TERMINAL OPERATIONS, LLC'], dtype=object)"
      ]
     },
     "execution_count": 33,
     "metadata": {},
     "output_type": "execute_result"
    }
   ],
   "source": [
    "dataset['EMPLOYER_NAME'].unique()"
   ]
  },
  {
   "cell_type": "code",
   "execution_count": 34,
   "metadata": {},
   "outputs": [
    {
     "data": {
      "text/plain": [
       "array(['Y', 'N', nan], dtype=object)"
      ]
     },
     "execution_count": 34,
     "metadata": {},
     "output_type": "execute_result"
    }
   ],
   "source": [
    "dataset['AGENT_REPRESENTING_EMPLOYER'].unique()"
   ]
  },
  {
   "cell_type": "code",
   "execution_count": 35,
   "metadata": {},
   "outputs": [
    {
     "data": {
      "text/plain": [
       "array(['ADVERSTING AND PROMOTIONS MANAGER',\n",
       "       'ADVERTISING AND PROMOTIONS DIRECTOR', 'PROGRAM MANAGER I', ...,\n",
       "       'CONTAINER MOBILE HARBOR CRANE OPERATOR',\n",
       "       'DIGITAL TOUCHPOINTS ANALYST', nan], dtype=object)"
      ]
     },
     "execution_count": 35,
     "metadata": {},
     "output_type": "execute_result"
    }
   ],
   "source": [
    "dataset['JOB_TITLE'].unique()"
   ]
  },
  {
   "cell_type": "code",
   "execution_count": 36,
   "metadata": {},
   "outputs": [
    {
     "data": {
      "text/plain": [
       "array(['11-2011', '11-2021', '11-2022', '11-2031', '15-1132', '15-1133',\n",
       "       '17-2112', '27-1021', '29-1122', '11-3011', '11-3021', '11-3031',\n",
       "       '11-3051', '11-3061', '11-3071', '11-3111', '11-3121', '11-3131',\n",
       "       '11-9013', '11-9021', '11-9031', '11-9032', '11-9033', '11-9039',\n",
       "       '11-9041', '11-9051', '11-9081', '11-9111', '11-9121', '11-9141',\n",
       "       '11-9151', '11-9161', '11-9199', '11-1011', '11-1021',\n",
       "       '11-3031.02', '11-3051.01', '11-3071.03', '11-9199.02',\n",
       "       '11-9199.07', '13-1011', '13-1021', '13-1022', '13-1023',\n",
       "       '13-1031', '13-1041', '13-1041.07', '13-1051', '13-1071',\n",
       "       '13-1075', '13-1081', '13-1081.00', '13-1111', '13-1111.00',\n",
       "       '13-1121', '13-1131', '13-1141', '13-1151', '13-1161',\n",
       "       '13-1161.00', '13-1199', '13-2011', '13-2021', '13-2031',\n",
       "       '13-2041', '13-2051', '13-2052', '13-2053', '13-2061', '13-2071',\n",
       "       '13-2072', '13-2081', '13-2082', '13-2099', '13-2099.01',\n",
       "       '13-2099.02', '15-1021.00', '15-1022', '15-1023', '15-1034',\n",
       "       '15-1035', '15-1036', '15-1037', '15-1051.00', '15-1052',\n",
       "       '15-1053', '15-1054', '15-1055', '15-1099', '15-1109', '15-1111',\n",
       "       '15-1111.00', '15-1121', '15-1122', '15-1131', '15-1133.00',\n",
       "       '15-1134', '15-1141', '15-1141.00', '15-1142', '15-1143',\n",
       "       '15-1150', '15-1151', '15-1152', '15-1199', '15-1199.00',\n",
       "       '15-1199.01', '15-1199.02', '15-1199.06', '15-1199.08',\n",
       "       '15-1199.09', '15-2011', '15-2021', '15-2021.00', '15-2031',\n",
       "       '15-2041', '15-2041.00', '15-2041.01', '15-2091', '15-2099',\n",
       "       '15-3021', '17-1011', '17-1011.00', '17-1012', '17-1021',\n",
       "       '17-1022', '17-2011', '17-2021', '17-2031', '17-2041', '17-2051',\n",
       "       '17-2051.00', '17-2052', '17-2053', '17-2061', '17-2062',\n",
       "       '17-2063', '17-2071', '17-2071.00', '17-2072', '17-2073',\n",
       "       '17-2074', '17-2075', '17-2076', '17-2081', '17-2111',\n",
       "       '17-2112.00', '17-2121', '17-2131', '17-2141', '17-2141.00',\n",
       "       '17-2143', '17-2144', '17-2151', '17-2161', '17-2171', '17-2199',\n",
       "       '17-2199.02', '17-3011', '17-3011.00', '17-3012', '17-3013',\n",
       "       '17-3019', '17-3021', '17-3022', '17-3023', '17-3025', '17-3026',\n",
       "       '17-3027', '17-3029', '17-3031', '19-1011', '19-1012',\n",
       "       '19-1012.00', '19-1013', '19-1021', '19-1022', '19-1023',\n",
       "       '19-1029', '19-1029.01', '19-1031', '19-1032', '19-1041',\n",
       "       '19-1042', '19-1099', '19-2011', '19-2012', '19-2021', '19-2031',\n",
       "       '19-2032', '19-2041', '19-2042', '19-2043', '19-2099', '19-3011',\n",
       "       '19-3011.00', '19-3022', '19-3031', '19-3032', '19-3039',\n",
       "       '19-3041', '19-3051', '19-3091', '19-3092', '19-3093', '19-3094',\n",
       "       '19-3099', '19-3111', '19-4011', '19-4021', '19-4031', '19-4041',\n",
       "       '19-4051', '19-4061', '19-4091', '19-4092', '19-4099', '21-1011',\n",
       "       '21-1012', '21-1013', '21-1014', '21-1015', '21-1019', '21-1021',\n",
       "       '21-1022', '21-1023', '21-1029', '21-1091', '21-1093', '21-1094',\n",
       "       '21-1099', '21-2011', '21-2021', '21-2099', '23-1011', '23-1012',\n",
       "       '23-1022', '23-2011', '23-2099', '25-1011', '25-1021', '25-1022',\n",
       "       '25-1031', '25-1032', '25-1041', '25-1042', '25-1043', '25-1051',\n",
       "       '25-1052', '25-1053', '25-1054', '25-1061', '25-1062', '25-1063',\n",
       "       '25-1064', '25-1065', '25-1066', '25-1067', '25-1069', '25-1071',\n",
       "       '25-1072', '25-1081', '25-1082', '25-1111', '25-1112', '25-1113',\n",
       "       '25-1121', '25-1122', '25-1123', '25-1124', '25-1125', '25-1126',\n",
       "       '25-1191', '25-1192', '25-1193', '25-1194', '25-1199', '25-2011',\n",
       "       '25-2012', '25-2021', '25-2021.00', '25-2022', '25-2023',\n",
       "       '25-2031', '25-2032', '25-2041', '25-2051', '25-2052', '25-2053',\n",
       "       '25-2054', '25-2059', '25-3011', '25-3021', '25-3098', '25-3099',\n",
       "       '25-4011', '25-4012', '25-4013', '25-4021', '25-9011', '25-9021',\n",
       "       '25-9031', '25-9041', '25-9099', '27-1011', '27-1012', '27-1013',\n",
       "       '27-1014', '27-1014.00', '27-1019', '27-1022', '27-1023',\n",
       "       '27-1024', '27-1025', '27-1027', '27-1029', '27-2012', '27-2021',\n",
       "       '27-2022', '27-2032', '27-2041', '27-2042', '27-3011', '27-3021',\n",
       "       '27-3022', '27-3031', '27-3041', '27-3042', '27-3043', '27-3091',\n",
       "       '27-3099', '27-4012', '27-4014', '27-4021', '27-4032', '29-1011',\n",
       "       '29-1021', '29-1021.00', '29-1022', '29-1023', '29-1024',\n",
       "       '29-1029', '29-1031', '29-1041', '29-1051', '29-1061', '29-1062',\n",
       "       '29-1063', '29-1064', '29-1065', '29-1066', '29-1067', '29-1068',\n",
       "       '29-1069', '29-1069.99', '29-1071', '29-1081', '29-1111',\n",
       "       '29-1123', '29-1123.00', '29-1125', '29-1126', '29-1127',\n",
       "       '29-1128', '29-1129', '29-1131', '29-1141', '29-1151', '29-1171',\n",
       "       '29-1181', '29-1199', '29-2011', '29-2011.00', '29-2012',\n",
       "       '29-2041', '29-2052', '29-2053', '29-2056', '29-2071', '29-2081',\n",
       "       '29-2091', '29-2099', '29-9011', '29-9091', '29-9092', '29-9099',\n",
       "       '31-1011', '31-2021', '31-9091', '31-9092', '31-9096', '31-9099',\n",
       "       '33-3021', '33-9021', '35-1011', '35-1012', '35-2014', '37-2012',\n",
       "       '37-3011', '39-1021', '39-5092', '39-7011', '39-7012', '39-9011',\n",
       "       '39-9021', '39-9031', '39-9032', '39-9041', '41-1012', '41-2031',\n",
       "       '41-3011', '41-3021', '41-3031', '41-3031.03', '41-3099',\n",
       "       '41-4011', '41-4012', '41-9011', '41-9012', '41-9021', '41-9031',\n",
       "       '41-9099', '43-1011', '43-3021', '43-3031', '43-3051', '43-3061',\n",
       "       '43-3099', '43-4011', '43-4051', '43-4131', '43-4161', '43-4171',\n",
       "       '43-5011', '43-5061', '43-6011', '43-6012', '43-6013', '43-6014',\n",
       "       '43-9011', '43-9021', '43-9031', '43-9051', '43-9061', '43-9081',\n",
       "       '43-9111', '43-9199', '45-1011', '45-2011', '45-2021', '45-2092',\n",
       "       '47-1011', '47-2011', '47-2031', '47-2042', '47-2044', '47-2051',\n",
       "       '47-2061', '47-2073', '47-2111', '47-2152', '47-3013', '47-3019',\n",
       "       '47-4011', '47-4099', '49-1011', '49-2022', '49-2093', '49-2094',\n",
       "       '49-2098', '49-3011', '49-3023', '49-3031', '49-9062', '49-9063',\n",
       "       '49-9071', '49-9098', '51-1011', '51-2041', '51-3011', '51-3092',\n",
       "       '51-3093', '51-4012', '51-4071', '51-4121', '51-5112', '51-7041',\n",
       "       '51-7042', '51-8091', '51-9012', '51-9061', '51-9071', '51-9081',\n",
       "       '51-9199', '53-2011', '53-2012', '53-2022', '53-3032', '53-6041',\n",
       "       '53-6051', '53-7021', 'OPERATIONS RESEARCH ANALYSTS', nan],\n",
       "      dtype=object)"
      ]
     },
     "execution_count": 36,
     "metadata": {},
     "output_type": "execute_result"
    }
   ],
   "source": [
    "dataset['SOC_CODE'].unique()"
   ]
  },
  {
   "cell_type": "code",
   "execution_count": 37,
   "metadata": {},
   "outputs": [
    {
     "data": {
      "text/plain": [
       "(967737, 260)"
      ]
     },
     "execution_count": 37,
     "metadata": {},
     "output_type": "execute_result"
    }
   ],
   "source": [
    "dataset.shape"
   ]
  },
  {
   "cell_type": "code",
   "execution_count": 38,
   "metadata": {},
   "outputs": [],
   "source": [
    "dataset.CASE_STATUS.replace(['CERTIFIED','DENIED'],[1,0],inplace=True)"
   ]
  },
  {
   "cell_type": "code",
   "execution_count": 39,
   "metadata": {
    "id": "VP9p4npdByNW"
   },
   "outputs": [],
   "source": [
    "#creating new dataset with selected features\n",
    "dt2 = dataset[['CASE_STATUS','AGENT_REPRESENTING_EMPLOYER', 'VISA_CLASS', 'JOB_TITLE', 'FULL_TIME_POSITION', 'H-1B_DEPENDENT', 'EMPLOYER_NAME', 'SECONDARY_ENTITY_1', 'SOC_TITLE', 'SOC_CODE', 'NAICS_CODE', 'NEW_EMPLOYMENT','CONTINUED_EMPLOYMENT', 'CHANGE_PREVIOUS_EMPLOYMENT', 'NEW_CONCURRENT_EMPLOYMENT', 'CHANGE_EMPLOYER', 'AMENDED_PETITION', 'WILLFUL_VIOLATOR', 'WAGE_RATE_OF_PAY_FROM_1','WAGE_RATE_OF_PAY_TO_1', 'WAGE_UNIT_OF_PAY_1','TOTAL_WORKER_POSITIONS','PREVAILING_WAGE_1']]"
   ]
  },
  {
   "cell_type": "code",
   "execution_count": 40,
   "metadata": {},
   "outputs": [
    {
     "data": {
      "text/html": [
       "<div>\n",
       "<style scoped>\n",
       "    .dataframe tbody tr th:only-of-type {\n",
       "        vertical-align: middle;\n",
       "    }\n",
       "\n",
       "    .dataframe tbody tr th {\n",
       "        vertical-align: top;\n",
       "    }\n",
       "\n",
       "    .dataframe thead th {\n",
       "        text-align: right;\n",
       "    }\n",
       "</style>\n",
       "<table border=\"1\" class=\"dataframe\">\n",
       "  <thead>\n",
       "    <tr style=\"text-align: right;\">\n",
       "      <th></th>\n",
       "      <th>CASE_STATUS</th>\n",
       "      <th>AGENT_REPRESENTING_EMPLOYER</th>\n",
       "      <th>VISA_CLASS</th>\n",
       "      <th>JOB_TITLE</th>\n",
       "      <th>FULL_TIME_POSITION</th>\n",
       "      <th>H-1B_DEPENDENT</th>\n",
       "      <th>EMPLOYER_NAME</th>\n",
       "      <th>SECONDARY_ENTITY_1</th>\n",
       "      <th>SOC_TITLE</th>\n",
       "      <th>SOC_CODE</th>\n",
       "      <th>...</th>\n",
       "      <th>CHANGE_PREVIOUS_EMPLOYMENT</th>\n",
       "      <th>NEW_CONCURRENT_EMPLOYMENT</th>\n",
       "      <th>CHANGE_EMPLOYER</th>\n",
       "      <th>AMENDED_PETITION</th>\n",
       "      <th>WILLFUL_VIOLATOR</th>\n",
       "      <th>WAGE_RATE_OF_PAY_FROM_1</th>\n",
       "      <th>WAGE_RATE_OF_PAY_TO_1</th>\n",
       "      <th>WAGE_UNIT_OF_PAY_1</th>\n",
       "      <th>TOTAL_WORKER_POSITIONS</th>\n",
       "      <th>PREVAILING_WAGE_1</th>\n",
       "    </tr>\n",
       "  </thead>\n",
       "  <tbody>\n",
       "    <tr>\n",
       "      <th>24</th>\n",
       "      <td>1.0</td>\n",
       "      <td>Y</td>\n",
       "      <td>H-1B</td>\n",
       "      <td>ADVERSTING AND PROMOTIONS MANAGER</td>\n",
       "      <td>N</td>\n",
       "      <td>N</td>\n",
       "      <td>FANTUAN GROUP INC</td>\n",
       "      <td>NaN</td>\n",
       "      <td>ADVERTISING AND PROMOTIONS MANAGERS</td>\n",
       "      <td>11-2011</td>\n",
       "      <td>...</td>\n",
       "      <td>0.0</td>\n",
       "      <td>0.0</td>\n",
       "      <td>0.0</td>\n",
       "      <td>0.0</td>\n",
       "      <td>N</td>\n",
       "      <td>$33.00</td>\n",
       "      <td>NaN</td>\n",
       "      <td>Hour</td>\n",
       "      <td>1.0</td>\n",
       "      <td>NaN</td>\n",
       "    </tr>\n",
       "    <tr>\n",
       "      <th>26</th>\n",
       "      <td>1.0</td>\n",
       "      <td>Y</td>\n",
       "      <td>H-1B</td>\n",
       "      <td>ADVERTISING AND PROMOTIONS DIRECTOR</td>\n",
       "      <td>Y</td>\n",
       "      <td>N</td>\n",
       "      <td>TPUSA-FHCS</td>\n",
       "      <td>NaN</td>\n",
       "      <td>ADVERTISING AND PROMOTIONS MANAGERS</td>\n",
       "      <td>11-2011</td>\n",
       "      <td>...</td>\n",
       "      <td>0.0</td>\n",
       "      <td>0.0</td>\n",
       "      <td>1.0</td>\n",
       "      <td>0.0</td>\n",
       "      <td>N</td>\n",
       "      <td>$99,000.00</td>\n",
       "      <td>NaN</td>\n",
       "      <td>Year</td>\n",
       "      <td>1.0</td>\n",
       "      <td>NaN</td>\n",
       "    </tr>\n",
       "  </tbody>\n",
       "</table>\n",
       "<p>2 rows × 23 columns</p>\n",
       "</div>"
      ],
      "text/plain": [
       "    CASE_STATUS AGENT_REPRESENTING_EMPLOYER VISA_CLASS  \\\n",
       "24          1.0                           Y       H-1B   \n",
       "26          1.0                           Y       H-1B   \n",
       "\n",
       "                              JOB_TITLE FULL_TIME_POSITION H-1B_DEPENDENT  \\\n",
       "24    ADVERSTING AND PROMOTIONS MANAGER                  N              N   \n",
       "26  ADVERTISING AND PROMOTIONS DIRECTOR                  Y              N   \n",
       "\n",
       "        EMPLOYER_NAME SECONDARY_ENTITY_1                            SOC_TITLE  \\\n",
       "24  FANTUAN GROUP INC                NaN  ADVERTISING AND PROMOTIONS MANAGERS   \n",
       "26         TPUSA-FHCS                NaN  ADVERTISING AND PROMOTIONS MANAGERS   \n",
       "\n",
       "   SOC_CODE  ...  CHANGE_PREVIOUS_EMPLOYMENT NEW_CONCURRENT_EMPLOYMENT  \\\n",
       "24  11-2011  ...                         0.0                       0.0   \n",
       "26  11-2011  ...                         0.0                       0.0   \n",
       "\n",
       "   CHANGE_EMPLOYER  AMENDED_PETITION  WILLFUL_VIOLATOR  \\\n",
       "24             0.0               0.0                 N   \n",
       "26             1.0               0.0                 N   \n",
       "\n",
       "    WAGE_RATE_OF_PAY_FROM_1  WAGE_RATE_OF_PAY_TO_1 WAGE_UNIT_OF_PAY_1  \\\n",
       "24                   $33.00                    NaN               Hour   \n",
       "26               $99,000.00                    NaN               Year   \n",
       "\n",
       "   TOTAL_WORKER_POSITIONS PREVAILING_WAGE_1  \n",
       "24                    1.0               NaN  \n",
       "26                    1.0               NaN  \n",
       "\n",
       "[2 rows x 23 columns]"
      ]
     },
     "execution_count": 40,
     "metadata": {},
     "output_type": "execute_result"
    }
   ],
   "source": [
    "dt2.head(2)"
   ]
  },
  {
   "cell_type": "code",
   "execution_count": 41,
   "metadata": {},
   "outputs": [
    {
     "data": {
      "text/plain": [
       "(967737, 23)"
      ]
     },
     "execution_count": 41,
     "metadata": {},
     "output_type": "execute_result"
    }
   ],
   "source": [
    "dt2.shape"
   ]
  },
  {
   "cell_type": "code",
   "execution_count": 42,
   "metadata": {
    "colab": {
     "base_uri": "https://localhost:8080/",
     "height": 333
    },
    "id": "j7bjJuzvByDs",
    "outputId": "b70a7743-5fa0-4738-8f6f-c0e7f0f731c3"
   },
   "outputs": [
    {
     "data": {
      "text/html": [
       "<div>\n",
       "<style scoped>\n",
       "    .dataframe tbody tr th:only-of-type {\n",
       "        vertical-align: middle;\n",
       "    }\n",
       "\n",
       "    .dataframe tbody tr th {\n",
       "        vertical-align: top;\n",
       "    }\n",
       "\n",
       "    .dataframe thead th {\n",
       "        text-align: right;\n",
       "    }\n",
       "</style>\n",
       "<table border=\"1\" class=\"dataframe\">\n",
       "  <thead>\n",
       "    <tr style=\"text-align: right;\">\n",
       "      <th></th>\n",
       "      <th>CASE_STATUS</th>\n",
       "      <th>NAICS_CODE</th>\n",
       "      <th>CHANGE_PREVIOUS_EMPLOYMENT</th>\n",
       "      <th>NEW_CONCURRENT_EMPLOYMENT</th>\n",
       "      <th>CHANGE_EMPLOYER</th>\n",
       "      <th>AMENDED_PETITION</th>\n",
       "      <th>TOTAL_WORKER_POSITIONS</th>\n",
       "      <th>PREVAILING_WAGE_1</th>\n",
       "    </tr>\n",
       "  </thead>\n",
       "  <tbody>\n",
       "    <tr>\n",
       "      <th>CASE_STATUS</th>\n",
       "      <td>1.000000</td>\n",
       "      <td>0.019261</td>\n",
       "      <td>-0.009367</td>\n",
       "      <td>-0.003029</td>\n",
       "      <td>0.002131</td>\n",
       "      <td>0.002615</td>\n",
       "      <td>-0.004452</td>\n",
       "      <td>0.028283</td>\n",
       "    </tr>\n",
       "    <tr>\n",
       "      <th>NAICS_CODE</th>\n",
       "      <td>0.019261</td>\n",
       "      <td>1.000000</td>\n",
       "      <td>-0.031080</td>\n",
       "      <td>-0.039860</td>\n",
       "      <td>-0.099776</td>\n",
       "      <td>-0.120573</td>\n",
       "      <td>-0.107953</td>\n",
       "      <td>-0.033852</td>\n",
       "    </tr>\n",
       "    <tr>\n",
       "      <th>CHANGE_PREVIOUS_EMPLOYMENT</th>\n",
       "      <td>-0.009367</td>\n",
       "      <td>-0.031080</td>\n",
       "      <td>1.000000</td>\n",
       "      <td>0.302500</td>\n",
       "      <td>0.412826</td>\n",
       "      <td>0.519096</td>\n",
       "      <td>0.503080</td>\n",
       "      <td>0.036317</td>\n",
       "    </tr>\n",
       "    <tr>\n",
       "      <th>NEW_CONCURRENT_EMPLOYMENT</th>\n",
       "      <td>-0.003029</td>\n",
       "      <td>-0.039860</td>\n",
       "      <td>0.302500</td>\n",
       "      <td>1.000000</td>\n",
       "      <td>0.236780</td>\n",
       "      <td>0.296902</td>\n",
       "      <td>0.376653</td>\n",
       "      <td>-0.048329</td>\n",
       "    </tr>\n",
       "    <tr>\n",
       "      <th>CHANGE_EMPLOYER</th>\n",
       "      <td>0.002131</td>\n",
       "      <td>-0.099776</td>\n",
       "      <td>0.412826</td>\n",
       "      <td>0.236780</td>\n",
       "      <td>1.000000</td>\n",
       "      <td>0.524290</td>\n",
       "      <td>0.571664</td>\n",
       "      <td>0.096693</td>\n",
       "    </tr>\n",
       "    <tr>\n",
       "      <th>AMENDED_PETITION</th>\n",
       "      <td>0.002615</td>\n",
       "      <td>-0.120573</td>\n",
       "      <td>0.519096</td>\n",
       "      <td>0.296902</td>\n",
       "      <td>0.524290</td>\n",
       "      <td>1.000000</td>\n",
       "      <td>0.599843</td>\n",
       "      <td>0.048931</td>\n",
       "    </tr>\n",
       "    <tr>\n",
       "      <th>TOTAL_WORKER_POSITIONS</th>\n",
       "      <td>-0.004452</td>\n",
       "      <td>-0.107953</td>\n",
       "      <td>0.503080</td>\n",
       "      <td>0.376653</td>\n",
       "      <td>0.571664</td>\n",
       "      <td>0.599843</td>\n",
       "      <td>1.000000</td>\n",
       "      <td>0.043736</td>\n",
       "    </tr>\n",
       "    <tr>\n",
       "      <th>PREVAILING_WAGE_1</th>\n",
       "      <td>0.028283</td>\n",
       "      <td>-0.033852</td>\n",
       "      <td>0.036317</td>\n",
       "      <td>-0.048329</td>\n",
       "      <td>0.096693</td>\n",
       "      <td>0.048931</td>\n",
       "      <td>0.043736</td>\n",
       "      <td>1.000000</td>\n",
       "    </tr>\n",
       "  </tbody>\n",
       "</table>\n",
       "</div>"
      ],
      "text/plain": [
       "                            CASE_STATUS  NAICS_CODE  \\\n",
       "CASE_STATUS                    1.000000    0.019261   \n",
       "NAICS_CODE                     0.019261    1.000000   \n",
       "CHANGE_PREVIOUS_EMPLOYMENT    -0.009367   -0.031080   \n",
       "NEW_CONCURRENT_EMPLOYMENT     -0.003029   -0.039860   \n",
       "CHANGE_EMPLOYER                0.002131   -0.099776   \n",
       "AMENDED_PETITION               0.002615   -0.120573   \n",
       "TOTAL_WORKER_POSITIONS        -0.004452   -0.107953   \n",
       "PREVAILING_WAGE_1              0.028283   -0.033852   \n",
       "\n",
       "                            CHANGE_PREVIOUS_EMPLOYMENT  \\\n",
       "CASE_STATUS                                  -0.009367   \n",
       "NAICS_CODE                                   -0.031080   \n",
       "CHANGE_PREVIOUS_EMPLOYMENT                    1.000000   \n",
       "NEW_CONCURRENT_EMPLOYMENT                     0.302500   \n",
       "CHANGE_EMPLOYER                               0.412826   \n",
       "AMENDED_PETITION                              0.519096   \n",
       "TOTAL_WORKER_POSITIONS                        0.503080   \n",
       "PREVAILING_WAGE_1                             0.036317   \n",
       "\n",
       "                            NEW_CONCURRENT_EMPLOYMENT  CHANGE_EMPLOYER  \\\n",
       "CASE_STATUS                                 -0.003029         0.002131   \n",
       "NAICS_CODE                                  -0.039860        -0.099776   \n",
       "CHANGE_PREVIOUS_EMPLOYMENT                   0.302500         0.412826   \n",
       "NEW_CONCURRENT_EMPLOYMENT                    1.000000         0.236780   \n",
       "CHANGE_EMPLOYER                              0.236780         1.000000   \n",
       "AMENDED_PETITION                             0.296902         0.524290   \n",
       "TOTAL_WORKER_POSITIONS                       0.376653         0.571664   \n",
       "PREVAILING_WAGE_1                           -0.048329         0.096693   \n",
       "\n",
       "                            AMENDED_PETITION  TOTAL_WORKER_POSITIONS  \\\n",
       "CASE_STATUS                         0.002615               -0.004452   \n",
       "NAICS_CODE                         -0.120573               -0.107953   \n",
       "CHANGE_PREVIOUS_EMPLOYMENT          0.519096                0.503080   \n",
       "NEW_CONCURRENT_EMPLOYMENT           0.296902                0.376653   \n",
       "CHANGE_EMPLOYER                     0.524290                0.571664   \n",
       "AMENDED_PETITION                    1.000000                0.599843   \n",
       "TOTAL_WORKER_POSITIONS              0.599843                1.000000   \n",
       "PREVAILING_WAGE_1                   0.048931                0.043736   \n",
       "\n",
       "                            PREVAILING_WAGE_1  \n",
       "CASE_STATUS                          0.028283  \n",
       "NAICS_CODE                          -0.033852  \n",
       "CHANGE_PREVIOUS_EMPLOYMENT           0.036317  \n",
       "NEW_CONCURRENT_EMPLOYMENT           -0.048329  \n",
       "CHANGE_EMPLOYER                      0.096693  \n",
       "AMENDED_PETITION                     0.048931  \n",
       "TOTAL_WORKER_POSITIONS               0.043736  \n",
       "PREVAILING_WAGE_1                    1.000000  "
      ]
     },
     "execution_count": 42,
     "metadata": {},
     "output_type": "execute_result"
    }
   ],
   "source": [
    "dt2.corr()"
   ]
  },
  {
   "cell_type": "code",
   "execution_count": 43,
   "metadata": {},
   "outputs": [
    {
     "name": "stdout",
     "output_type": "stream",
     "text": [
      "<class 'pandas.core.frame.DataFrame'>\n",
      "Int64Index: 967737 entries, 24 to 1048546\n",
      "Data columns (total 23 columns):\n",
      " #   Column                       Non-Null Count   Dtype  \n",
      "---  ------                       --------------   -----  \n",
      " 0   CASE_STATUS                  583806 non-null  float64\n",
      " 1   AGENT_REPRESENTING_EMPLOYER  583801 non-null  object \n",
      " 2   VISA_CLASS                   583806 non-null  object \n",
      " 3   JOB_TITLE                    583806 non-null  object \n",
      " 4   FULL_TIME_POSITION           583806 non-null  object \n",
      " 5   H-1B_DEPENDENT               583786 non-null  object \n",
      " 6   EMPLOYER_NAME                583802 non-null  object \n",
      " 7   SECONDARY_ENTITY_1           534045 non-null  object \n",
      " 8   SOC_TITLE                    583802 non-null  object \n",
      " 9   SOC_CODE                     583802 non-null  object \n",
      " 10  NAICS_CODE                   583805 non-null  float64\n",
      " 11  NEW_EMPLOYMENT               583806 non-null  object \n",
      " 12  CONTINUED_EMPLOYMENT         583806 non-null  object \n",
      " 13  CHANGE_PREVIOUS_EMPLOYMENT   583806 non-null  float64\n",
      " 14  NEW_CONCURRENT_EMPLOYMENT    583805 non-null  float64\n",
      " 15  CHANGE_EMPLOYER              583806 non-null  float64\n",
      " 16  AMENDED_PETITION             583806 non-null  float64\n",
      " 17  WILLFUL_VIOLATOR             583786 non-null  object \n",
      " 18  WAGE_RATE_OF_PAY_FROM_1      583802 non-null  object \n",
      " 19  WAGE_RATE_OF_PAY_TO_1        298413 non-null  object \n",
      " 20  WAGE_UNIT_OF_PAY_1           583802 non-null  object \n",
      " 21  TOTAL_WORKER_POSITIONS       583805 non-null  float64\n",
      " 22  PREVAILING_WAGE_1            579125 non-null  float64\n",
      "dtypes: float64(8), object(15)\n",
      "memory usage: 177.2+ MB\n"
     ]
    }
   ],
   "source": [
    "dt2.info()"
   ]
  },
  {
   "cell_type": "code",
   "execution_count": 44,
   "metadata": {},
   "outputs": [],
   "source": [
    "#creating copy of newly formed dataset\n",
    "dt=dt2.copy(deep=True)"
   ]
  },
  {
   "cell_type": "code",
   "execution_count": 45,
   "metadata": {},
   "outputs": [
    {
     "data": {
      "text/plain": [
       "['AGENT_REPRESENTING_EMPLOYER',\n",
       " 'VISA_CLASS',\n",
       " 'JOB_TITLE',\n",
       " 'FULL_TIME_POSITION',\n",
       " 'H-1B_DEPENDENT',\n",
       " 'EMPLOYER_NAME',\n",
       " 'SECONDARY_ENTITY_1',\n",
       " 'SOC_TITLE',\n",
       " 'SOC_CODE',\n",
       " 'NEW_EMPLOYMENT',\n",
       " 'CONTINUED_EMPLOYMENT',\n",
       " 'WILLFUL_VIOLATOR',\n",
       " 'WAGE_RATE_OF_PAY_FROM_1',\n",
       " 'WAGE_RATE_OF_PAY_TO_1',\n",
       " 'WAGE_UNIT_OF_PAY_1']"
      ]
     },
     "execution_count": 45,
     "metadata": {},
     "output_type": "execute_result"
    }
   ],
   "source": [
    "#categorical columns\n",
    "categorical_columns = dt.select_dtypes(exclude='number').columns.to_list()\n",
    "categorical_columns"
   ]
  },
  {
   "cell_type": "code",
   "execution_count": 46,
   "metadata": {},
   "outputs": [
    {
     "data": {
      "text/plain": [
       "['CASE_STATUS',\n",
       " 'NAICS_CODE',\n",
       " 'CHANGE_PREVIOUS_EMPLOYMENT',\n",
       " 'NEW_CONCURRENT_EMPLOYMENT',\n",
       " 'CHANGE_EMPLOYER',\n",
       " 'AMENDED_PETITION',\n",
       " 'TOTAL_WORKER_POSITIONS',\n",
       " 'PREVAILING_WAGE_1']"
      ]
     },
     "execution_count": 46,
     "metadata": {},
     "output_type": "execute_result"
    }
   ],
   "source": [
    "#numerical columns\n",
    "numerical_columns = dt.select_dtypes(include='number').columns.to_list()\n",
    "numerical_columns"
   ]
  },
  {
   "cell_type": "code",
   "execution_count": 47,
   "metadata": {},
   "outputs": [
    {
     "data": {
      "text/html": [
       "<div>\n",
       "<style scoped>\n",
       "    .dataframe tbody tr th:only-of-type {\n",
       "        vertical-align: middle;\n",
       "    }\n",
       "\n",
       "    .dataframe tbody tr th {\n",
       "        vertical-align: top;\n",
       "    }\n",
       "\n",
       "    .dataframe thead th {\n",
       "        text-align: right;\n",
       "    }\n",
       "</style>\n",
       "<table border=\"1\" class=\"dataframe\">\n",
       "  <thead>\n",
       "    <tr style=\"text-align: right;\">\n",
       "      <th></th>\n",
       "      <th>CASE_STATUS</th>\n",
       "      <th>NAICS_CODE</th>\n",
       "      <th>CHANGE_PREVIOUS_EMPLOYMENT</th>\n",
       "      <th>NEW_CONCURRENT_EMPLOYMENT</th>\n",
       "      <th>CHANGE_EMPLOYER</th>\n",
       "      <th>AMENDED_PETITION</th>\n",
       "      <th>TOTAL_WORKER_POSITIONS</th>\n",
       "      <th>PREVAILING_WAGE_1</th>\n",
       "    </tr>\n",
       "  </thead>\n",
       "  <tbody>\n",
       "    <tr>\n",
       "      <th>count</th>\n",
       "      <td>583806.000000</td>\n",
       "      <td>583805.000000</td>\n",
       "      <td>583806.000000</td>\n",
       "      <td>583805.000000</td>\n",
       "      <td>583806.000000</td>\n",
       "      <td>583806.000000</td>\n",
       "      <td>583805.000000</td>\n",
       "      <td>579125.000000</td>\n",
       "    </tr>\n",
       "    <tr>\n",
       "      <th>mean</th>\n",
       "      <td>0.991151</td>\n",
       "      <td>450683.011088</td>\n",
       "      <td>0.124814</td>\n",
       "      <td>0.014568</td>\n",
       "      <td>0.273586</td>\n",
       "      <td>0.237969</td>\n",
       "      <td>1.671714</td>\n",
       "      <td>84334.469125</td>\n",
       "    </tr>\n",
       "    <tr>\n",
       "      <th>std</th>\n",
       "      <td>0.093651</td>\n",
       "      <td>189651.800010</td>\n",
       "      <td>0.951355</td>\n",
       "      <td>0.300402</td>\n",
       "      <td>1.169960</td>\n",
       "      <td>0.939516</td>\n",
       "      <td>4.677798</td>\n",
       "      <td>35379.050487</td>\n",
       "    </tr>\n",
       "    <tr>\n",
       "      <th>min</th>\n",
       "      <td>0.000000</td>\n",
       "      <td>31.000000</td>\n",
       "      <td>0.000000</td>\n",
       "      <td>0.000000</td>\n",
       "      <td>0.000000</td>\n",
       "      <td>0.000000</td>\n",
       "      <td>1.000000</td>\n",
       "      <td>7.250000</td>\n",
       "    </tr>\n",
       "    <tr>\n",
       "      <th>25%</th>\n",
       "      <td>1.000000</td>\n",
       "      <td>454111.000000</td>\n",
       "      <td>0.000000</td>\n",
       "      <td>0.000000</td>\n",
       "      <td>0.000000</td>\n",
       "      <td>0.000000</td>\n",
       "      <td>1.000000</td>\n",
       "      <td>69285.000000</td>\n",
       "    </tr>\n",
       "    <tr>\n",
       "      <th>50%</th>\n",
       "      <td>1.000000</td>\n",
       "      <td>541511.000000</td>\n",
       "      <td>0.000000</td>\n",
       "      <td>0.000000</td>\n",
       "      <td>0.000000</td>\n",
       "      <td>0.000000</td>\n",
       "      <td>1.000000</td>\n",
       "      <td>84240.000000</td>\n",
       "    </tr>\n",
       "    <tr>\n",
       "      <th>75%</th>\n",
       "      <td>1.000000</td>\n",
       "      <td>541512.000000</td>\n",
       "      <td>0.000000</td>\n",
       "      <td>0.000000</td>\n",
       "      <td>0.000000</td>\n",
       "      <td>0.000000</td>\n",
       "      <td>1.000000</td>\n",
       "      <td>102398.000000</td>\n",
       "    </tr>\n",
       "    <tr>\n",
       "      <th>max</th>\n",
       "      <td>1.000000</td>\n",
       "      <td>928120.000000</td>\n",
       "      <td>338.000000</td>\n",
       "      <td>99.000000</td>\n",
       "      <td>99.000000</td>\n",
       "      <td>99.000000</td>\n",
       "      <td>594.000000</td>\n",
       "      <td>849680.000000</td>\n",
       "    </tr>\n",
       "  </tbody>\n",
       "</table>\n",
       "</div>"
      ],
      "text/plain": [
       "         CASE_STATUS     NAICS_CODE  CHANGE_PREVIOUS_EMPLOYMENT  \\\n",
       "count  583806.000000  583805.000000               583806.000000   \n",
       "mean        0.991151  450683.011088                    0.124814   \n",
       "std         0.093651  189651.800010                    0.951355   \n",
       "min         0.000000      31.000000                    0.000000   \n",
       "25%         1.000000  454111.000000                    0.000000   \n",
       "50%         1.000000  541511.000000                    0.000000   \n",
       "75%         1.000000  541512.000000                    0.000000   \n",
       "max         1.000000  928120.000000                  338.000000   \n",
       "\n",
       "       NEW_CONCURRENT_EMPLOYMENT  CHANGE_EMPLOYER  AMENDED_PETITION  \\\n",
       "count              583805.000000    583806.000000     583806.000000   \n",
       "mean                    0.014568         0.273586          0.237969   \n",
       "std                     0.300402         1.169960          0.939516   \n",
       "min                     0.000000         0.000000          0.000000   \n",
       "25%                     0.000000         0.000000          0.000000   \n",
       "50%                     0.000000         0.000000          0.000000   \n",
       "75%                     0.000000         0.000000          0.000000   \n",
       "max                    99.000000        99.000000         99.000000   \n",
       "\n",
       "       TOTAL_WORKER_POSITIONS  PREVAILING_WAGE_1  \n",
       "count           583805.000000      579125.000000  \n",
       "mean                 1.671714       84334.469125  \n",
       "std                  4.677798       35379.050487  \n",
       "min                  1.000000           7.250000  \n",
       "25%                  1.000000       69285.000000  \n",
       "50%                  1.000000       84240.000000  \n",
       "75%                  1.000000      102398.000000  \n",
       "max                594.000000      849680.000000  "
      ]
     },
     "execution_count": 47,
     "metadata": {},
     "output_type": "execute_result"
    }
   ],
   "source": [
    "dt.describe()"
   ]
  },
  {
   "cell_type": "code",
   "execution_count": 48,
   "metadata": {},
   "outputs": [
    {
     "data": {
      "text/plain": [
       "CASE_STATUS                    383931\n",
       "AGENT_REPRESENTING_EMPLOYER    383936\n",
       "VISA_CLASS                     383931\n",
       "JOB_TITLE                      383931\n",
       "FULL_TIME_POSITION             383931\n",
       "H-1B_DEPENDENT                 383951\n",
       "EMPLOYER_NAME                  383935\n",
       "SECONDARY_ENTITY_1             433692\n",
       "SOC_TITLE                      383935\n",
       "SOC_CODE                       383935\n",
       "NAICS_CODE                     383932\n",
       "NEW_EMPLOYMENT                 383931\n",
       "CONTINUED_EMPLOYMENT           383931\n",
       "CHANGE_PREVIOUS_EMPLOYMENT     383931\n",
       "NEW_CONCURRENT_EMPLOYMENT      383932\n",
       "CHANGE_EMPLOYER                383931\n",
       "AMENDED_PETITION               383931\n",
       "WILLFUL_VIOLATOR               383951\n",
       "WAGE_RATE_OF_PAY_FROM_1        383935\n",
       "WAGE_RATE_OF_PAY_TO_1          669324\n",
       "WAGE_UNIT_OF_PAY_1             383935\n",
       "TOTAL_WORKER_POSITIONS         383932\n",
       "PREVAILING_WAGE_1              388612\n",
       "dtype: int64"
      ]
     },
     "execution_count": 48,
     "metadata": {},
     "output_type": "execute_result"
    }
   ],
   "source": [
    "dt.isnull().sum()"
   ]
  },
  {
   "cell_type": "code",
   "execution_count": 49,
   "metadata": {},
   "outputs": [
    {
     "data": {
      "text/plain": [
       "<AxesSubplot:>"
      ]
     },
     "execution_count": 49,
     "metadata": {},
     "output_type": "execute_result"
    },
    {
     "data": {
      "image/png": "[encoded data removed]",
      "text/plain": [
       "<Figure size 1800x720 with 3 Axes>"
      ]
     },
     "metadata": {
      "needs_background": "light"
     },
     "output_type": "display_data"
    }
   ],
   "source": [
    "# Let's check if there is any trend in missing data\n",
    "mno.bar(dt)"
   ]
  },
  {
   "cell_type": "code",
   "execution_count": 50,
   "metadata": {},
   "outputs": [],
   "source": [
    "#dropping the enteries with missing values\n",
    "dt.dropna(inplace=True)"
   ]
  },
  {
   "cell_type": "code",
   "execution_count": 51,
   "metadata": {},
   "outputs": [
    {
     "data": {
      "text/plain": [
       "(287371, 23)"
      ]
     },
     "execution_count": 51,
     "metadata": {},
     "output_type": "execute_result"
    }
   ],
   "source": [
    "dt.shape"
   ]
  },
  {
   "cell_type": "code",
   "execution_count": 52,
   "metadata": {},
   "outputs": [
    {
     "data": {
      "text/plain": [
       "CASE_STATUS                    0\n",
       "AGENT_REPRESENTING_EMPLOYER    0\n",
       "VISA_CLASS                     0\n",
       "JOB_TITLE                      0\n",
       "FULL_TIME_POSITION             0\n",
       "H-1B_DEPENDENT                 0\n",
       "EMPLOYER_NAME                  0\n",
       "SECONDARY_ENTITY_1             0\n",
       "SOC_TITLE                      0\n",
       "SOC_CODE                       0\n",
       "NAICS_CODE                     0\n",
       "NEW_EMPLOYMENT                 0\n",
       "CONTINUED_EMPLOYMENT           0\n",
       "CHANGE_PREVIOUS_EMPLOYMENT     0\n",
       "NEW_CONCURRENT_EMPLOYMENT      0\n",
       "CHANGE_EMPLOYER                0\n",
       "AMENDED_PETITION               0\n",
       "WILLFUL_VIOLATOR               0\n",
       "WAGE_RATE_OF_PAY_FROM_1        0\n",
       "WAGE_RATE_OF_PAY_TO_1          0\n",
       "WAGE_UNIT_OF_PAY_1             0\n",
       "TOTAL_WORKER_POSITIONS         0\n",
       "PREVAILING_WAGE_1              0\n",
       "dtype: int64"
      ]
     },
     "execution_count": 52,
     "metadata": {},
     "output_type": "execute_result"
    }
   ],
   "source": [
    "dt.isnull().sum()"
   ]
  },
  {
   "cell_type": "code",
   "execution_count": 53,
   "metadata": {},
   "outputs": [
    {
     "data": {
      "text/plain": [
       "CASE_STATUS                    float64\n",
       "AGENT_REPRESENTING_EMPLOYER     object\n",
       "VISA_CLASS                      object\n",
       "JOB_TITLE                       object\n",
       "FULL_TIME_POSITION              object\n",
       "H-1B_DEPENDENT                  object\n",
       "EMPLOYER_NAME                   object\n",
       "SECONDARY_ENTITY_1              object\n",
       "SOC_TITLE                       object\n",
       "SOC_CODE                        object\n",
       "NAICS_CODE                     float64\n",
       "NEW_EMPLOYMENT                  object\n",
       "CONTINUED_EMPLOYMENT            object\n",
       "CHANGE_PREVIOUS_EMPLOYMENT     float64\n",
       "NEW_CONCURRENT_EMPLOYMENT      float64\n",
       "CHANGE_EMPLOYER                float64\n",
       "AMENDED_PETITION               float64\n",
       "WILLFUL_VIOLATOR                object\n",
       "WAGE_RATE_OF_PAY_FROM_1         object\n",
       "WAGE_RATE_OF_PAY_TO_1           object\n",
       "WAGE_UNIT_OF_PAY_1              object\n",
       "TOTAL_WORKER_POSITIONS         float64\n",
       "PREVAILING_WAGE_1              float64\n",
       "dtype: object"
      ]
     },
     "execution_count": 53,
     "metadata": {},
     "output_type": "execute_result"
    }
   ],
   "source": [
    "dt.dtypes"
   ]
  },
  {
   "cell_type": "markdown",
   "metadata": {},
   "source": [
    "## Performing binary encoding \n",
    "AGENT_REPRESENTING_EMPLOYER,FULL_TIME_POSITION,H-1B_DEPENDENT,SECONDARY_ENTITY_1,WILLFUL_VIOLATOR"
   ]
  },
  {
   "cell_type": "code",
   "execution_count": 54,
   "metadata": {},
   "outputs": [
    {
     "data": {
      "text/html": [
       "<div>\n",
       "<style scoped>\n",
       "    .dataframe tbody tr th:only-of-type {\n",
       "        vertical-align: middle;\n",
       "    }\n",
       "\n",
       "    .dataframe tbody tr th {\n",
       "        vertical-align: top;\n",
       "    }\n",
       "\n",
       "    .dataframe thead th {\n",
       "        text-align: right;\n",
       "    }\n",
       "</style>\n",
       "<table border=\"1\" class=\"dataframe\">\n",
       "  <thead>\n",
       "    <tr style=\"text-align: right;\">\n",
       "      <th></th>\n",
       "      <th>CASE_STATUS</th>\n",
       "      <th>AGENT_REPRESENTING_EMPLOYER</th>\n",
       "      <th>VISA_CLASS</th>\n",
       "      <th>JOB_TITLE</th>\n",
       "      <th>FULL_TIME_POSITION</th>\n",
       "      <th>H-1B_DEPENDENT</th>\n",
       "      <th>EMPLOYER_NAME</th>\n",
       "      <th>SECONDARY_ENTITY_1</th>\n",
       "      <th>SOC_TITLE</th>\n",
       "      <th>SOC_CODE</th>\n",
       "      <th>...</th>\n",
       "      <th>CHANGE_EMPLOYER</th>\n",
       "      <th>AMENDED_PETITION</th>\n",
       "      <th>WILLFUL_VIOLATOR</th>\n",
       "      <th>WAGE_RATE_OF_PAY_FROM_1</th>\n",
       "      <th>WAGE_RATE_OF_PAY_TO_1</th>\n",
       "      <th>WAGE_UNIT_OF_PAY_1</th>\n",
       "      <th>TOTAL_WORKER_POSITIONS</th>\n",
       "      <th>PREVAILING_WAGE_1</th>\n",
       "      <th>AGENT_REPRESENTING_EMPLOYER_0</th>\n",
       "      <th>AGENT_REPRESENTING_EMPLOYER_1</th>\n",
       "    </tr>\n",
       "  </thead>\n",
       "  <tbody>\n",
       "    <tr>\n",
       "      <th>23382</th>\n",
       "      <td>1.0</td>\n",
       "      <td>Y</td>\n",
       "      <td>H-1B</td>\n",
       "      <td>CAPACITY PLANNING MANAGER</td>\n",
       "      <td>Y</td>\n",
       "      <td>N</td>\n",
       "      <td>CLOUDFLARE, INC.</td>\n",
       "      <td>N</td>\n",
       "      <td>MANAGERS, ALL OTHER</td>\n",
       "      <td>11-9199</td>\n",
       "      <td>...</td>\n",
       "      <td>1.0</td>\n",
       "      <td>0.0</td>\n",
       "      <td>N</td>\n",
       "      <td>135000</td>\n",
       "      <td>155000</td>\n",
       "      <td>Year</td>\n",
       "      <td>1.0</td>\n",
       "      <td>132184.0</td>\n",
       "      <td>0</td>\n",
       "      <td>1</td>\n",
       "    </tr>\n",
       "    <tr>\n",
       "      <th>328866</th>\n",
       "      <td>1.0</td>\n",
       "      <td>Y</td>\n",
       "      <td>H-1B</td>\n",
       "      <td>SOFTWARE DEVELOPER</td>\n",
       "      <td>Y</td>\n",
       "      <td>Y</td>\n",
       "      <td>UNITED IT SOLUTIONS INC</td>\n",
       "      <td>Y</td>\n",
       "      <td>SOFTWARE DEVELOPERS, APPLICATIONS</td>\n",
       "      <td>15-1132</td>\n",
       "      <td>...</td>\n",
       "      <td>0.0</td>\n",
       "      <td>0.0</td>\n",
       "      <td>N</td>\n",
       "      <td>88483.0</td>\n",
       "      <td>90000.0</td>\n",
       "      <td>Year</td>\n",
       "      <td>1.0</td>\n",
       "      <td>88483.0</td>\n",
       "      <td>0</td>\n",
       "      <td>1</td>\n",
       "    </tr>\n",
       "    <tr>\n",
       "      <th>99155</th>\n",
       "      <td>1.0</td>\n",
       "      <td>N</td>\n",
       "      <td>H-1B</td>\n",
       "      <td>TECHNOLOGY LEAD - US - PRACTITIONER</td>\n",
       "      <td>Y</td>\n",
       "      <td>Y</td>\n",
       "      <td>INFOSYS LIMITED</td>\n",
       "      <td>Y</td>\n",
       "      <td>COMPUTER SYSTEMS ANALYST</td>\n",
       "      <td>15-1121</td>\n",
       "      <td>...</td>\n",
       "      <td>0.0</td>\n",
       "      <td>0.0</td>\n",
       "      <td>N</td>\n",
       "      <td>78187.0</td>\n",
       "      <td>78187.0</td>\n",
       "      <td>Year</td>\n",
       "      <td>1.0</td>\n",
       "      <td>78187.0</td>\n",
       "      <td>1</td>\n",
       "      <td>0</td>\n",
       "    </tr>\n",
       "    <tr>\n",
       "      <th>245479</th>\n",
       "      <td>1.0</td>\n",
       "      <td>Y</td>\n",
       "      <td>H-1B</td>\n",
       "      <td>SOFTWARE DEVELOPER</td>\n",
       "      <td>Y</td>\n",
       "      <td>N</td>\n",
       "      <td>WORLDCARE CLINICAL, LLC</td>\n",
       "      <td>N</td>\n",
       "      <td>SOFTWARE DEVELOPERS, APPLICATIONS</td>\n",
       "      <td>15-1132</td>\n",
       "      <td>...</td>\n",
       "      <td>0.0</td>\n",
       "      <td>0.0</td>\n",
       "      <td>N</td>\n",
       "      <td>84698.0</td>\n",
       "      <td>84698.0</td>\n",
       "      <td>Year</td>\n",
       "      <td>1.0</td>\n",
       "      <td>84698.0</td>\n",
       "      <td>0</td>\n",
       "      <td>1</td>\n",
       "    </tr>\n",
       "    <tr>\n",
       "      <th>233691</th>\n",
       "      <td>1.0</td>\n",
       "      <td>Y</td>\n",
       "      <td>H-1B</td>\n",
       "      <td>STAFF ENGINEER</td>\n",
       "      <td>Y</td>\n",
       "      <td>N</td>\n",
       "      <td>VMWARE, INC.</td>\n",
       "      <td>N</td>\n",
       "      <td>SOFTWARE DEVELOPERS, APPLICATIONS</td>\n",
       "      <td>15-1132</td>\n",
       "      <td>...</td>\n",
       "      <td>0.0</td>\n",
       "      <td>0.0</td>\n",
       "      <td>N</td>\n",
       "      <td>182000.0</td>\n",
       "      <td>182000.0</td>\n",
       "      <td>Year</td>\n",
       "      <td>1.0</td>\n",
       "      <td>155106.0</td>\n",
       "      <td>0</td>\n",
       "      <td>1</td>\n",
       "    </tr>\n",
       "  </tbody>\n",
       "</table>\n",
       "<p>5 rows × 25 columns</p>\n",
       "</div>"
      ],
      "text/plain": [
       "        CASE_STATUS AGENT_REPRESENTING_EMPLOYER VISA_CLASS  \\\n",
       "23382           1.0                           Y       H-1B   \n",
       "328866          1.0                           Y       H-1B   \n",
       "99155           1.0                           N       H-1B   \n",
       "245479          1.0                           Y       H-1B   \n",
       "233691          1.0                           Y       H-1B   \n",
       "\n",
       "                                  JOB_TITLE FULL_TIME_POSITION H-1B_DEPENDENT  \\\n",
       "23382             CAPACITY PLANNING MANAGER                  Y              N   \n",
       "328866                   SOFTWARE DEVELOPER                  Y              Y   \n",
       "99155   TECHNOLOGY LEAD - US - PRACTITIONER                  Y              Y   \n",
       "245479                   SOFTWARE DEVELOPER                  Y              N   \n",
       "233691                       STAFF ENGINEER                  Y              N   \n",
       "\n",
       "                  EMPLOYER_NAME SECONDARY_ENTITY_1  \\\n",
       "23382          CLOUDFLARE, INC.                  N   \n",
       "328866  UNITED IT SOLUTIONS INC                  Y   \n",
       "99155           INFOSYS LIMITED                  Y   \n",
       "245479  WORLDCARE CLINICAL, LLC                  N   \n",
       "233691             VMWARE, INC.                  N   \n",
       "\n",
       "                                SOC_TITLE SOC_CODE  ...  CHANGE_EMPLOYER  \\\n",
       "23382                 MANAGERS, ALL OTHER  11-9199  ...              1.0   \n",
       "328866  SOFTWARE DEVELOPERS, APPLICATIONS  15-1132  ...              0.0   \n",
       "99155            COMPUTER SYSTEMS ANALYST  15-1121  ...              0.0   \n",
       "245479  SOFTWARE DEVELOPERS, APPLICATIONS  15-1132  ...              0.0   \n",
       "233691  SOFTWARE DEVELOPERS, APPLICATIONS  15-1132  ...              0.0   \n",
       "\n",
       "       AMENDED_PETITION WILLFUL_VIOLATOR  WAGE_RATE_OF_PAY_FROM_1  \\\n",
       "23382               0.0                N                   135000   \n",
       "328866              0.0                N                  88483.0   \n",
       "99155               0.0                N                  78187.0   \n",
       "245479              0.0                N                  84698.0   \n",
       "233691              0.0                N                 182000.0   \n",
       "\n",
       "        WAGE_RATE_OF_PAY_TO_1  WAGE_UNIT_OF_PAY_1  TOTAL_WORKER_POSITIONS  \\\n",
       "23382                  155000                Year                     1.0   \n",
       "328866                90000.0                Year                     1.0   \n",
       "99155                 78187.0                Year                     1.0   \n",
       "245479                84698.0                Year                     1.0   \n",
       "233691               182000.0                Year                     1.0   \n",
       "\n",
       "       PREVAILING_WAGE_1 AGENT_REPRESENTING_EMPLOYER_0  \\\n",
       "23382           132184.0                             0   \n",
       "328866           88483.0                             0   \n",
       "99155            78187.0                             1   \n",
       "245479           84698.0                             0   \n",
       "233691          155106.0                             0   \n",
       "\n",
       "       AGENT_REPRESENTING_EMPLOYER_1  \n",
       "23382                              1  \n",
       "328866                             1  \n",
       "99155                              0  \n",
       "245479                             1  \n",
       "233691                             1  \n",
       "\n",
       "[5 rows x 25 columns]"
      ]
     },
     "execution_count": 54,
     "metadata": {},
     "output_type": "execute_result"
    }
   ],
   "source": [
    "# #AGENT_REPRESENTING_EMPLOYER\n",
    "be=BinaryEncoder()\n",
    "be_enc=be.fit_transform(dt['AGENT_REPRESENTING_EMPLOYER'])\n",
    "dt=pd.concat([dt,be_enc],axis=1)\n",
    "dt.sample(frac=1).head()"
   ]
  },
  {
   "cell_type": "code",
   "execution_count": 55,
   "metadata": {},
   "outputs": [
    {
     "data": {
      "text/html": [
       "<div>\n",
       "<style scoped>\n",
       "    .dataframe tbody tr th:only-of-type {\n",
       "        vertical-align: middle;\n",
       "    }\n",
       "\n",
       "    .dataframe tbody tr th {\n",
       "        vertical-align: top;\n",
       "    }\n",
       "\n",
       "    .dataframe thead th {\n",
       "        text-align: right;\n",
       "    }\n",
       "</style>\n",
       "<table border=\"1\" class=\"dataframe\">\n",
       "  <thead>\n",
       "    <tr style=\"text-align: right;\">\n",
       "      <th></th>\n",
       "      <th>CASE_STATUS</th>\n",
       "      <th>AGENT_REPRESENTING_EMPLOYER</th>\n",
       "      <th>VISA_CLASS</th>\n",
       "      <th>JOB_TITLE</th>\n",
       "      <th>FULL_TIME_POSITION</th>\n",
       "      <th>H-1B_DEPENDENT</th>\n",
       "      <th>EMPLOYER_NAME</th>\n",
       "      <th>SECONDARY_ENTITY_1</th>\n",
       "      <th>SOC_TITLE</th>\n",
       "      <th>SOC_CODE</th>\n",
       "      <th>...</th>\n",
       "      <th>WILLFUL_VIOLATOR</th>\n",
       "      <th>WAGE_RATE_OF_PAY_FROM_1</th>\n",
       "      <th>WAGE_RATE_OF_PAY_TO_1</th>\n",
       "      <th>WAGE_UNIT_OF_PAY_1</th>\n",
       "      <th>TOTAL_WORKER_POSITIONS</th>\n",
       "      <th>PREVAILING_WAGE_1</th>\n",
       "      <th>AGENT_REPRESENTING_EMPLOYER_0</th>\n",
       "      <th>AGENT_REPRESENTING_EMPLOYER_1</th>\n",
       "      <th>FULL_TIME_POSITION_0</th>\n",
       "      <th>FULL_TIME_POSITION_1</th>\n",
       "    </tr>\n",
       "  </thead>\n",
       "  <tbody>\n",
       "    <tr>\n",
       "      <th>384380</th>\n",
       "      <td>1.0</td>\n",
       "      <td>Y</td>\n",
       "      <td>H-1B</td>\n",
       "      <td>SOFTWARE ENGINEER</td>\n",
       "      <td>Y</td>\n",
       "      <td>N</td>\n",
       "      <td>NET ESOLUTIONS CORPORATION</td>\n",
       "      <td>Y</td>\n",
       "      <td>SOFTWARE DEVELOPERS, APPLICATIONS</td>\n",
       "      <td>15-1132</td>\n",
       "      <td>...</td>\n",
       "      <td>N</td>\n",
       "      <td>125091.0</td>\n",
       "      <td>125091.0</td>\n",
       "      <td>Year</td>\n",
       "      <td>1.0</td>\n",
       "      <td>117458.0</td>\n",
       "      <td>0</td>\n",
       "      <td>1</td>\n",
       "      <td>0</td>\n",
       "      <td>1</td>\n",
       "    </tr>\n",
       "    <tr>\n",
       "      <th>165863</th>\n",
       "      <td>1.0</td>\n",
       "      <td>Y</td>\n",
       "      <td>H-1B</td>\n",
       "      <td>PROGRAMMER ANALYST - II</td>\n",
       "      <td>Y</td>\n",
       "      <td>Y</td>\n",
       "      <td>HCL AMERICA, INC.</td>\n",
       "      <td>Y</td>\n",
       "      <td>COMPUTER PROGRAMMERS</td>\n",
       "      <td>15-1131</td>\n",
       "      <td>...</td>\n",
       "      <td>N</td>\n",
       "      <td>77073.0</td>\n",
       "      <td>77073.0</td>\n",
       "      <td>Year</td>\n",
       "      <td>1.0</td>\n",
       "      <td>71573.0</td>\n",
       "      <td>0</td>\n",
       "      <td>1</td>\n",
       "      <td>0</td>\n",
       "      <td>1</td>\n",
       "    </tr>\n",
       "    <tr>\n",
       "      <th>428767</th>\n",
       "      <td>1.0</td>\n",
       "      <td>Y</td>\n",
       "      <td>H-1B</td>\n",
       "      <td>DEVELOPER USER INTERFACE</td>\n",
       "      <td>Y</td>\n",
       "      <td>Y</td>\n",
       "      <td>TATA CONSULTANCY SERVICES LIMITED</td>\n",
       "      <td>Y</td>\n",
       "      <td>WEB DEVELOPERS</td>\n",
       "      <td>15-1134</td>\n",
       "      <td>...</td>\n",
       "      <td>N</td>\n",
       "      <td>65333</td>\n",
       "      <td>97000</td>\n",
       "      <td>Year</td>\n",
       "      <td>1.0</td>\n",
       "      <td>65333.0</td>\n",
       "      <td>0</td>\n",
       "      <td>1</td>\n",
       "      <td>0</td>\n",
       "      <td>1</td>\n",
       "    </tr>\n",
       "    <tr>\n",
       "      <th>506382</th>\n",
       "      <td>1.0</td>\n",
       "      <td>Y</td>\n",
       "      <td>H-1B</td>\n",
       "      <td>TEST LEAD</td>\n",
       "      <td>Y</td>\n",
       "      <td>Y</td>\n",
       "      <td>MINDTREE LIMITED</td>\n",
       "      <td>Y</td>\n",
       "      <td>COMPUTER OCCUPATIONS, ALL OTHER</td>\n",
       "      <td>15-1199</td>\n",
       "      <td>...</td>\n",
       "      <td>N</td>\n",
       "      <td>80462.0</td>\n",
       "      <td>80462.0</td>\n",
       "      <td>Year</td>\n",
       "      <td>1.0</td>\n",
       "      <td>73798.0</td>\n",
       "      <td>0</td>\n",
       "      <td>1</td>\n",
       "      <td>0</td>\n",
       "      <td>1</td>\n",
       "    </tr>\n",
       "    <tr>\n",
       "      <th>244992</th>\n",
       "      <td>1.0</td>\n",
       "      <td>Y</td>\n",
       "      <td>H-1B</td>\n",
       "      <td>SOLUTIONS ARCHITECT</td>\n",
       "      <td>Y</td>\n",
       "      <td>Y</td>\n",
       "      <td>LARSEN &amp; TOUBRO INFOTECH LIMITED</td>\n",
       "      <td>Y</td>\n",
       "      <td>SOFTWARE DEVELOPERS, APPLICATIONS</td>\n",
       "      <td>15-1132</td>\n",
       "      <td>...</td>\n",
       "      <td>N</td>\n",
       "      <td>96366.0</td>\n",
       "      <td>150000.0</td>\n",
       "      <td>Year</td>\n",
       "      <td>1.0</td>\n",
       "      <td>96366.0</td>\n",
       "      <td>0</td>\n",
       "      <td>1</td>\n",
       "      <td>0</td>\n",
       "      <td>1</td>\n",
       "    </tr>\n",
       "  </tbody>\n",
       "</table>\n",
       "<p>5 rows × 27 columns</p>\n",
       "</div>"
      ],
      "text/plain": [
       "        CASE_STATUS AGENT_REPRESENTING_EMPLOYER VISA_CLASS  \\\n",
       "384380          1.0                           Y       H-1B   \n",
       "165863          1.0                           Y       H-1B   \n",
       "428767          1.0                           Y       H-1B   \n",
       "506382          1.0                           Y       H-1B   \n",
       "244992          1.0                           Y       H-1B   \n",
       "\n",
       "                       JOB_TITLE FULL_TIME_POSITION H-1B_DEPENDENT  \\\n",
       "384380         SOFTWARE ENGINEER                  Y              N   \n",
       "165863   PROGRAMMER ANALYST - II                  Y              Y   \n",
       "428767  DEVELOPER USER INTERFACE                  Y              Y   \n",
       "506382                 TEST LEAD                  Y              Y   \n",
       "244992       SOLUTIONS ARCHITECT                  Y              Y   \n",
       "\n",
       "                            EMPLOYER_NAME SECONDARY_ENTITY_1  \\\n",
       "384380         NET ESOLUTIONS CORPORATION                  Y   \n",
       "165863                  HCL AMERICA, INC.                  Y   \n",
       "428767  TATA CONSULTANCY SERVICES LIMITED                  Y   \n",
       "506382                   MINDTREE LIMITED                  Y   \n",
       "244992   LARSEN & TOUBRO INFOTECH LIMITED                  Y   \n",
       "\n",
       "                                SOC_TITLE SOC_CODE  ...  WILLFUL_VIOLATOR  \\\n",
       "384380  SOFTWARE DEVELOPERS, APPLICATIONS  15-1132  ...                 N   \n",
       "165863               COMPUTER PROGRAMMERS  15-1131  ...                 N   \n",
       "428767                     WEB DEVELOPERS  15-1134  ...                 N   \n",
       "506382    COMPUTER OCCUPATIONS, ALL OTHER  15-1199  ...                 N   \n",
       "244992  SOFTWARE DEVELOPERS, APPLICATIONS  15-1132  ...                 N   \n",
       "\n",
       "       WAGE_RATE_OF_PAY_FROM_1 WAGE_RATE_OF_PAY_TO_1  WAGE_UNIT_OF_PAY_1  \\\n",
       "384380                125091.0              125091.0                Year   \n",
       "165863                 77073.0               77073.0                Year   \n",
       "428767                   65333                 97000                Year   \n",
       "506382                 80462.0               80462.0                Year   \n",
       "244992                 96366.0              150000.0                Year   \n",
       "\n",
       "        TOTAL_WORKER_POSITIONS  PREVAILING_WAGE_1  \\\n",
       "384380                     1.0           117458.0   \n",
       "165863                     1.0            71573.0   \n",
       "428767                     1.0            65333.0   \n",
       "506382                     1.0            73798.0   \n",
       "244992                     1.0            96366.0   \n",
       "\n",
       "        AGENT_REPRESENTING_EMPLOYER_0 AGENT_REPRESENTING_EMPLOYER_1  \\\n",
       "384380                              0                             1   \n",
       "165863                              0                             1   \n",
       "428767                              0                             1   \n",
       "506382                              0                             1   \n",
       "244992                              0                             1   \n",
       "\n",
       "       FULL_TIME_POSITION_0 FULL_TIME_POSITION_1  \n",
       "384380                    0                    1  \n",
       "165863                    0                    1  \n",
       "428767                    0                    1  \n",
       "506382                    0                    1  \n",
       "244992                    0                    1  \n",
       "\n",
       "[5 rows x 27 columns]"
      ]
     },
     "execution_count": 55,
     "metadata": {},
     "output_type": "execute_result"
    }
   ],
   "source": [
    "# #FULL_TIME_POSITION\n",
    "be1=BinaryEncoder()\n",
    "be_enc1=be1.fit_transform(dt['FULL_TIME_POSITION'])\n",
    "dt=pd.concat([dt,be_enc1],axis=1)\n",
    "dt.sample(frac=1).head()"
   ]
  },
  {
   "cell_type": "code",
   "execution_count": 56,
   "metadata": {},
   "outputs": [
    {
     "data": {
      "text/html": [
       "<div>\n",
       "<style scoped>\n",
       "    .dataframe tbody tr th:only-of-type {\n",
       "        vertical-align: middle;\n",
       "    }\n",
       "\n",
       "    .dataframe tbody tr th {\n",
       "        vertical-align: top;\n",
       "    }\n",
       "\n",
       "    .dataframe thead th {\n",
       "        text-align: right;\n",
       "    }\n",
       "</style>\n",
       "<table border=\"1\" class=\"dataframe\">\n",
       "  <thead>\n",
       "    <tr style=\"text-align: right;\">\n",
       "      <th></th>\n",
       "      <th>CASE_STATUS</th>\n",
       "      <th>AGENT_REPRESENTING_EMPLOYER</th>\n",
       "      <th>VISA_CLASS</th>\n",
       "      <th>JOB_TITLE</th>\n",
       "      <th>FULL_TIME_POSITION</th>\n",
       "      <th>H-1B_DEPENDENT</th>\n",
       "      <th>EMPLOYER_NAME</th>\n",
       "      <th>SECONDARY_ENTITY_1</th>\n",
       "      <th>SOC_TITLE</th>\n",
       "      <th>SOC_CODE</th>\n",
       "      <th>...</th>\n",
       "      <th>WAGE_RATE_OF_PAY_TO_1</th>\n",
       "      <th>WAGE_UNIT_OF_PAY_1</th>\n",
       "      <th>TOTAL_WORKER_POSITIONS</th>\n",
       "      <th>PREVAILING_WAGE_1</th>\n",
       "      <th>AGENT_REPRESENTING_EMPLOYER_0</th>\n",
       "      <th>AGENT_REPRESENTING_EMPLOYER_1</th>\n",
       "      <th>FULL_TIME_POSITION_0</th>\n",
       "      <th>FULL_TIME_POSITION_1</th>\n",
       "      <th>H-1B_DEPENDENT_0</th>\n",
       "      <th>H-1B_DEPENDENT_1</th>\n",
       "    </tr>\n",
       "  </thead>\n",
       "  <tbody>\n",
       "    <tr>\n",
       "      <th>403970</th>\n",
       "      <td>1.0</td>\n",
       "      <td>Y</td>\n",
       "      <td>H-1B</td>\n",
       "      <td>SOLUTIONS ARCHITECT, SYSTEMS</td>\n",
       "      <td>Y</td>\n",
       "      <td>N</td>\n",
       "      <td>GENENTECH, INC.</td>\n",
       "      <td>N</td>\n",
       "      <td>SOFTWARE DEVELOPERS, SYSTEMS SOFTWARE</td>\n",
       "      <td>15-1133</td>\n",
       "      <td>...</td>\n",
       "      <td>177500.0</td>\n",
       "      <td>Year</td>\n",
       "      <td>1.0</td>\n",
       "      <td>130736.0</td>\n",
       "      <td>0</td>\n",
       "      <td>1</td>\n",
       "      <td>0</td>\n",
       "      <td>1</td>\n",
       "      <td>0</td>\n",
       "      <td>1</td>\n",
       "    </tr>\n",
       "    <tr>\n",
       "      <th>167428</th>\n",
       "      <td>1.0</td>\n",
       "      <td>N</td>\n",
       "      <td>H-1B</td>\n",
       "      <td>PROGRAMMER ANALYST</td>\n",
       "      <td>Y</td>\n",
       "      <td>Y</td>\n",
       "      <td>WIPRO LIMITED</td>\n",
       "      <td>Y</td>\n",
       "      <td>COMPUTER PROGRAMMERS</td>\n",
       "      <td>15-1131</td>\n",
       "      <td>...</td>\n",
       "      <td>60736.0</td>\n",
       "      <td>Year</td>\n",
       "      <td>5.0</td>\n",
       "      <td>60736.0</td>\n",
       "      <td>1</td>\n",
       "      <td>0</td>\n",
       "      <td>0</td>\n",
       "      <td>1</td>\n",
       "      <td>1</td>\n",
       "      <td>0</td>\n",
       "    </tr>\n",
       "    <tr>\n",
       "      <th>65719</th>\n",
       "      <td>1.0</td>\n",
       "      <td>Y</td>\n",
       "      <td>H-1B</td>\n",
       "      <td>FINANCIAL ANALYST (11102.252)</td>\n",
       "      <td>Y</td>\n",
       "      <td>N</td>\n",
       "      <td>ESSILOR OF AMERICA, INC.</td>\n",
       "      <td>N</td>\n",
       "      <td>FINANCIAL ANALYSTS</td>\n",
       "      <td>13-2051</td>\n",
       "      <td>...</td>\n",
       "      <td>124510.0</td>\n",
       "      <td>Year</td>\n",
       "      <td>1.0</td>\n",
       "      <td>75712.0</td>\n",
       "      <td>0</td>\n",
       "      <td>1</td>\n",
       "      <td>0</td>\n",
       "      <td>1</td>\n",
       "      <td>0</td>\n",
       "      <td>1</td>\n",
       "    </tr>\n",
       "    <tr>\n",
       "      <th>574159</th>\n",
       "      <td>1.0</td>\n",
       "      <td>Y</td>\n",
       "      <td>H-1B</td>\n",
       "      <td>HARDWARE ENGINEER II</td>\n",
       "      <td>Y</td>\n",
       "      <td>Y</td>\n",
       "      <td>DIDI RESEARCH AMERICA, LLC</td>\n",
       "      <td>N</td>\n",
       "      <td>MECHANICAL ENGINEERS</td>\n",
       "      <td>17-2141</td>\n",
       "      <td>...</td>\n",
       "      <td>155000.0</td>\n",
       "      <td>Year</td>\n",
       "      <td>1.0</td>\n",
       "      <td>108368.0</td>\n",
       "      <td>0</td>\n",
       "      <td>1</td>\n",
       "      <td>0</td>\n",
       "      <td>1</td>\n",
       "      <td>1</td>\n",
       "      <td>0</td>\n",
       "    </tr>\n",
       "    <tr>\n",
       "      <th>584752</th>\n",
       "      <td>1.0</td>\n",
       "      <td>Y</td>\n",
       "      <td>H-1B</td>\n",
       "      <td>QUALITY AUTOMATION LEAD</td>\n",
       "      <td>Y</td>\n",
       "      <td>N</td>\n",
       "      <td>ELO TOUCH SOLUTIONS, INC.</td>\n",
       "      <td>N</td>\n",
       "      <td>ENGINEERS, ALL OTHER</td>\n",
       "      <td>17-2199</td>\n",
       "      <td>...</td>\n",
       "      <td>120000.0</td>\n",
       "      <td>Year</td>\n",
       "      <td>1.0</td>\n",
       "      <td>100755.0</td>\n",
       "      <td>0</td>\n",
       "      <td>1</td>\n",
       "      <td>0</td>\n",
       "      <td>1</td>\n",
       "      <td>0</td>\n",
       "      <td>1</td>\n",
       "    </tr>\n",
       "  </tbody>\n",
       "</table>\n",
       "<p>5 rows × 29 columns</p>\n",
       "</div>"
      ],
      "text/plain": [
       "        CASE_STATUS AGENT_REPRESENTING_EMPLOYER VISA_CLASS  \\\n",
       "403970          1.0                           Y       H-1B   \n",
       "167428          1.0                           N       H-1B   \n",
       "65719           1.0                           Y       H-1B   \n",
       "574159          1.0                           Y       H-1B   \n",
       "584752          1.0                           Y       H-1B   \n",
       "\n",
       "                            JOB_TITLE FULL_TIME_POSITION H-1B_DEPENDENT  \\\n",
       "403970   SOLUTIONS ARCHITECT, SYSTEMS                  Y              N   \n",
       "167428             PROGRAMMER ANALYST                  Y              Y   \n",
       "65719   FINANCIAL ANALYST (11102.252)                  Y              N   \n",
       "574159           HARDWARE ENGINEER II                  Y              Y   \n",
       "584752        QUALITY AUTOMATION LEAD                  Y              N   \n",
       "\n",
       "                     EMPLOYER_NAME SECONDARY_ENTITY_1  \\\n",
       "403970             GENENTECH, INC.                  N   \n",
       "167428               WIPRO LIMITED                  Y   \n",
       "65719     ESSILOR OF AMERICA, INC.                  N   \n",
       "574159  DIDI RESEARCH AMERICA, LLC                  N   \n",
       "584752   ELO TOUCH SOLUTIONS, INC.                  N   \n",
       "\n",
       "                                    SOC_TITLE SOC_CODE  ...  \\\n",
       "403970  SOFTWARE DEVELOPERS, SYSTEMS SOFTWARE  15-1133  ...   \n",
       "167428                   COMPUTER PROGRAMMERS  15-1131  ...   \n",
       "65719                      FINANCIAL ANALYSTS  13-2051  ...   \n",
       "574159                   MECHANICAL ENGINEERS  17-2141  ...   \n",
       "584752                   ENGINEERS, ALL OTHER  17-2199  ...   \n",
       "\n",
       "        WAGE_RATE_OF_PAY_TO_1 WAGE_UNIT_OF_PAY_1 TOTAL_WORKER_POSITIONS  \\\n",
       "403970               177500.0               Year                    1.0   \n",
       "167428                60736.0               Year                    5.0   \n",
       "65719                124510.0               Year                    1.0   \n",
       "574159               155000.0               Year                    1.0   \n",
       "584752               120000.0               Year                    1.0   \n",
       "\n",
       "        PREVAILING_WAGE_1  AGENT_REPRESENTING_EMPLOYER_0  \\\n",
       "403970           130736.0                              0   \n",
       "167428            60736.0                              1   \n",
       "65719             75712.0                              0   \n",
       "574159           108368.0                              0   \n",
       "584752           100755.0                              0   \n",
       "\n",
       "        AGENT_REPRESENTING_EMPLOYER_1  FULL_TIME_POSITION_0  \\\n",
       "403970                              1                     0   \n",
       "167428                              0                     0   \n",
       "65719                               1                     0   \n",
       "574159                              1                     0   \n",
       "584752                              1                     0   \n",
       "\n",
       "       FULL_TIME_POSITION_1 H-1B_DEPENDENT_0 H-1B_DEPENDENT_1  \n",
       "403970                    1                0                1  \n",
       "167428                    1                1                0  \n",
       "65719                     1                0                1  \n",
       "574159                    1                1                0  \n",
       "584752                    1                0                1  \n",
       "\n",
       "[5 rows x 29 columns]"
      ]
     },
     "execution_count": 56,
     "metadata": {},
     "output_type": "execute_result"
    }
   ],
   "source": [
    "# #H-1B_DEPENDENT\n",
    "be2=BinaryEncoder()\n",
    "be_enc2=be2.fit_transform(dt['H-1B_DEPENDENT'])\n",
    "dt=pd.concat([dt,be_enc2],axis=1)\n",
    "dt.sample(frac=1).head()"
   ]
  },
  {
   "cell_type": "code",
   "execution_count": 57,
   "metadata": {},
   "outputs": [
    {
     "data": {
      "text/html": [
       "<div>\n",
       "<style scoped>\n",
       "    .dataframe tbody tr th:only-of-type {\n",
       "        vertical-align: middle;\n",
       "    }\n",
       "\n",
       "    .dataframe tbody tr th {\n",
       "        vertical-align: top;\n",
       "    }\n",
       "\n",
       "    .dataframe thead th {\n",
       "        text-align: right;\n",
       "    }\n",
       "</style>\n",
       "<table border=\"1\" class=\"dataframe\">\n",
       "  <thead>\n",
       "    <tr style=\"text-align: right;\">\n",
       "      <th></th>\n",
       "      <th>CASE_STATUS</th>\n",
       "      <th>AGENT_REPRESENTING_EMPLOYER</th>\n",
       "      <th>VISA_CLASS</th>\n",
       "      <th>JOB_TITLE</th>\n",
       "      <th>FULL_TIME_POSITION</th>\n",
       "      <th>H-1B_DEPENDENT</th>\n",
       "      <th>EMPLOYER_NAME</th>\n",
       "      <th>SECONDARY_ENTITY_1</th>\n",
       "      <th>SOC_TITLE</th>\n",
       "      <th>SOC_CODE</th>\n",
       "      <th>...</th>\n",
       "      <th>TOTAL_WORKER_POSITIONS</th>\n",
       "      <th>PREVAILING_WAGE_1</th>\n",
       "      <th>AGENT_REPRESENTING_EMPLOYER_0</th>\n",
       "      <th>AGENT_REPRESENTING_EMPLOYER_1</th>\n",
       "      <th>FULL_TIME_POSITION_0</th>\n",
       "      <th>FULL_TIME_POSITION_1</th>\n",
       "      <th>H-1B_DEPENDENT_0</th>\n",
       "      <th>H-1B_DEPENDENT_1</th>\n",
       "      <th>SECONDARY_ENTITY_1_0</th>\n",
       "      <th>SECONDARY_ENTITY_1_1</th>\n",
       "    </tr>\n",
       "  </thead>\n",
       "  <tbody>\n",
       "    <tr>\n",
       "      <th>332854</th>\n",
       "      <td>1.0</td>\n",
       "      <td>Y</td>\n",
       "      <td>H-1B</td>\n",
       "      <td>SOFTWARE ENGINEER</td>\n",
       "      <td>Y</td>\n",
       "      <td>Y</td>\n",
       "      <td>CAPSQUARE SYSTEMS, INC.</td>\n",
       "      <td>Y</td>\n",
       "      <td>SOFTWARE DEVELOPERS, APPLICATIONS</td>\n",
       "      <td>15-1132</td>\n",
       "      <td>...</td>\n",
       "      <td>1.0</td>\n",
       "      <td>87464.0</td>\n",
       "      <td>0</td>\n",
       "      <td>1</td>\n",
       "      <td>0</td>\n",
       "      <td>1</td>\n",
       "      <td>1</td>\n",
       "      <td>0</td>\n",
       "      <td>1</td>\n",
       "      <td>0</td>\n",
       "    </tr>\n",
       "    <tr>\n",
       "      <th>407279</th>\n",
       "      <td>1.0</td>\n",
       "      <td>Y</td>\n",
       "      <td>H-1B</td>\n",
       "      <td>SR. SOFTWARE ENGINEER, PAYMENTS</td>\n",
       "      <td>Y</td>\n",
       "      <td>N</td>\n",
       "      <td>MARQETA, INC.</td>\n",
       "      <td>N</td>\n",
       "      <td>SOFTWARE DEVELOPERS, SYSTEMS SOFTWARE</td>\n",
       "      <td>15-1133</td>\n",
       "      <td>...</td>\n",
       "      <td>1.0</td>\n",
       "      <td>126090.0</td>\n",
       "      <td>0</td>\n",
       "      <td>1</td>\n",
       "      <td>0</td>\n",
       "      <td>1</td>\n",
       "      <td>0</td>\n",
       "      <td>1</td>\n",
       "      <td>0</td>\n",
       "      <td>1</td>\n",
       "    </tr>\n",
       "    <tr>\n",
       "      <th>294891</th>\n",
       "      <td>1.0</td>\n",
       "      <td>Y</td>\n",
       "      <td>H-1B</td>\n",
       "      <td>PROGRAMMER ANALYST</td>\n",
       "      <td>Y</td>\n",
       "      <td>Y</td>\n",
       "      <td>COMPU TECH COMPUTERS, INC.</td>\n",
       "      <td>N</td>\n",
       "      <td>SOFTWARE DEVELOPERS, APPLICATIONS</td>\n",
       "      <td>15-1132</td>\n",
       "      <td>...</td>\n",
       "      <td>1.0</td>\n",
       "      <td>96366.0</td>\n",
       "      <td>0</td>\n",
       "      <td>1</td>\n",
       "      <td>0</td>\n",
       "      <td>1</td>\n",
       "      <td>1</td>\n",
       "      <td>0</td>\n",
       "      <td>0</td>\n",
       "      <td>1</td>\n",
       "    </tr>\n",
       "    <tr>\n",
       "      <th>242601</th>\n",
       "      <td>1.0</td>\n",
       "      <td>Y</td>\n",
       "      <td>H-1B</td>\n",
       "      <td>FULL STACK JAVA DEVELOPER</td>\n",
       "      <td>Y</td>\n",
       "      <td>Y</td>\n",
       "      <td>PROGRAMMER RESOURCES INTERNATIONAL, INC.</td>\n",
       "      <td>Y</td>\n",
       "      <td>SOFTWARE DEVELOPERS, APPLICATIONS</td>\n",
       "      <td>15-1132</td>\n",
       "      <td>...</td>\n",
       "      <td>1.0</td>\n",
       "      <td>115856.0</td>\n",
       "      <td>0</td>\n",
       "      <td>1</td>\n",
       "      <td>0</td>\n",
       "      <td>1</td>\n",
       "      <td>1</td>\n",
       "      <td>0</td>\n",
       "      <td>1</td>\n",
       "      <td>0</td>\n",
       "    </tr>\n",
       "    <tr>\n",
       "      <th>351742</th>\n",
       "      <td>1.0</td>\n",
       "      <td>N</td>\n",
       "      <td>H-1B</td>\n",
       "      <td>SENIOR SOFTWARE DEVELOPER</td>\n",
       "      <td>Y</td>\n",
       "      <td>Y</td>\n",
       "      <td>MASTECH DIGITAL TECHNOLOGIES, INC., A MASTECH ...</td>\n",
       "      <td>Y</td>\n",
       "      <td>SOFTWARE DEVELOPERS, APPLICATIONS</td>\n",
       "      <td>15-1132</td>\n",
       "      <td>...</td>\n",
       "      <td>6.0</td>\n",
       "      <td>60.7</td>\n",
       "      <td>1</td>\n",
       "      <td>0</td>\n",
       "      <td>0</td>\n",
       "      <td>1</td>\n",
       "      <td>1</td>\n",
       "      <td>0</td>\n",
       "      <td>1</td>\n",
       "      <td>0</td>\n",
       "    </tr>\n",
       "  </tbody>\n",
       "</table>\n",
       "<p>5 rows × 31 columns</p>\n",
       "</div>"
      ],
      "text/plain": [
       "        CASE_STATUS AGENT_REPRESENTING_EMPLOYER VISA_CLASS  \\\n",
       "332854          1.0                           Y       H-1B   \n",
       "407279          1.0                           Y       H-1B   \n",
       "294891          1.0                           Y       H-1B   \n",
       "242601          1.0                           Y       H-1B   \n",
       "351742          1.0                           N       H-1B   \n",
       "\n",
       "                              JOB_TITLE FULL_TIME_POSITION H-1B_DEPENDENT  \\\n",
       "332854                SOFTWARE ENGINEER                  Y              Y   \n",
       "407279  SR. SOFTWARE ENGINEER, PAYMENTS                  Y              N   \n",
       "294891               PROGRAMMER ANALYST                  Y              Y   \n",
       "242601        FULL STACK JAVA DEVELOPER                  Y              Y   \n",
       "351742        SENIOR SOFTWARE DEVELOPER                  Y              Y   \n",
       "\n",
       "                                            EMPLOYER_NAME SECONDARY_ENTITY_1  \\\n",
       "332854                            CAPSQUARE SYSTEMS, INC.                  Y   \n",
       "407279                                      MARQETA, INC.                  N   \n",
       "294891                         COMPU TECH COMPUTERS, INC.                  N   \n",
       "242601           PROGRAMMER RESOURCES INTERNATIONAL, INC.                  Y   \n",
       "351742  MASTECH DIGITAL TECHNOLOGIES, INC., A MASTECH ...                  Y   \n",
       "\n",
       "                                    SOC_TITLE SOC_CODE  ...  \\\n",
       "332854      SOFTWARE DEVELOPERS, APPLICATIONS  15-1132  ...   \n",
       "407279  SOFTWARE DEVELOPERS, SYSTEMS SOFTWARE  15-1133  ...   \n",
       "294891      SOFTWARE DEVELOPERS, APPLICATIONS  15-1132  ...   \n",
       "242601      SOFTWARE DEVELOPERS, APPLICATIONS  15-1132  ...   \n",
       "351742      SOFTWARE DEVELOPERS, APPLICATIONS  15-1132  ...   \n",
       "\n",
       "        TOTAL_WORKER_POSITIONS PREVAILING_WAGE_1  \\\n",
       "332854                     1.0           87464.0   \n",
       "407279                     1.0          126090.0   \n",
       "294891                     1.0           96366.0   \n",
       "242601                     1.0          115856.0   \n",
       "351742                     6.0              60.7   \n",
       "\n",
       "       AGENT_REPRESENTING_EMPLOYER_0  AGENT_REPRESENTING_EMPLOYER_1  \\\n",
       "332854                             0                              1   \n",
       "407279                             0                              1   \n",
       "294891                             0                              1   \n",
       "242601                             0                              1   \n",
       "351742                             1                              0   \n",
       "\n",
       "        FULL_TIME_POSITION_0  FULL_TIME_POSITION_1  H-1B_DEPENDENT_0  \\\n",
       "332854                     0                     1                 1   \n",
       "407279                     0                     1                 0   \n",
       "294891                     0                     1                 1   \n",
       "242601                     0                     1                 1   \n",
       "351742                     0                     1                 1   \n",
       "\n",
       "       H-1B_DEPENDENT_1 SECONDARY_ENTITY_1_0 SECONDARY_ENTITY_1_1  \n",
       "332854                0                    1                    0  \n",
       "407279                1                    0                    1  \n",
       "294891                0                    0                    1  \n",
       "242601                0                    1                    0  \n",
       "351742                0                    1                    0  \n",
       "\n",
       "[5 rows x 31 columns]"
      ]
     },
     "execution_count": 57,
     "metadata": {},
     "output_type": "execute_result"
    }
   ],
   "source": [
    "# #SECONDARY_ENTITY_1\n",
    "be3=BinaryEncoder()\n",
    "be_enc3=be3.fit_transform(dt['SECONDARY_ENTITY_1'])\n",
    "dt=pd.concat([dt,be_enc3],axis=1)\n",
    "dt.sample(frac=1).head()\n"
   ]
  },
  {
   "cell_type": "code",
   "execution_count": 58,
   "metadata": {},
   "outputs": [
    {
     "data": {
      "text/html": [
       "<div>\n",
       "<style scoped>\n",
       "    .dataframe tbody tr th:only-of-type {\n",
       "        vertical-align: middle;\n",
       "    }\n",
       "\n",
       "    .dataframe tbody tr th {\n",
       "        vertical-align: top;\n",
       "    }\n",
       "\n",
       "    .dataframe thead th {\n",
       "        text-align: right;\n",
       "    }\n",
       "</style>\n",
       "<table border=\"1\" class=\"dataframe\">\n",
       "  <thead>\n",
       "    <tr style=\"text-align: right;\">\n",
       "      <th></th>\n",
       "      <th>CASE_STATUS</th>\n",
       "      <th>AGENT_REPRESENTING_EMPLOYER</th>\n",
       "      <th>VISA_CLASS</th>\n",
       "      <th>JOB_TITLE</th>\n",
       "      <th>FULL_TIME_POSITION</th>\n",
       "      <th>H-1B_DEPENDENT</th>\n",
       "      <th>EMPLOYER_NAME</th>\n",
       "      <th>SECONDARY_ENTITY_1</th>\n",
       "      <th>SOC_TITLE</th>\n",
       "      <th>SOC_CODE</th>\n",
       "      <th>...</th>\n",
       "      <th>AGENT_REPRESENTING_EMPLOYER_0</th>\n",
       "      <th>AGENT_REPRESENTING_EMPLOYER_1</th>\n",
       "      <th>FULL_TIME_POSITION_0</th>\n",
       "      <th>FULL_TIME_POSITION_1</th>\n",
       "      <th>H-1B_DEPENDENT_0</th>\n",
       "      <th>H-1B_DEPENDENT_1</th>\n",
       "      <th>SECONDARY_ENTITY_1_0</th>\n",
       "      <th>SECONDARY_ENTITY_1_1</th>\n",
       "      <th>WILLFUL_VIOLATOR_0</th>\n",
       "      <th>WILLFUL_VIOLATOR_1</th>\n",
       "    </tr>\n",
       "  </thead>\n",
       "  <tbody>\n",
       "    <tr>\n",
       "      <th>444908</th>\n",
       "      <td>1.0</td>\n",
       "      <td>Y</td>\n",
       "      <td>H-1B</td>\n",
       "      <td>NETWORK ADMINISTRATOR - IV</td>\n",
       "      <td>Y</td>\n",
       "      <td>Y</td>\n",
       "      <td>HCL AMERICA, INC.</td>\n",
       "      <td>Y</td>\n",
       "      <td>NETWORK AND COMPUTER SYSTEMS ADMINISTRATORS</td>\n",
       "      <td>15-1142</td>\n",
       "      <td>...</td>\n",
       "      <td>0</td>\n",
       "      <td>1</td>\n",
       "      <td>0</td>\n",
       "      <td>1</td>\n",
       "      <td>1</td>\n",
       "      <td>0</td>\n",
       "      <td>1</td>\n",
       "      <td>0</td>\n",
       "      <td>0</td>\n",
       "      <td>1</td>\n",
       "    </tr>\n",
       "    <tr>\n",
       "      <th>168682</th>\n",
       "      <td>1.0</td>\n",
       "      <td>N</td>\n",
       "      <td>H-1B</td>\n",
       "      <td>COMPUTER PROGRAMMER / CONFIGURER 3</td>\n",
       "      <td>Y</td>\n",
       "      <td>N</td>\n",
       "      <td>ACCENTURE LLP</td>\n",
       "      <td>N</td>\n",
       "      <td>COMPUTER PROGRAMMERS</td>\n",
       "      <td>15-1131</td>\n",
       "      <td>...</td>\n",
       "      <td>1</td>\n",
       "      <td>0</td>\n",
       "      <td>0</td>\n",
       "      <td>1</td>\n",
       "      <td>0</td>\n",
       "      <td>1</td>\n",
       "      <td>0</td>\n",
       "      <td>1</td>\n",
       "      <td>0</td>\n",
       "      <td>1</td>\n",
       "    </tr>\n",
       "    <tr>\n",
       "      <th>23394</th>\n",
       "      <td>1.0</td>\n",
       "      <td>N</td>\n",
       "      <td>H-1B</td>\n",
       "      <td>QUALITY ASSURANCE SPECIALIST II</td>\n",
       "      <td>Y</td>\n",
       "      <td>Y</td>\n",
       "      <td>THE VERITAS HEALTHCARE SOLUTIONS LLC</td>\n",
       "      <td>Y</td>\n",
       "      <td>MANAGERS, ALL OTHER</td>\n",
       "      <td>11-9199</td>\n",
       "      <td>...</td>\n",
       "      <td>1</td>\n",
       "      <td>0</td>\n",
       "      <td>0</td>\n",
       "      <td>1</td>\n",
       "      <td>1</td>\n",
       "      <td>0</td>\n",
       "      <td>1</td>\n",
       "      <td>0</td>\n",
       "      <td>0</td>\n",
       "      <td>1</td>\n",
       "    </tr>\n",
       "    <tr>\n",
       "      <th>158506</th>\n",
       "      <td>1.0</td>\n",
       "      <td>Y</td>\n",
       "      <td>H-1B</td>\n",
       "      <td>NETWORK SECURITY ENGINEER</td>\n",
       "      <td>Y</td>\n",
       "      <td>Y</td>\n",
       "      <td>LERA TECHNOLOGIES, LLC</td>\n",
       "      <td>Y</td>\n",
       "      <td>INFORMATION SECURITY ANALYSTS</td>\n",
       "      <td>15-1122</td>\n",
       "      <td>...</td>\n",
       "      <td>0</td>\n",
       "      <td>1</td>\n",
       "      <td>0</td>\n",
       "      <td>1</td>\n",
       "      <td>1</td>\n",
       "      <td>0</td>\n",
       "      <td>1</td>\n",
       "      <td>0</td>\n",
       "      <td>0</td>\n",
       "      <td>1</td>\n",
       "    </tr>\n",
       "    <tr>\n",
       "      <th>420981</th>\n",
       "      <td>1.0</td>\n",
       "      <td>Y</td>\n",
       "      <td>H-1B</td>\n",
       "      <td>SYSTEMS PROCESS AUTOMATION MANAGER</td>\n",
       "      <td>Y</td>\n",
       "      <td>N</td>\n",
       "      <td>PAYPAL, INC.</td>\n",
       "      <td>N</td>\n",
       "      <td>SOFTWARE DEVELOPERS, SYSTEMS SOFTWARE</td>\n",
       "      <td>15-1133</td>\n",
       "      <td>...</td>\n",
       "      <td>0</td>\n",
       "      <td>1</td>\n",
       "      <td>0</td>\n",
       "      <td>1</td>\n",
       "      <td>0</td>\n",
       "      <td>1</td>\n",
       "      <td>0</td>\n",
       "      <td>1</td>\n",
       "      <td>0</td>\n",
       "      <td>1</td>\n",
       "    </tr>\n",
       "  </tbody>\n",
       "</table>\n",
       "<p>5 rows × 33 columns</p>\n",
       "</div>"
      ],
      "text/plain": [
       "        CASE_STATUS AGENT_REPRESENTING_EMPLOYER VISA_CLASS  \\\n",
       "444908          1.0                           Y       H-1B   \n",
       "168682          1.0                           N       H-1B   \n",
       "23394           1.0                           N       H-1B   \n",
       "158506          1.0                           Y       H-1B   \n",
       "420981          1.0                           Y       H-1B   \n",
       "\n",
       "                                 JOB_TITLE FULL_TIME_POSITION H-1B_DEPENDENT  \\\n",
       "444908          NETWORK ADMINISTRATOR - IV                  Y              Y   \n",
       "168682  COMPUTER PROGRAMMER / CONFIGURER 3                  Y              N   \n",
       "23394      QUALITY ASSURANCE SPECIALIST II                  Y              Y   \n",
       "158506           NETWORK SECURITY ENGINEER                  Y              Y   \n",
       "420981  SYSTEMS PROCESS AUTOMATION MANAGER                  Y              N   \n",
       "\n",
       "                               EMPLOYER_NAME SECONDARY_ENTITY_1  \\\n",
       "444908                     HCL AMERICA, INC.                  Y   \n",
       "168682                         ACCENTURE LLP                  N   \n",
       "23394   THE VERITAS HEALTHCARE SOLUTIONS LLC                  Y   \n",
       "158506                LERA TECHNOLOGIES, LLC                  Y   \n",
       "420981                          PAYPAL, INC.                  N   \n",
       "\n",
       "                                          SOC_TITLE SOC_CODE  ...  \\\n",
       "444908  NETWORK AND COMPUTER SYSTEMS ADMINISTRATORS  15-1142  ...   \n",
       "168682                         COMPUTER PROGRAMMERS  15-1131  ...   \n",
       "23394                           MANAGERS, ALL OTHER  11-9199  ...   \n",
       "158506                INFORMATION SECURITY ANALYSTS  15-1122  ...   \n",
       "420981        SOFTWARE DEVELOPERS, SYSTEMS SOFTWARE  15-1133  ...   \n",
       "\n",
       "        AGENT_REPRESENTING_EMPLOYER_0 AGENT_REPRESENTING_EMPLOYER_1  \\\n",
       "444908                              0                             1   \n",
       "168682                              1                             0   \n",
       "23394                               1                             0   \n",
       "158506                              0                             1   \n",
       "420981                              0                             1   \n",
       "\n",
       "       FULL_TIME_POSITION_0  FULL_TIME_POSITION_1  H-1B_DEPENDENT_0  \\\n",
       "444908                    0                     1                 1   \n",
       "168682                    0                     1                 0   \n",
       "23394                     0                     1                 1   \n",
       "158506                    0                     1                 1   \n",
       "420981                    0                     1                 0   \n",
       "\n",
       "        H-1B_DEPENDENT_1  SECONDARY_ENTITY_1_0 SECONDARY_ENTITY_1_1  \\\n",
       "444908                 0                     1                    0   \n",
       "168682                 1                     0                    1   \n",
       "23394                  0                     1                    0   \n",
       "158506                 0                     1                    0   \n",
       "420981                 1                     0                    1   \n",
       "\n",
       "       WILLFUL_VIOLATOR_0 WILLFUL_VIOLATOR_1  \n",
       "444908                  0                  1  \n",
       "168682                  0                  1  \n",
       "23394                   0                  1  \n",
       "158506                  0                  1  \n",
       "420981                  0                  1  \n",
       "\n",
       "[5 rows x 33 columns]"
      ]
     },
     "execution_count": 58,
     "metadata": {},
     "output_type": "execute_result"
    }
   ],
   "source": [
    "# #WILLFUL_VIOLATOR\n",
    "be4=BinaryEncoder()\n",
    "be_enc4=be4.fit_transform(dt['WILLFUL_VIOLATOR'])\n",
    "dt=pd.concat([dt,be_enc4],axis=1)\n",
    "dt.sample(frac=1).head()"
   ]
  },
  {
   "cell_type": "code",
   "execution_count": 59,
   "metadata": {},
   "outputs": [],
   "source": [
    "#dropping columns which have performed binary encoding\n",
    "dt = dt.drop(['AGENT_REPRESENTING_EMPLOYER','VISA_CLASS','FULL_TIME_POSITION','H-1B_DEPENDENT','SECONDARY_ENTITY_1','WILLFUL_VIOLATOR'], axis=1)"
   ]
  },
  {
   "cell_type": "code",
   "execution_count": 60,
   "metadata": {},
   "outputs": [
    {
     "data": {
      "text/html": [
       "<div>\n",
       "<style scoped>\n",
       "    .dataframe tbody tr th:only-of-type {\n",
       "        vertical-align: middle;\n",
       "    }\n",
       "\n",
       "    .dataframe tbody tr th {\n",
       "        vertical-align: top;\n",
       "    }\n",
       "\n",
       "    .dataframe thead th {\n",
       "        text-align: right;\n",
       "    }\n",
       "</style>\n",
       "<table border=\"1\" class=\"dataframe\">\n",
       "  <thead>\n",
       "    <tr style=\"text-align: right;\">\n",
       "      <th></th>\n",
       "      <th>CASE_STATUS</th>\n",
       "      <th>JOB_TITLE</th>\n",
       "      <th>EMPLOYER_NAME</th>\n",
       "      <th>SOC_TITLE</th>\n",
       "      <th>SOC_CODE</th>\n",
       "      <th>NAICS_CODE</th>\n",
       "      <th>NEW_EMPLOYMENT</th>\n",
       "      <th>CONTINUED_EMPLOYMENT</th>\n",
       "      <th>CHANGE_PREVIOUS_EMPLOYMENT</th>\n",
       "      <th>NEW_CONCURRENT_EMPLOYMENT</th>\n",
       "      <th>...</th>\n",
       "      <th>WAGE_RATE_OF_PAY_FROM_1</th>\n",
       "      <th>WAGE_RATE_OF_PAY_TO_1</th>\n",
       "      <th>WAGE_UNIT_OF_PAY_1</th>\n",
       "      <th>TOTAL_WORKER_POSITIONS</th>\n",
       "      <th>PREVAILING_WAGE_1</th>\n",
       "      <th>AGENT_REPRESENTING_EMPLOYER_1</th>\n",
       "      <th>FULL_TIME_POSITION_1</th>\n",
       "      <th>H-1B_DEPENDENT_1</th>\n",
       "      <th>SECONDARY_ENTITY_1_1</th>\n",
       "      <th>WILLFUL_VIOLATOR_1</th>\n",
       "    </tr>\n",
       "  </thead>\n",
       "  <tbody>\n",
       "    <tr>\n",
       "      <th>72</th>\n",
       "      <td>1.0</td>\n",
       "      <td>ACD WRITING</td>\n",
       "      <td>APPLE INC.</td>\n",
       "      <td>ADVERTISING AND PROMOTIONS MANAGERS</td>\n",
       "      <td>11-2011</td>\n",
       "      <td>334111.0</td>\n",
       "      <td>0</td>\n",
       "      <td>1</td>\n",
       "      <td>0.0</td>\n",
       "      <td>0.0</td>\n",
       "      <td>...</td>\n",
       "      <td>154232</td>\n",
       "      <td>225400</td>\n",
       "      <td>Year</td>\n",
       "      <td>1.0</td>\n",
       "      <td>154232.00</td>\n",
       "      <td>1</td>\n",
       "      <td>1</td>\n",
       "      <td>1</td>\n",
       "      <td>1</td>\n",
       "      <td>1</td>\n",
       "    </tr>\n",
       "    <tr>\n",
       "      <th>73</th>\n",
       "      <td>1.0</td>\n",
       "      <td>ADVERTISING AND PROMOTIONS MANAGER</td>\n",
       "      <td>TAOLA, INC.</td>\n",
       "      <td>ADVERTISING AND PROMOTIONS MANAGERS</td>\n",
       "      <td>11-2011</td>\n",
       "      <td>516110.0</td>\n",
       "      <td>0</td>\n",
       "      <td>0</td>\n",
       "      <td>0.0</td>\n",
       "      <td>0.0</td>\n",
       "      <td>...</td>\n",
       "      <td>47.01</td>\n",
       "      <td>47.01</td>\n",
       "      <td>Hour</td>\n",
       "      <td>1.0</td>\n",
       "      <td>47.01</td>\n",
       "      <td>1</td>\n",
       "      <td>0</td>\n",
       "      <td>1</td>\n",
       "      <td>1</td>\n",
       "      <td>1</td>\n",
       "    </tr>\n",
       "  </tbody>\n",
       "</table>\n",
       "<p>2 rows × 22 columns</p>\n",
       "</div>"
      ],
      "text/plain": [
       "    CASE_STATUS                           JOB_TITLE EMPLOYER_NAME  \\\n",
       "72          1.0                         ACD WRITING    APPLE INC.   \n",
       "73          1.0  ADVERTISING AND PROMOTIONS MANAGER   TAOLA, INC.   \n",
       "\n",
       "                              SOC_TITLE SOC_CODE  NAICS_CODE NEW_EMPLOYMENT  \\\n",
       "72  ADVERTISING AND PROMOTIONS MANAGERS  11-2011    334111.0              0   \n",
       "73  ADVERTISING AND PROMOTIONS MANAGERS  11-2011    516110.0              0   \n",
       "\n",
       "   CONTINUED_EMPLOYMENT  CHANGE_PREVIOUS_EMPLOYMENT  \\\n",
       "72                    1                         0.0   \n",
       "73                    0                         0.0   \n",
       "\n",
       "    NEW_CONCURRENT_EMPLOYMENT  ...  WAGE_RATE_OF_PAY_FROM_1  \\\n",
       "72                        0.0  ...                   154232   \n",
       "73                        0.0  ...                    47.01   \n",
       "\n",
       "    WAGE_RATE_OF_PAY_TO_1 WAGE_UNIT_OF_PAY_1 TOTAL_WORKER_POSITIONS  \\\n",
       "72                 225400               Year                    1.0   \n",
       "73                  47.01               Hour                    1.0   \n",
       "\n",
       "   PREVAILING_WAGE_1  AGENT_REPRESENTING_EMPLOYER_1  FULL_TIME_POSITION_1  \\\n",
       "72         154232.00                              1                     1   \n",
       "73             47.01                              1                     0   \n",
       "\n",
       "    H-1B_DEPENDENT_1  SECONDARY_ENTITY_1_1  WILLFUL_VIOLATOR_1  \n",
       "72                 1                     1                   1  \n",
       "73                 1                     1                   1  \n",
       "\n",
       "[2 rows x 22 columns]"
      ]
     },
     "execution_count": 60,
     "metadata": {},
     "output_type": "execute_result"
    }
   ],
   "source": [
    "# #dropping columns\n",
    "dt = dt.drop(['AGENT_REPRESENTING_EMPLOYER_0'], axis=1)\n",
    "dt = dt.drop(['FULL_TIME_POSITION_0'], axis=1)\n",
    "dt = dt.drop(['H-1B_DEPENDENT_0'], axis=1)\n",
    "dt = dt.drop(['SECONDARY_ENTITY_1_0'], axis=1)\n",
    "dt = dt.drop(['WILLFUL_VIOLATOR_0'], axis=1)\n",
    "dt.head(2)"
   ]
  },
  {
   "cell_type": "code",
   "execution_count": 61,
   "metadata": {},
   "outputs": [
    {
     "data": {
      "text/plain": [
       "CASE_STATUS                      float64\n",
       "JOB_TITLE                         object\n",
       "EMPLOYER_NAME                     object\n",
       "SOC_TITLE                         object\n",
       "SOC_CODE                          object\n",
       "NAICS_CODE                       float64\n",
       "NEW_EMPLOYMENT                    object\n",
       "CONTINUED_EMPLOYMENT              object\n",
       "CHANGE_PREVIOUS_EMPLOYMENT       float64\n",
       "NEW_CONCURRENT_EMPLOYMENT        float64\n",
       "CHANGE_EMPLOYER                  float64\n",
       "AMENDED_PETITION                 float64\n",
       "WAGE_RATE_OF_PAY_FROM_1           object\n",
       "WAGE_RATE_OF_PAY_TO_1             object\n",
       "WAGE_UNIT_OF_PAY_1                object\n",
       "TOTAL_WORKER_POSITIONS           float64\n",
       "PREVAILING_WAGE_1                float64\n",
       "AGENT_REPRESENTING_EMPLOYER_1      int64\n",
       "FULL_TIME_POSITION_1               int64\n",
       "H-1B_DEPENDENT_1                   int64\n",
       "SECONDARY_ENTITY_1_1               int64\n",
       "WILLFUL_VIOLATOR_1                 int64\n",
       "dtype: object"
      ]
     },
     "execution_count": 61,
     "metadata": {},
     "output_type": "execute_result"
    }
   ],
   "source": [
    "dt.dtypes"
   ]
  },
  {
   "cell_type": "code",
   "execution_count": 62,
   "metadata": {},
   "outputs": [],
   "source": [
    "#performing frequency encoding on JOB_TITLE\n",
    "col='JOB_TITLE'\n",
    "#group by frequency\n",
    "freq=dt.groupby(col).size()/len(dt)\n",
    "#map the values\n",
    "dt.loc[:, \"{}_freq\".format(col)]=dt[col].map(freq)"
   ]
  },
  {
   "cell_type": "code",
   "execution_count": 63,
   "metadata": {},
   "outputs": [],
   "source": [
    "#performing frequency encoding on 'EMPLOYER_NAME'\n",
    "col1='EMPLOYER_NAME'\n",
    "#group by frequency\n",
    "freq1=dt.groupby(col1).size()/len(dt)\n",
    "#map the values\n",
    "dt.loc[:, \"{}_freq\".format(col1)]=dt[col1].map(freq1)"
   ]
  },
  {
   "cell_type": "code",
   "execution_count": 64,
   "metadata": {},
   "outputs": [],
   "source": [
    "#performing frequency encoding on 'SOC_TITLE'\n",
    "col2='SOC_TITLE'\n",
    "#group by frequency\n",
    "freq2=dt.groupby(col2).size()/len(dt)\n",
    "#map the values\n",
    "dt.loc[:, \"{}_freq\".format(col2)]=dt[col2].map(freq2)"
   ]
  },
  {
   "cell_type": "code",
   "execution_count": 65,
   "metadata": {},
   "outputs": [],
   "source": [
    "#performing frequency encoding on 'SOC_CODE'\n",
    "col3='SOC_CODE'\n",
    "#group by frequency\n",
    "freq3=dt.groupby(col3).size()/len(dt)\n",
    "#map the values\n",
    "dt.loc[:, \"{}_freq\".format(col3)]=dt[col3].map(freq3)"
   ]
  },
  {
   "cell_type": "code",
   "execution_count": 66,
   "metadata": {},
   "outputs": [],
   "source": [
    "#performing frequency encoding on 'NEW_EMPLOYMENT'\n",
    "col4='NEW_EMPLOYMENT'\n",
    "#group by frequency\n",
    "freq4=dt.groupby(col4).size()/len(dt)\n",
    "#map the values\n",
    "dt.loc[:, \"{}_freq\".format(col4)]=dt[col4].map(freq4)"
   ]
  },
  {
   "cell_type": "code",
   "execution_count": 67,
   "metadata": {},
   "outputs": [],
   "source": [
    "#performing frequency encoding on 'CONTINUED_EMPLOYMENT'\n",
    "col5='CONTINUED_EMPLOYMENT'\n",
    "#group by frequency\n",
    "freq5=dt.groupby(col5).size()/len(dt)\n",
    "#map the values\n",
    "dt.loc[:, \"{}_freq\".format(col5)]=dt[col5].map(freq5)"
   ]
  },
  {
   "cell_type": "code",
   "execution_count": 68,
   "metadata": {},
   "outputs": [],
   "source": [
    "#performing frequency encoding on 'WAGE_UNIT_OF_PAY_1'\n",
    "col6='WAGE_UNIT_OF_PAY_1'\n",
    "#group by frequency\n",
    "freq6=dt.groupby(col6).size()/len(dt)\n",
    "#map the values\n",
    "dt.loc[:, \"{}_freq\".format(col6)]=dt[col6].map(freq6)"
   ]
  },
  {
   "cell_type": "code",
   "execution_count": 69,
   "metadata": {},
   "outputs": [
    {
     "data": {
      "text/html": [
       "<div>\n",
       "<style scoped>\n",
       "    .dataframe tbody tr th:only-of-type {\n",
       "        vertical-align: middle;\n",
       "    }\n",
       "\n",
       "    .dataframe tbody tr th {\n",
       "        vertical-align: top;\n",
       "    }\n",
       "\n",
       "    .dataframe thead th {\n",
       "        text-align: right;\n",
       "    }\n",
       "</style>\n",
       "<table border=\"1\" class=\"dataframe\">\n",
       "  <thead>\n",
       "    <tr style=\"text-align: right;\">\n",
       "      <th></th>\n",
       "      <th>CASE_STATUS</th>\n",
       "      <th>JOB_TITLE</th>\n",
       "      <th>EMPLOYER_NAME</th>\n",
       "      <th>SOC_TITLE</th>\n",
       "      <th>SOC_CODE</th>\n",
       "      <th>NAICS_CODE</th>\n",
       "      <th>NEW_EMPLOYMENT</th>\n",
       "      <th>CONTINUED_EMPLOYMENT</th>\n",
       "      <th>CHANGE_PREVIOUS_EMPLOYMENT</th>\n",
       "      <th>NEW_CONCURRENT_EMPLOYMENT</th>\n",
       "      <th>...</th>\n",
       "      <th>H-1B_DEPENDENT_1</th>\n",
       "      <th>SECONDARY_ENTITY_1_1</th>\n",
       "      <th>WILLFUL_VIOLATOR_1</th>\n",
       "      <th>JOB_TITLE_freq</th>\n",
       "      <th>EMPLOYER_NAME_freq</th>\n",
       "      <th>SOC_TITLE_freq</th>\n",
       "      <th>SOC_CODE_freq</th>\n",
       "      <th>NEW_EMPLOYMENT_freq</th>\n",
       "      <th>CONTINUED_EMPLOYMENT_freq</th>\n",
       "      <th>WAGE_UNIT_OF_PAY_1_freq</th>\n",
       "    </tr>\n",
       "  </thead>\n",
       "  <tbody>\n",
       "    <tr>\n",
       "      <th>72</th>\n",
       "      <td>1.0</td>\n",
       "      <td>ACD WRITING</td>\n",
       "      <td>APPLE INC.</td>\n",
       "      <td>ADVERTISING AND PROMOTIONS MANAGERS</td>\n",
       "      <td>11-2011</td>\n",
       "      <td>334111.0</td>\n",
       "      <td>0</td>\n",
       "      <td>1</td>\n",
       "      <td>0.0</td>\n",
       "      <td>0.0</td>\n",
       "      <td>...</td>\n",
       "      <td>1</td>\n",
       "      <td>1</td>\n",
       "      <td>1</td>\n",
       "      <td>0.000003</td>\n",
       "      <td>0.001712</td>\n",
       "      <td>0.000247</td>\n",
       "      <td>0.000251</td>\n",
       "      <td>0.537017</td>\n",
       "      <td>0.209910</td>\n",
       "      <td>0.941278</td>\n",
       "    </tr>\n",
       "    <tr>\n",
       "      <th>73</th>\n",
       "      <td>1.0</td>\n",
       "      <td>ADVERTISING AND PROMOTIONS MANAGER</td>\n",
       "      <td>TAOLA, INC.</td>\n",
       "      <td>ADVERTISING AND PROMOTIONS MANAGERS</td>\n",
       "      <td>11-2011</td>\n",
       "      <td>516110.0</td>\n",
       "      <td>0</td>\n",
       "      <td>0</td>\n",
       "      <td>0.0</td>\n",
       "      <td>0.0</td>\n",
       "      <td>...</td>\n",
       "      <td>1</td>\n",
       "      <td>1</td>\n",
       "      <td>1</td>\n",
       "      <td>0.000014</td>\n",
       "      <td>0.000003</td>\n",
       "      <td>0.000247</td>\n",
       "      <td>0.000251</td>\n",
       "      <td>0.537017</td>\n",
       "      <td>0.766476</td>\n",
       "      <td>0.057998</td>\n",
       "    </tr>\n",
       "    <tr>\n",
       "      <th>75</th>\n",
       "      <td>1.0</td>\n",
       "      <td>DIGITAL ADVERTISING MANAGER</td>\n",
       "      <td>PROBOSCIS, INC.</td>\n",
       "      <td>ADVERTISING AND PROMOTIONS MANAGERS</td>\n",
       "      <td>11-2011</td>\n",
       "      <td>541512.0</td>\n",
       "      <td>0</td>\n",
       "      <td>0</td>\n",
       "      <td>0.0</td>\n",
       "      <td>0.0</td>\n",
       "      <td>...</td>\n",
       "      <td>1</td>\n",
       "      <td>1</td>\n",
       "      <td>1</td>\n",
       "      <td>0.000003</td>\n",
       "      <td>0.000003</td>\n",
       "      <td>0.000247</td>\n",
       "      <td>0.000251</td>\n",
       "      <td>0.537017</td>\n",
       "      <td>0.766476</td>\n",
       "      <td>0.941278</td>\n",
       "    </tr>\n",
       "    <tr>\n",
       "      <th>79</th>\n",
       "      <td>1.0</td>\n",
       "      <td>CREATIVE AGENCY PARTNER</td>\n",
       "      <td>FACEBOOK, INC.</td>\n",
       "      <td>ADVERTISING AND PROMOTIONS MANAGERS</td>\n",
       "      <td>11-2011</td>\n",
       "      <td>518112.0</td>\n",
       "      <td>0</td>\n",
       "      <td>0</td>\n",
       "      <td>1.0</td>\n",
       "      <td>0.0</td>\n",
       "      <td>...</td>\n",
       "      <td>0</td>\n",
       "      <td>1</td>\n",
       "      <td>1</td>\n",
       "      <td>0.000003</td>\n",
       "      <td>0.000929</td>\n",
       "      <td>0.000247</td>\n",
       "      <td>0.000251</td>\n",
       "      <td>0.537017</td>\n",
       "      <td>0.766476</td>\n",
       "      <td>0.941278</td>\n",
       "    </tr>\n",
       "    <tr>\n",
       "      <th>84</th>\n",
       "      <td>1.0</td>\n",
       "      <td>GLOBAL BRAND MANAGER</td>\n",
       "      <td>SWI-DE, LLC</td>\n",
       "      <td>ADVERTISING AND PROMOTIONS MANAGERS</td>\n",
       "      <td>11-2011</td>\n",
       "      <td>31222.0</td>\n",
       "      <td>0</td>\n",
       "      <td>0</td>\n",
       "      <td>0.0</td>\n",
       "      <td>0.0</td>\n",
       "      <td>...</td>\n",
       "      <td>1</td>\n",
       "      <td>1</td>\n",
       "      <td>1</td>\n",
       "      <td>0.000003</td>\n",
       "      <td>0.000003</td>\n",
       "      <td>0.000247</td>\n",
       "      <td>0.000251</td>\n",
       "      <td>0.537017</td>\n",
       "      <td>0.766476</td>\n",
       "      <td>0.941278</td>\n",
       "    </tr>\n",
       "  </tbody>\n",
       "</table>\n",
       "<p>5 rows × 29 columns</p>\n",
       "</div>"
      ],
      "text/plain": [
       "    CASE_STATUS                           JOB_TITLE    EMPLOYER_NAME  \\\n",
       "72          1.0                         ACD WRITING       APPLE INC.   \n",
       "73          1.0  ADVERTISING AND PROMOTIONS MANAGER      TAOLA, INC.   \n",
       "75          1.0         DIGITAL ADVERTISING MANAGER  PROBOSCIS, INC.   \n",
       "79          1.0             CREATIVE AGENCY PARTNER   FACEBOOK, INC.   \n",
       "84          1.0                GLOBAL BRAND MANAGER      SWI-DE, LLC   \n",
       "\n",
       "                              SOC_TITLE SOC_CODE  NAICS_CODE NEW_EMPLOYMENT  \\\n",
       "72  ADVERTISING AND PROMOTIONS MANAGERS  11-2011    334111.0              0   \n",
       "73  ADVERTISING AND PROMOTIONS MANAGERS  11-2011    516110.0              0   \n",
       "75  ADVERTISING AND PROMOTIONS MANAGERS  11-2011    541512.0              0   \n",
       "79  ADVERTISING AND PROMOTIONS MANAGERS  11-2011    518112.0              0   \n",
       "84  ADVERTISING AND PROMOTIONS MANAGERS  11-2011     31222.0              0   \n",
       "\n",
       "   CONTINUED_EMPLOYMENT  CHANGE_PREVIOUS_EMPLOYMENT  \\\n",
       "72                    1                         0.0   \n",
       "73                    0                         0.0   \n",
       "75                    0                         0.0   \n",
       "79                    0                         1.0   \n",
       "84                    0                         0.0   \n",
       "\n",
       "    NEW_CONCURRENT_EMPLOYMENT  ...  H-1B_DEPENDENT_1  SECONDARY_ENTITY_1_1  \\\n",
       "72                        0.0  ...                 1                     1   \n",
       "73                        0.0  ...                 1                     1   \n",
       "75                        0.0  ...                 1                     1   \n",
       "79                        0.0  ...                 0                     1   \n",
       "84                        0.0  ...                 1                     1   \n",
       "\n",
       "   WILLFUL_VIOLATOR_1 JOB_TITLE_freq EMPLOYER_NAME_freq  SOC_TITLE_freq  \\\n",
       "72                  1       0.000003           0.001712        0.000247   \n",
       "73                  1       0.000014           0.000003        0.000247   \n",
       "75                  1       0.000003           0.000003        0.000247   \n",
       "79                  1       0.000003           0.000929        0.000247   \n",
       "84                  1       0.000003           0.000003        0.000247   \n",
       "\n",
       "    SOC_CODE_freq  NEW_EMPLOYMENT_freq  CONTINUED_EMPLOYMENT_freq  \\\n",
       "72       0.000251             0.537017                   0.209910   \n",
       "73       0.000251             0.537017                   0.766476   \n",
       "75       0.000251             0.537017                   0.766476   \n",
       "79       0.000251             0.537017                   0.766476   \n",
       "84       0.000251             0.537017                   0.766476   \n",
       "\n",
       "    WAGE_UNIT_OF_PAY_1_freq  \n",
       "72                 0.941278  \n",
       "73                 0.057998  \n",
       "75                 0.941278  \n",
       "79                 0.941278  \n",
       "84                 0.941278  \n",
       "\n",
       "[5 rows x 29 columns]"
      ]
     },
     "execution_count": 69,
     "metadata": {},
     "output_type": "execute_result"
    }
   ],
   "source": [
    "dt.head()"
   ]
  },
  {
   "cell_type": "code",
   "execution_count": 70,
   "metadata": {},
   "outputs": [],
   "source": [
    "#dropping columns which have performed frequency encoding\n",
    "dt =dt.drop(['JOB_TITLE','EMPLOYER_NAME','SOC_TITLE','SOC_CODE','NEW_EMPLOYMENT','CONTINUED_EMPLOYMENT','WAGE_UNIT_OF_PAY_1'], axis=1)"
   ]
  },
  {
   "cell_type": "code",
   "execution_count": 71,
   "metadata": {},
   "outputs": [
    {
     "data": {
      "text/plain": [
       "CASE_STATUS                      float64\n",
       "NAICS_CODE                       float64\n",
       "CHANGE_PREVIOUS_EMPLOYMENT       float64\n",
       "NEW_CONCURRENT_EMPLOYMENT        float64\n",
       "CHANGE_EMPLOYER                  float64\n",
       "AMENDED_PETITION                 float64\n",
       "WAGE_RATE_OF_PAY_FROM_1           object\n",
       "WAGE_RATE_OF_PAY_TO_1             object\n",
       "TOTAL_WORKER_POSITIONS           float64\n",
       "PREVAILING_WAGE_1                float64\n",
       "AGENT_REPRESENTING_EMPLOYER_1      int64\n",
       "FULL_TIME_POSITION_1               int64\n",
       "H-1B_DEPENDENT_1                   int64\n",
       "SECONDARY_ENTITY_1_1               int64\n",
       "WILLFUL_VIOLATOR_1                 int64\n",
       "JOB_TITLE_freq                   float64\n",
       "EMPLOYER_NAME_freq               float64\n",
       "SOC_TITLE_freq                   float64\n",
       "SOC_CODE_freq                    float64\n",
       "NEW_EMPLOYMENT_freq              float64\n",
       "CONTINUED_EMPLOYMENT_freq        float64\n",
       "WAGE_UNIT_OF_PAY_1_freq          float64\n",
       "dtype: object"
      ]
     },
     "execution_count": 71,
     "metadata": {},
     "output_type": "execute_result"
    }
   ],
   "source": [
    "dt.dtypes"
   ]
  },
  {
   "cell_type": "markdown",
   "metadata": {},
   "source": [
    "## splitting the dataset"
   ]
  },
  {
   "cell_type": "code",
   "execution_count": 72,
   "metadata": {},
   "outputs": [],
   "source": [
    "import sklearn.metrics as metrics\n",
    "from sklearn import preprocessing\n",
    "from sklearn.preprocessing import StandardScaler\n",
    "# from sklearn.naive_bayes import BernoulliNB\n",
    "from sklearn.metrics import confusion_matrix\n",
    "from sklearn.metrics import accuracy_score"
   ]
  },
  {
   "cell_type": "code",
   "execution_count": 73,
   "metadata": {},
   "outputs": [],
   "source": [
    "#Independent Variables\n",
    "X = dt.drop(['CASE_STATUS'], axis=1) "
   ]
  },
  {
   "cell_type": "code",
   "execution_count": 74,
   "metadata": {},
   "outputs": [],
   "source": [
    "# Dependent variables\n",
    "Y = dt['CASE_STATUS'] "
   ]
  },
  {
   "cell_type": "code",
   "execution_count": 75,
   "metadata": {},
   "outputs": [
    {
     "data": {
      "text/html": [
       "<div>\n",
       "<style scoped>\n",
       "    .dataframe tbody tr th:only-of-type {\n",
       "        vertical-align: middle;\n",
       "    }\n",
       "\n",
       "    .dataframe tbody tr th {\n",
       "        vertical-align: top;\n",
       "    }\n",
       "\n",
       "    .dataframe thead th {\n",
       "        text-align: right;\n",
       "    }\n",
       "</style>\n",
       "<table border=\"1\" class=\"dataframe\">\n",
       "  <thead>\n",
       "    <tr style=\"text-align: right;\">\n",
       "      <th></th>\n",
       "      <th>NAICS_CODE</th>\n",
       "      <th>CHANGE_PREVIOUS_EMPLOYMENT</th>\n",
       "      <th>NEW_CONCURRENT_EMPLOYMENT</th>\n",
       "      <th>CHANGE_EMPLOYER</th>\n",
       "      <th>AMENDED_PETITION</th>\n",
       "      <th>WAGE_RATE_OF_PAY_FROM_1</th>\n",
       "      <th>WAGE_RATE_OF_PAY_TO_1</th>\n",
       "      <th>TOTAL_WORKER_POSITIONS</th>\n",
       "      <th>PREVAILING_WAGE_1</th>\n",
       "      <th>AGENT_REPRESENTING_EMPLOYER_1</th>\n",
       "      <th>...</th>\n",
       "      <th>H-1B_DEPENDENT_1</th>\n",
       "      <th>SECONDARY_ENTITY_1_1</th>\n",
       "      <th>WILLFUL_VIOLATOR_1</th>\n",
       "      <th>JOB_TITLE_freq</th>\n",
       "      <th>EMPLOYER_NAME_freq</th>\n",
       "      <th>SOC_TITLE_freq</th>\n",
       "      <th>SOC_CODE_freq</th>\n",
       "      <th>NEW_EMPLOYMENT_freq</th>\n",
       "      <th>CONTINUED_EMPLOYMENT_freq</th>\n",
       "      <th>WAGE_UNIT_OF_PAY_1_freq</th>\n",
       "    </tr>\n",
       "  </thead>\n",
       "  <tbody>\n",
       "    <tr>\n",
       "      <th>72</th>\n",
       "      <td>334111.0</td>\n",
       "      <td>0.0</td>\n",
       "      <td>0.0</td>\n",
       "      <td>0.0</td>\n",
       "      <td>0.0</td>\n",
       "      <td>154232</td>\n",
       "      <td>225400</td>\n",
       "      <td>1.0</td>\n",
       "      <td>154232.00</td>\n",
       "      <td>1</td>\n",
       "      <td>...</td>\n",
       "      <td>1</td>\n",
       "      <td>1</td>\n",
       "      <td>1</td>\n",
       "      <td>0.000003</td>\n",
       "      <td>0.001712</td>\n",
       "      <td>0.000247</td>\n",
       "      <td>0.000251</td>\n",
       "      <td>0.537017</td>\n",
       "      <td>0.209910</td>\n",
       "      <td>0.941278</td>\n",
       "    </tr>\n",
       "    <tr>\n",
       "      <th>73</th>\n",
       "      <td>516110.0</td>\n",
       "      <td>0.0</td>\n",
       "      <td>0.0</td>\n",
       "      <td>1.0</td>\n",
       "      <td>0.0</td>\n",
       "      <td>47.01</td>\n",
       "      <td>47.01</td>\n",
       "      <td>1.0</td>\n",
       "      <td>47.01</td>\n",
       "      <td>1</td>\n",
       "      <td>...</td>\n",
       "      <td>1</td>\n",
       "      <td>1</td>\n",
       "      <td>1</td>\n",
       "      <td>0.000014</td>\n",
       "      <td>0.000003</td>\n",
       "      <td>0.000247</td>\n",
       "      <td>0.000251</td>\n",
       "      <td>0.537017</td>\n",
       "      <td>0.766476</td>\n",
       "      <td>0.057998</td>\n",
       "    </tr>\n",
       "    <tr>\n",
       "      <th>75</th>\n",
       "      <td>541512.0</td>\n",
       "      <td>0.0</td>\n",
       "      <td>0.0</td>\n",
       "      <td>1.0</td>\n",
       "      <td>0.0</td>\n",
       "      <td>47549</td>\n",
       "      <td>47549</td>\n",
       "      <td>1.0</td>\n",
       "      <td>47549.00</td>\n",
       "      <td>1</td>\n",
       "      <td>...</td>\n",
       "      <td>1</td>\n",
       "      <td>1</td>\n",
       "      <td>1</td>\n",
       "      <td>0.000003</td>\n",
       "      <td>0.000003</td>\n",
       "      <td>0.000247</td>\n",
       "      <td>0.000251</td>\n",
       "      <td>0.537017</td>\n",
       "      <td>0.766476</td>\n",
       "      <td>0.941278</td>\n",
       "    </tr>\n",
       "    <tr>\n",
       "      <th>79</th>\n",
       "      <td>518112.0</td>\n",
       "      <td>1.0</td>\n",
       "      <td>0.0</td>\n",
       "      <td>0.0</td>\n",
       "      <td>0.0</td>\n",
       "      <td>214230</td>\n",
       "      <td>214230</td>\n",
       "      <td>1.0</td>\n",
       "      <td>156146.00</td>\n",
       "      <td>1</td>\n",
       "      <td>...</td>\n",
       "      <td>0</td>\n",
       "      <td>1</td>\n",
       "      <td>1</td>\n",
       "      <td>0.000003</td>\n",
       "      <td>0.000929</td>\n",
       "      <td>0.000247</td>\n",
       "      <td>0.000251</td>\n",
       "      <td>0.537017</td>\n",
       "      <td>0.766476</td>\n",
       "      <td>0.941278</td>\n",
       "    </tr>\n",
       "    <tr>\n",
       "      <th>84</th>\n",
       "      <td>31222.0</td>\n",
       "      <td>0.0</td>\n",
       "      <td>0.0</td>\n",
       "      <td>0.0</td>\n",
       "      <td>1.0</td>\n",
       "      <td>90000</td>\n",
       "      <td>110000</td>\n",
       "      <td>1.0</td>\n",
       "      <td>75026.00</td>\n",
       "      <td>1</td>\n",
       "      <td>...</td>\n",
       "      <td>1</td>\n",
       "      <td>1</td>\n",
       "      <td>1</td>\n",
       "      <td>0.000003</td>\n",
       "      <td>0.000003</td>\n",
       "      <td>0.000247</td>\n",
       "      <td>0.000251</td>\n",
       "      <td>0.537017</td>\n",
       "      <td>0.766476</td>\n",
       "      <td>0.941278</td>\n",
       "    </tr>\n",
       "  </tbody>\n",
       "</table>\n",
       "<p>5 rows × 21 columns</p>\n",
       "</div>"
      ],
      "text/plain": [
       "    NAICS_CODE  CHANGE_PREVIOUS_EMPLOYMENT  NEW_CONCURRENT_EMPLOYMENT  \\\n",
       "72    334111.0                         0.0                        0.0   \n",
       "73    516110.0                         0.0                        0.0   \n",
       "75    541512.0                         0.0                        0.0   \n",
       "79    518112.0                         1.0                        0.0   \n",
       "84     31222.0                         0.0                        0.0   \n",
       "\n",
       "    CHANGE_EMPLOYER  AMENDED_PETITION WAGE_RATE_OF_PAY_FROM_1  \\\n",
       "72              0.0               0.0                  154232   \n",
       "73              1.0               0.0                   47.01   \n",
       "75              1.0               0.0                   47549   \n",
       "79              0.0               0.0                  214230   \n",
       "84              0.0               1.0                   90000   \n",
       "\n",
       "   WAGE_RATE_OF_PAY_TO_1  TOTAL_WORKER_POSITIONS  PREVAILING_WAGE_1  \\\n",
       "72                225400                     1.0          154232.00   \n",
       "73                 47.01                     1.0              47.01   \n",
       "75                 47549                     1.0           47549.00   \n",
       "79                214230                     1.0          156146.00   \n",
       "84                110000                     1.0           75026.00   \n",
       "\n",
       "    AGENT_REPRESENTING_EMPLOYER_1  ...  H-1B_DEPENDENT_1  \\\n",
       "72                              1  ...                 1   \n",
       "73                              1  ...                 1   \n",
       "75                              1  ...                 1   \n",
       "79                              1  ...                 0   \n",
       "84                              1  ...                 1   \n",
       "\n",
       "    SECONDARY_ENTITY_1_1  WILLFUL_VIOLATOR_1  JOB_TITLE_freq  \\\n",
       "72                     1                   1        0.000003   \n",
       "73                     1                   1        0.000014   \n",
       "75                     1                   1        0.000003   \n",
       "79                     1                   1        0.000003   \n",
       "84                     1                   1        0.000003   \n",
       "\n",
       "    EMPLOYER_NAME_freq  SOC_TITLE_freq  SOC_CODE_freq  NEW_EMPLOYMENT_freq  \\\n",
       "72            0.001712        0.000247       0.000251             0.537017   \n",
       "73            0.000003        0.000247       0.000251             0.537017   \n",
       "75            0.000003        0.000247       0.000251             0.537017   \n",
       "79            0.000929        0.000247       0.000251             0.537017   \n",
       "84            0.000003        0.000247       0.000251             0.537017   \n",
       "\n",
       "    CONTINUED_EMPLOYMENT_freq  WAGE_UNIT_OF_PAY_1_freq  \n",
       "72                   0.209910                 0.941278  \n",
       "73                   0.766476                 0.057998  \n",
       "75                   0.766476                 0.941278  \n",
       "79                   0.766476                 0.941278  \n",
       "84                   0.766476                 0.941278  \n",
       "\n",
       "[5 rows x 21 columns]"
      ]
     },
     "execution_count": 75,
     "metadata": {},
     "output_type": "execute_result"
    }
   ],
   "source": [
    "X.head()"
   ]
  },
  {
   "cell_type": "code",
   "execution_count": 76,
   "metadata": {},
   "outputs": [
    {
     "data": {
      "text/plain": [
       "72    1.0\n",
       "73    1.0\n",
       "75    1.0\n",
       "Name: CASE_STATUS, dtype: float64"
      ]
     },
     "execution_count": 76,
     "metadata": {},
     "output_type": "execute_result"
    }
   ],
   "source": [
    "Y.head(3)"
   ]
  },
  {
   "cell_type": "code",
   "execution_count": 77,
   "metadata": {},
   "outputs": [],
   "source": [
    "X_train, X_test, Y_train, Y_test = train_test_split(X, Y, test_size = 0.3, random_state = 42)"
   ]
  },
  {
   "cell_type": "code",
   "execution_count": 78,
   "metadata": {},
   "outputs": [],
   "source": [
    "sc_X = StandardScaler()\n",
    "X_train = sc_X.fit_transform(X_train)\n",
    "X_test = sc_X.fit_transform(X_test)"
   ]
  },
  {
   "cell_type": "code",
   "execution_count": 79,
   "metadata": {},
   "outputs": [],
   "source": [
    "# classifer=BernoulliNB()\n",
    "# classifer.fit(X_train,Y_train)"
   ]
  },
  {
   "cell_type": "code",
   "execution_count": null,
   "metadata": {},
   "outputs": [],
   "source": []
  },
  {
   "cell_type": "code",
   "execution_count": 92,
   "metadata": {},
   "outputs": [],
   "source": [
    "from sklearn.ensemble import RandomForestClassifier\n",
    "from sklearn.metrics import confusion_matrix, accuracy_score, classification_report"
   ]
  },
  {
   "cell_type": "code",
   "execution_count": 93,
   "metadata": {},
   "outputs": [],
   "source": [
    "RandomForest = RandomForestClassifier(n_estimators = 500, criterion=\"entropy\")\n",
    "\n"
   ]
  },
  {
   "cell_type": "code",
   "execution_count": 94,
   "metadata": {},
   "outputs": [
    {
     "data": {
      "text/html": [
       "<style>#sk-container-id-2 {color: black;background-color: white;}#sk-container-id-2 pre{padding: 0;}#sk-container-id-2 div.sk-toggleable {background-color: white;}#sk-container-id-2 label.sk-toggleable__label {cursor: pointer;display: block;width: 100%;margin-bottom: 0;padding: 0.3em;box-sizing: border-box;text-align: center;}#sk-container-id-2 label.sk-toggleable__label-arrow:before {content: \"▸\";float: left;margin-right: 0.25em;color: #696969;}#sk-container-id-2 label.sk-toggleable__label-arrow:hover:before {color: black;}#sk-container-id-2 div.sk-estimator:hover label.sk-toggleable__label-arrow:before {color: black;}#sk-container-id-2 div.sk-toggleable__content {max-height: 0;max-width: 0;overflow: hidden;text-align: left;background-color: #f0f8ff;}#sk-container-id-2 div.sk-toggleable__content pre {margin: 0.2em;color: black;border-radius: 0.25em;background-color: #f0f8ff;}#sk-container-id-2 input.sk-toggleable__control:checked~div.sk-toggleable__content {max-height: 200px;max-width: 100%;overflow: auto;}#sk-container-id-2 input.sk-toggleable__control:checked~label.sk-toggleable__label-arrow:before {content: \"▾\";}#sk-container-id-2 div.sk-estimator input.sk-toggleable__control:checked~label.sk-toggleable__label {background-color: #d4ebff;}#sk-container-id-2 div.sk-label input.sk-toggleable__control:checked~label.sk-toggleable__label {background-color: #d4ebff;}#sk-container-id-2 input.sk-hidden--visually {border: 0;clip: rect(1px 1px 1px 1px);clip: rect(1px, 1px, 1px, 1px);height: 1px;margin: -1px;overflow: hidden;padding: 0;position: absolute;width: 1px;}#sk-container-id-2 div.sk-estimator {font-family: monospace;background-color: #f0f8ff;border: 1px dotted black;border-radius: 0.25em;box-sizing: border-box;margin-bottom: 0.5em;}#sk-container-id-2 div.sk-estimator:hover {background-color: #d4ebff;}#sk-container-id-2 div.sk-parallel-item::after {content: \"\";width: 100%;border-bottom: 1px solid gray;flex-grow: 1;}#sk-container-id-2 div.sk-label:hover label.sk-toggleable__label {background-color: #d4ebff;}#sk-container-id-2 div.sk-serial::before {content: \"\";position: absolute;border-left: 1px solid gray;box-sizing: border-box;top: 0;bottom: 0;left: 50%;z-index: 0;}#sk-container-id-2 div.sk-serial {display: flex;flex-direction: column;align-items: center;background-color: white;padding-right: 0.2em;padding-left: 0.2em;position: relative;}#sk-container-id-2 div.sk-item {position: relative;z-index: 1;}#sk-container-id-2 div.sk-parallel {display: flex;align-items: stretch;justify-content: center;background-color: white;position: relative;}#sk-container-id-2 div.sk-item::before, #sk-container-id-2 div.sk-parallel-item::before {content: \"\";position: absolute;border-left: 1px solid gray;box-sizing: border-box;top: 0;bottom: 0;left: 50%;z-index: -1;}#sk-container-id-2 div.sk-parallel-item {display: flex;flex-direction: column;z-index: 1;position: relative;background-color: white;}#sk-container-id-2 div.sk-parallel-item:first-child::after {align-self: flex-end;width: 50%;}#sk-container-id-2 div.sk-parallel-item:last-child::after {align-self: flex-start;width: 50%;}#sk-container-id-2 div.sk-parallel-item:only-child::after {width: 0;}#sk-container-id-2 div.sk-dashed-wrapped {border: 1px dashed gray;margin: 0 0.4em 0.5em 0.4em;box-sizing: border-box;padding-bottom: 0.4em;background-color: white;}#sk-container-id-2 div.sk-label label {font-family: monospace;font-weight: bold;display: inline-block;line-height: 1.2em;}#sk-container-id-2 div.sk-label-container {text-align: center;}#sk-container-id-2 div.sk-container {/* jupyter's `normalize.less` sets `[hidden] { display: none; }` but bootstrap.min.css set `[hidden] { display: none !important; }` so we also need the `!important` here to be able to override the default hidden behavior on the sphinx rendered scikit-learn.org. See: https://github.com/scikit-learn/scikit-learn/issues/21755 */display: inline-block !important;position: relative;}#sk-container-id-2 div.sk-text-repr-fallback {display: none;}</style><div id=\"sk-container-id-2\" class=\"sk-top-container\"><div class=\"sk-text-repr-fallback\"><pre>RandomForestClassifier(criterion=&#x27;entropy&#x27;, n_estimators=500)</pre><b>In a Jupyter environment, please rerun this cell to show the HTML representation or trust the notebook. <br />On GitHub, the HTML representation is unable to render, please try loading this page with nbviewer.org.</b></div><div class=\"sk-container\" hidden><div class=\"sk-item\"><div class=\"sk-estimator sk-toggleable\"><input class=\"sk-toggleable__control sk-hidden--visually\" id=\"sk-estimator-id-2\" type=\"checkbox\" checked><label for=\"sk-estimator-id-2\" class=\"sk-toggleable__label sk-toggleable__label-arrow\">RandomForestClassifier</label><div class=\"sk-toggleable__content\"><pre>RandomForestClassifier(criterion=&#x27;entropy&#x27;, n_estimators=500)</pre></div></div></div></div></div>"
      ],
      "text/plain": [
       "RandomForestClassifier(criterion='entropy', n_estimators=500)"
      ]
     },
     "execution_count": 94,
     "metadata": {},
     "output_type": "execute_result"
    }
   ],
   "source": [
    "RandomForest.fit(X_train,Y_train)"
   ]
  },
  {
   "cell_type": "code",
   "execution_count": 95,
   "metadata": {},
   "outputs": [],
   "source": [
    "Y_pred = RandomForest.predict(X_test)  "
   ]
  },
  {
   "cell_type": "code",
   "execution_count": 96,
   "metadata": {},
   "outputs": [
    {
     "name": "stdout",
     "output_type": "stream",
     "text": [
      "99.15556999025658\n"
     ]
    }
   ],
   "source": [
    "print(accuracy_score(Y_test, Y_pred)*100)"
   ]
  },
  {
   "cell_type": "code",
   "execution_count": 80,
   "metadata": {},
   "outputs": [
    {
     "data": {
      "text/html": [
       "<style>#sk-container-id-1 {color: black;background-color: white;}#sk-container-id-1 pre{padding: 0;}#sk-container-id-1 div.sk-toggleable {background-color: white;}#sk-container-id-1 label.sk-toggleable__label {cursor: pointer;display: block;width: 100%;margin-bottom: 0;padding: 0.3em;box-sizing: border-box;text-align: center;}#sk-container-id-1 label.sk-toggleable__label-arrow:before {content: \"▸\";float: left;margin-right: 0.25em;color: #696969;}#sk-container-id-1 label.sk-toggleable__label-arrow:hover:before {color: black;}#sk-container-id-1 div.sk-estimator:hover label.sk-toggleable__label-arrow:before {color: black;}#sk-container-id-1 div.sk-toggleable__content {max-height: 0;max-width: 0;overflow: hidden;text-align: left;background-color: #f0f8ff;}#sk-container-id-1 div.sk-toggleable__content pre {margin: 0.2em;color: black;border-radius: 0.25em;background-color: #f0f8ff;}#sk-container-id-1 input.sk-toggleable__control:checked~div.sk-toggleable__content {max-height: 200px;max-width: 100%;overflow: auto;}#sk-container-id-1 input.sk-toggleable__control:checked~label.sk-toggleable__label-arrow:before {content: \"▾\";}#sk-container-id-1 div.sk-estimator input.sk-toggleable__control:checked~label.sk-toggleable__label {background-color: #d4ebff;}#sk-container-id-1 div.sk-label input.sk-toggleable__control:checked~label.sk-toggleable__label {background-color: #d4ebff;}#sk-container-id-1 input.sk-hidden--visually {border: 0;clip: rect(1px 1px 1px 1px);clip: rect(1px, 1px, 1px, 1px);height: 1px;margin: -1px;overflow: hidden;padding: 0;position: absolute;width: 1px;}#sk-container-id-1 div.sk-estimator {font-family: monospace;background-color: #f0f8ff;border: 1px dotted black;border-radius: 0.25em;box-sizing: border-box;margin-bottom: 0.5em;}#sk-container-id-1 div.sk-estimator:hover {background-color: #d4ebff;}#sk-container-id-1 div.sk-parallel-item::after {content: \"\";width: 100%;border-bottom: 1px solid gray;flex-grow: 1;}#sk-container-id-1 div.sk-label:hover label.sk-toggleable__label {background-color: #d4ebff;}#sk-container-id-1 div.sk-serial::before {content: \"\";position: absolute;border-left: 1px solid gray;box-sizing: border-box;top: 0;bottom: 0;left: 50%;z-index: 0;}#sk-container-id-1 div.sk-serial {display: flex;flex-direction: column;align-items: center;background-color: white;padding-right: 0.2em;padding-left: 0.2em;position: relative;}#sk-container-id-1 div.sk-item {position: relative;z-index: 1;}#sk-container-id-1 div.sk-parallel {display: flex;align-items: stretch;justify-content: center;background-color: white;position: relative;}#sk-container-id-1 div.sk-item::before, #sk-container-id-1 div.sk-parallel-item::before {content: \"\";position: absolute;border-left: 1px solid gray;box-sizing: border-box;top: 0;bottom: 0;left: 50%;z-index: -1;}#sk-container-id-1 div.sk-parallel-item {display: flex;flex-direction: column;z-index: 1;position: relative;background-color: white;}#sk-container-id-1 div.sk-parallel-item:first-child::after {align-self: flex-end;width: 50%;}#sk-container-id-1 div.sk-parallel-item:last-child::after {align-self: flex-start;width: 50%;}#sk-container-id-1 div.sk-parallel-item:only-child::after {width: 0;}#sk-container-id-1 div.sk-dashed-wrapped {border: 1px dashed gray;margin: 0 0.4em 0.5em 0.4em;box-sizing: border-box;padding-bottom: 0.4em;background-color: white;}#sk-container-id-1 div.sk-label label {font-family: monospace;font-weight: bold;display: inline-block;line-height: 1.2em;}#sk-container-id-1 div.sk-label-container {text-align: center;}#sk-container-id-1 div.sk-container {/* jupyter's `normalize.less` sets `[hidden] { display: none; }` but bootstrap.min.css set `[hidden] { display: none !important; }` so we also need the `!important` here to be able to override the default hidden behavior on the sphinx rendered scikit-learn.org. See: https://github.com/scikit-learn/scikit-learn/issues/21755 */display: inline-block !important;position: relative;}#sk-container-id-1 div.sk-text-repr-fallback {display: none;}</style><div id=\"sk-container-id-1\" class=\"sk-top-container\"><div class=\"sk-text-repr-fallback\"><pre>RandomForestClassifier(criterion=&#x27;entropy&#x27;, n_estimators=10)</pre><b>In a Jupyter environment, please rerun this cell to show the HTML representation or trust the notebook. <br />On GitHub, the HTML representation is unable to render, please try loading this page with nbviewer.org.</b></div><div class=\"sk-container\" hidden><div class=\"sk-item\"><div class=\"sk-estimator sk-toggleable\"><input class=\"sk-toggleable__control sk-hidden--visually\" id=\"sk-estimator-id-1\" type=\"checkbox\" checked><label for=\"sk-estimator-id-1\" class=\"sk-toggleable__label sk-toggleable__label-arrow\">RandomForestClassifier</label><div class=\"sk-toggleable__content\"><pre>RandomForestClassifier(criterion=&#x27;entropy&#x27;, n_estimators=10)</pre></div></div></div></div></div>"
      ],
      "text/plain": [
       "RandomForestClassifier(criterion='entropy', n_estimators=10)"
      ]
     },
     "execution_count": 80,
     "metadata": {},
     "output_type": "execute_result"
    }
   ],
   "source": [
    "from sklearn.ensemble import RandomForestClassifier  \n",
    "classifier= RandomForestClassifier(criterion='entropy', n_estimators=10)  \n",
    "classifier.fit(X_train, Y_train) "
   ]
  },
  {
   "cell_type": "code",
   "execution_count": 81,
   "metadata": {},
   "outputs": [],
   "source": [
    "# y_pred = classifer.predict(X_test)"
   ]
  },
  {
   "cell_type": "code",
   "execution_count": 82,
   "metadata": {},
   "outputs": [],
   "source": [
    "y_pred = classifier.predict(X_test) "
   ]
  },
  {
   "cell_type": "code",
   "execution_count": 83,
   "metadata": {},
   "outputs": [],
   "source": [
    "#confusion matrix\n",
    "cm =confusion_matrix(Y_test, y_pred)"
   ]
  },
  {
   "cell_type": "code",
   "execution_count": 84,
   "metadata": {},
   "outputs": [
    {
     "data": {
      "text/plain": [
       "0.9911497239363429"
      ]
     },
     "execution_count": 84,
     "metadata": {},
     "output_type": "execute_result"
    }
   ],
   "source": [
    "#checking accuracy\n",
    "accuracy_score(Y_test, y_pred)"
   ]
  },
  {
   "cell_type": "code",
   "execution_count": 85,
   "metadata": {},
   "outputs": [],
   "source": [
    "from sklearn.linear_model import LogisticRegression\n",
    "from sklearn import metrics\n",
    "LogReg = LogisticRegression()\n",
    "LogReg.fit(X_train, Y_train)\n",
    "y_pred = LogReg.predict(X_test)"
   ]
  },
  {
   "cell_type": "code",
   "execution_count": 86,
   "metadata": {},
   "outputs": [
    {
     "name": "stdout",
     "output_type": "stream",
     "text": [
      "              precision    recall  f1-score   support\n",
      "\n",
      "         0.0       0.00      0.00      0.00       730\n",
      "         1.0       0.99      1.00      1.00     85482\n",
      "\n",
      "    accuracy                           0.99     86212\n",
      "   macro avg       0.50      0.50      0.50     86212\n",
      "weighted avg       0.98      0.99      0.99     86212\n",
      "\n"
     ]
    },
    {
     "name": "stderr",
     "output_type": "stream",
     "text": [
      "d:\\Program File\\Python310\\lib\\site-packages\\sklearn\\metrics\\_classification.py:1327: UndefinedMetricWarning: Precision and F-score are ill-defined and being set to 0.0 in labels with no predicted samples. Use `zero_division` parameter to control this behavior.\n",
      "  _warn_prf(average, modifier, msg_start, len(result))\n",
      "d:\\Program File\\Python310\\lib\\site-packages\\sklearn\\metrics\\_classification.py:1327: UndefinedMetricWarning: Precision and F-score are ill-defined and being set to 0.0 in labels with no predicted samples. Use `zero_division` parameter to control this behavior.\n",
      "  _warn_prf(average, modifier, msg_start, len(result))\n",
      "d:\\Program File\\Python310\\lib\\site-packages\\sklearn\\metrics\\_classification.py:1327: UndefinedMetricWarning: Precision and F-score are ill-defined and being set to 0.0 in labels with no predicted samples. Use `zero_division` parameter to control this behavior.\n",
      "  _warn_prf(average, modifier, msg_start, len(result))\n"
     ]
    }
   ],
   "source": [
    "from sklearn.metrics import classification_report\n",
    "print(classification_report(Y_test, y_pred))"
   ]
  },
  {
   "cell_type": "code",
   "execution_count": 87,
   "metadata": {},
   "outputs": [
    {
     "name": "stdout",
     "output_type": "stream",
     "text": [
      "Note: you may need to restart the kernel to use updated packages.\n"
     ]
    },
    {
     "name": "stderr",
     "output_type": "stream",
     "text": [
      "WARNING: Retrying (Retry(total=4, connect=None, read=None, redirect=None, status=None)) after connection broken by 'NewConnectionError('<pip._vendor.urllib3.connection.HTTPSConnection object at 0x000001CA26A800A0>: Failed to establish a new connection: [Errno 11001] getaddrinfo failed')': /simple/roc-auc-score/\n",
      "WARNING: Retrying (Retry(total=3, connect=None, read=None, redirect=None, status=None)) after connection broken by 'SSLError(SSLCertVerificationError(1, '[SSL: CERTIFICATE_VERIFY_FAILED] certificate verify failed: self signed certificate (_ssl.c:997)'))': /simple/roc-auc-score/\n",
      "ERROR: Could not find a version that satisfies the requirement roc_auc_score (from versions: none)\n",
      "ERROR: No matching distribution found for roc_auc_score\n",
      "WARNING: You are using pip version 22.0.4; however, version 22.1.2 is available.\n",
      "You should consider upgrading via the 'd:\\Program File\\Python310\\python.exe -m pip install --upgrade pip' command.\n"
     ]
    }
   ],
   "source": [
    "pip install roc_auc_score"
   ]
  },
  {
   "cell_type": "code",
   "execution_count": 88,
   "metadata": {},
   "outputs": [
    {
     "name": "stdout",
     "output_type": "stream",
     "text": [
      "Note: you may need to restart the kernel to use updated packages.\n"
     ]
    },
    {
     "name": "stderr",
     "output_type": "stream",
     "text": [
      "ERROR: Could not find a version that satisfies the requirement sklearn.metrics (from versions: none)\n",
      "ERROR: No matching distribution found for sklearn.metrics\n",
      "WARNING: You are using pip version 22.0.4; however, version 22.1.2 is available.\n",
      "You should consider upgrading via the 'd:\\Program File\\Python310\\python.exe -m pip install --upgrade pip' command.\n"
     ]
    }
   ],
   "source": [
    "pip install sklearn.metrics"
   ]
  },
  {
   "cell_type": "code",
   "execution_count": 89,
   "metadata": {},
   "outputs": [
    {
     "name": "stdout",
     "output_type": "stream",
     "text": [
      "Requirement already satisfied: scikit-learn in d:\\program file\\python310\\lib\\site-packages (1.1.1)\n",
      "Requirement already satisfied: scipy in d:\\program file\\python310\\lib\\site-packages (1.8.1)\n",
      "Requirement already satisfied: matplotlib in d:\\program file\\python310\\lib\\site-packages (3.5.2)\n",
      "Requirement already satisfied: numpy>=1.17.3 in d:\\program file\\python310\\lib\\site-packages (from scikit-learn) (1.22.4)\n",
      "Requirement already satisfied: joblib>=1.0.0 in d:\\program file\\python310\\lib\\site-packages (from scikit-learn) (1.1.0)\n",
      "Requirement already satisfied: threadpoolctl>=2.0.0 in d:\\program file\\python310\\lib\\site-packages (from scikit-learn) (3.1.0)\n",
      "Requirement already satisfied: kiwisolver>=1.0.1 in d:\\program file\\python310\\lib\\site-packages (from matplotlib) (1.4.2)\n",
      "Requirement already satisfied: pillow>=6.2.0 in d:\\program file\\python310\\lib\\site-packages (from matplotlib) (9.1.1)\n",
      "Requirement already satisfied: fonttools>=4.22.0 in d:\\program file\\python310\\lib\\site-packages (from matplotlib) (4.33.3)\n",
      "Requirement already satisfied: cycler>=0.10 in d:\\program file\\python310\\lib\\site-packages (from matplotlib) (0.11.0)\n",
      "Requirement already satisfied: packaging>=20.0 in d:\\program file\\python310\\lib\\site-packages (from matplotlib) (21.3)\n",
      "Requirement already satisfied: python-dateutil>=2.7 in d:\\program file\\python310\\lib\\site-packages (from matplotlib) (2.8.2)\n",
      "Requirement already satisfied: pyparsing>=2.2.1 in d:\\program file\\python310\\lib\\site-packages (from matplotlib) (3.0.9)\n",
      "Requirement already satisfied: six>=1.5 in d:\\program file\\python310\\lib\\site-packages (from python-dateutil>=2.7->matplotlib) (1.16.0)\n",
      "Note: you may need to restart the kernel to use updated packages.\n"
     ]
    },
    {
     "name": "stderr",
     "output_type": "stream",
     "text": [
      "WARNING: You are using pip version 22.0.4; however, version 22.1.2 is available.\n",
      "You should consider upgrading via the 'd:\\Program File\\Python310\\python.exe -m pip install --upgrade pip' command.\n"
     ]
    }
   ],
   "source": [
    "pip install -U scikit-learn scipy matplotlib"
   ]
  },
  {
   "cell_type": "code",
   "execution_count": 90,
   "metadata": {},
   "outputs": [],
   "source": [
    "from sklearn.metrics import roc_auc_score"
   ]
  },
  {
   "cell_type": "code",
   "execution_count": 91,
   "metadata": {},
   "outputs": [
    {
     "data": {
      "text/plain": [
       "0.5"
      ]
     },
     "execution_count": 91,
     "metadata": {},
     "output_type": "execute_result"
    }
   ],
   "source": [
    "from sklearn.metrics import roc_auc_score\n",
    "roc_auc_score(Y_test, y_pred, average= 'macro')"
   ]
  }
 ],
 "metadata": {
  "kernelspec": {
   "display_name": "Python 3.10.5 64-bit",
   "language": "python",
   "name": "python3"
  },
  "language_info": {
   "codemirror_mode": {
    "name": "ipython",
    "version": 3
   },
   "file_extension": ".py",
   "mimetype": "text/x-python",
   "name": "python",
   "nbconvert_exporter": "python",
   "pygments_lexer": "ipython3",
   "version": "3.10.5"
  },
  "orig_nbformat": 4,
  "vscode": {
   "interpreter": {
    "hash": "a8c5ba1b328a57b7dd25cd9722740ddcc75a674582cbfe50febfbd9df5927f0e"
   }
  }
 },
 "nbformat": 4,
 "nbformat_minor": 2
}
