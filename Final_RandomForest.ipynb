{
 "cells": [
  {
   "cell_type": "code",
   "execution_count": 4,
   "metadata": {
    "id": "uYGwZ03EaAZP"
   },
   "outputs": [],
   "source": [
    "import pandas as pd\n",
    "import matplotlib.pyplot as plt\n",
    "import numpy as np\n",
    "import seaborn as sns\n",
    "%matplotlib inline"
   ]
  },
  {
   "cell_type": "code",
   "execution_count": 5,
   "metadata": {
    "id": "iubbVV-4aWRa"
   },
   "outputs": [
    {
     "name": "stderr",
     "output_type": "stream",
     "text": [
      "C:\\Users\\Shruti Nathavani\\AppData\\Local\\Temp\\ipykernel_4948\\3477112522.py:1: DtypeWarning: Columns (0,1,2,3,4,5,6,7,8,9,10,11,13,14,19,20,21,22,23,24,25,26,27,28,29,31,32,33,34,35,36,37,38,39,40,41,42,43,45,46,47,48,49,50,51,52,53,54,55,57,58,59,61,64,66,67,68,69,70,71,72,73,76,78,79,80,82,85,87,88,89,90,91,92,93,94,97,98,99,100,101,103,106,108,109,110,111,112,113,114,115,121,122,124,127,129,130,131,132,133,134,135,136,142,143,145,148,150,151,152,153,154,155,156,157,160,162,163,164,166,169,171,172,173,174,175,176,177,178,184,185,187,190,192,193,194,195,196,197,198,199,205,206,208,211,213,214,215,216,217,218,219,220,223,225,226,227,229,232,234,235,236,237,238,239,240,244,246,247,248,250,253,254,255,256,257,258,259) have mixed types. Specify dtype option on import or set low_memory=False.\n",
      "  df = pd.read_csv(\"data.csv\")\n"
     ]
    }
   ],
   "source": [
    "df = pd.read_csv(\"data.csv\")"
   ]
  },
  {
   "cell_type": "code",
   "execution_count": 6,
   "metadata": {
    "id": "bF_A8MKyan9c"
   },
   "outputs": [],
   "source": [
    "data = df"
   ]
  },
  {
   "cell_type": "code",
   "execution_count": 7,
   "metadata": {
    "colab": {
     "base_uri": "https://localhost:8080/"
    },
    "id": "E9o1xSV9avwf",
    "outputId": "b46736c7-5eac-4103-932e-e1170eef7922"
   },
   "outputs": [
    {
     "data": {
      "text/plain": [
       "(1048547, 260)"
      ]
     },
     "execution_count": 7,
     "metadata": {},
     "output_type": "execute_result"
    }
   ],
   "source": [
    "data.shape"
   ]
  },
  {
   "cell_type": "code",
   "execution_count": 8,
   "metadata": {
    "colab": {
     "base_uri": "https://localhost:8080/",
     "height": 577
    },
    "id": "6syr2F0ua3C3",
    "outputId": "c07e3e2d-32b8-468a-f07d-81515efad1fc"
   },
   "outputs": [
    {
     "data": {
      "text/html": [
       "<div>\n",
       "<style scoped>\n",
       "    .dataframe tbody tr th:only-of-type {\n",
       "        vertical-align: middle;\n",
       "    }\n",
       "\n",
       "    .dataframe tbody tr th {\n",
       "        vertical-align: top;\n",
       "    }\n",
       "\n",
       "    .dataframe thead th {\n",
       "        text-align: right;\n",
       "    }\n",
       "</style>\n",
       "<table border=\"1\" class=\"dataframe\">\n",
       "  <thead>\n",
       "    <tr style=\"text-align: right;\">\n",
       "      <th></th>\n",
       "      <th>CASE_NUMBER</th>\n",
       "      <th>CASE_STATUS</th>\n",
       "      <th>CASE_SUBMITTED</th>\n",
       "      <th>DECISION_DATE</th>\n",
       "      <th>ORIGINAL_CERT_DATE</th>\n",
       "      <th>VISA_CLASS</th>\n",
       "      <th>JOB_TITLE</th>\n",
       "      <th>SOC_CODE</th>\n",
       "      <th>SOC_TITLE</th>\n",
       "      <th>FULL_TIME_POSITION</th>\n",
       "      <th>...</th>\n",
       "      <th>PW_OTHER_SOURCE_10</th>\n",
       "      <th>PW_NON-OES_YEAR_10</th>\n",
       "      <th>PW_SURVEY_PUBLISHER_10</th>\n",
       "      <th>PW_SURVEY_NAME_10</th>\n",
       "      <th>H-1B_DEPENDENT</th>\n",
       "      <th>WILLFUL_VIOLATOR</th>\n",
       "      <th>SUPPORT_H1B</th>\n",
       "      <th>STATUTORY_BASIS</th>\n",
       "      <th>MASTERS_EXEMPTION</th>\n",
       "      <th>PUBLIC_DISCLOSURE</th>\n",
       "    </tr>\n",
       "  </thead>\n",
       "  <tbody>\n",
       "    <tr>\n",
       "      <th>0</th>\n",
       "      <td>I-200-16092-327771</td>\n",
       "      <td>WITHDRAWN</td>\n",
       "      <td>08-04-16</td>\n",
       "      <td>30-04-19</td>\n",
       "      <td>NaN</td>\n",
       "      <td>H-1B</td>\n",
       "      <td>ASSOCIATE CREATIVE DIRECTOR</td>\n",
       "      <td>11-2011</td>\n",
       "      <td>ADVERTISING AND PROMOTIONS MANAGERS</td>\n",
       "      <td>Y</td>\n",
       "      <td>...</td>\n",
       "      <td>NaN</td>\n",
       "      <td>NaN</td>\n",
       "      <td>NaN</td>\n",
       "      <td>NaN</td>\n",
       "      <td>N</td>\n",
       "      <td>N</td>\n",
       "      <td>NaN</td>\n",
       "      <td>NaN</td>\n",
       "      <td>NaN</td>\n",
       "      <td>NaN</td>\n",
       "    </tr>\n",
       "    <tr>\n",
       "      <th>1</th>\n",
       "      <td>I-203-17188-450729</td>\n",
       "      <td>WITHDRAWN</td>\n",
       "      <td>14-07-17</td>\n",
       "      <td>13-05-19</td>\n",
       "      <td>NaN</td>\n",
       "      <td>E-3 Australian</td>\n",
       "      <td>ACCOUNT SUPERVISOR (MOTHER)</td>\n",
       "      <td>11-2011</td>\n",
       "      <td>ADVERTISING AND PROMOTIONS MANAGERS</td>\n",
       "      <td>Y</td>\n",
       "      <td>...</td>\n",
       "      <td>NaN</td>\n",
       "      <td>NaN</td>\n",
       "      <td>NaN</td>\n",
       "      <td>NaN</td>\n",
       "      <td>NaN</td>\n",
       "      <td>NaN</td>\n",
       "      <td>NaN</td>\n",
       "      <td>NaN</td>\n",
       "      <td>NaN</td>\n",
       "      <td>NaN</td>\n",
       "    </tr>\n",
       "    <tr>\n",
       "      <th>2</th>\n",
       "      <td>I-203-17229-572307</td>\n",
       "      <td>WITHDRAWN</td>\n",
       "      <td>23-08-17</td>\n",
       "      <td>30-04-19</td>\n",
       "      <td>NaN</td>\n",
       "      <td>E-3 Australian</td>\n",
       "      <td>EXECUTIVE CREATIVE DIRECTOR</td>\n",
       "      <td>11-2011</td>\n",
       "      <td>ADVERTISING AND PROMOTIONS MANAGERS</td>\n",
       "      <td>Y</td>\n",
       "      <td>...</td>\n",
       "      <td>NaN</td>\n",
       "      <td>NaN</td>\n",
       "      <td>NaN</td>\n",
       "      <td>NaN</td>\n",
       "      <td>NaN</td>\n",
       "      <td>NaN</td>\n",
       "      <td>NaN</td>\n",
       "      <td>NaN</td>\n",
       "      <td>NaN</td>\n",
       "      <td>NaN</td>\n",
       "    </tr>\n",
       "    <tr>\n",
       "      <th>3</th>\n",
       "      <td>I-203-17356-299648</td>\n",
       "      <td>WITHDRAWN</td>\n",
       "      <td>22-12-17</td>\n",
       "      <td>20-08-19</td>\n",
       "      <td>NaN</td>\n",
       "      <td>E-3 Australian</td>\n",
       "      <td>PROJECT MANAGEMENT LEAD</td>\n",
       "      <td>11-2011</td>\n",
       "      <td>ADVERTISING AND PROMOTIONS MANAGERS</td>\n",
       "      <td>Y</td>\n",
       "      <td>...</td>\n",
       "      <td>NaN</td>\n",
       "      <td>NaN</td>\n",
       "      <td>NaN</td>\n",
       "      <td>NaN</td>\n",
       "      <td>NaN</td>\n",
       "      <td>NaN</td>\n",
       "      <td>NaN</td>\n",
       "      <td>NaN</td>\n",
       "      <td>NaN</td>\n",
       "      <td>NaN</td>\n",
       "    </tr>\n",
       "    <tr>\n",
       "      <th>4</th>\n",
       "      <td>I-203-18008-577576</td>\n",
       "      <td>WITHDRAWN</td>\n",
       "      <td>10-01-18</td>\n",
       "      <td>15-04-19</td>\n",
       "      <td>NaN</td>\n",
       "      <td>E-3 Australian</td>\n",
       "      <td>CREATIVE DIRECTOR, UX</td>\n",
       "      <td>11-2011</td>\n",
       "      <td>ADVERTISING AND PROMOTIONS MANAGERS</td>\n",
       "      <td>Y</td>\n",
       "      <td>...</td>\n",
       "      <td>NaN</td>\n",
       "      <td>NaN</td>\n",
       "      <td>NaN</td>\n",
       "      <td>NaN</td>\n",
       "      <td>NaN</td>\n",
       "      <td>NaN</td>\n",
       "      <td>NaN</td>\n",
       "      <td>NaN</td>\n",
       "      <td>NaN</td>\n",
       "      <td>NaN</td>\n",
       "    </tr>\n",
       "  </tbody>\n",
       "</table>\n",
       "<p>5 rows × 260 columns</p>\n",
       "</div>"
      ],
      "text/plain": [
       "          CASE_NUMBER CASE_STATUS CASE_SUBMITTED DECISION_DATE  \\\n",
       "0  I-200-16092-327771   WITHDRAWN       08-04-16      30-04-19   \n",
       "1  I-203-17188-450729   WITHDRAWN       14-07-17      13-05-19   \n",
       "2  I-203-17229-572307   WITHDRAWN       23-08-17      30-04-19   \n",
       "3  I-203-17356-299648   WITHDRAWN       22-12-17      20-08-19   \n",
       "4  I-203-18008-577576   WITHDRAWN       10-01-18      15-04-19   \n",
       "\n",
       "  ORIGINAL_CERT_DATE      VISA_CLASS                    JOB_TITLE SOC_CODE  \\\n",
       "0                NaN            H-1B  ASSOCIATE CREATIVE DIRECTOR  11-2011   \n",
       "1                NaN  E-3 Australian  ACCOUNT SUPERVISOR (MOTHER)  11-2011   \n",
       "2                NaN  E-3 Australian  EXECUTIVE CREATIVE DIRECTOR  11-2011   \n",
       "3                NaN  E-3 Australian      PROJECT MANAGEMENT LEAD  11-2011   \n",
       "4                NaN  E-3 Australian        CREATIVE DIRECTOR, UX  11-2011   \n",
       "\n",
       "                             SOC_TITLE FULL_TIME_POSITION  ...  \\\n",
       "0  ADVERTISING AND PROMOTIONS MANAGERS                  Y  ...   \n",
       "1  ADVERTISING AND PROMOTIONS MANAGERS                  Y  ...   \n",
       "2  ADVERTISING AND PROMOTIONS MANAGERS                  Y  ...   \n",
       "3  ADVERTISING AND PROMOTIONS MANAGERS                  Y  ...   \n",
       "4  ADVERTISING AND PROMOTIONS MANAGERS                  Y  ...   \n",
       "\n",
       "  PW_OTHER_SOURCE_10 PW_NON-OES_YEAR_10  PW_SURVEY_PUBLISHER_10  \\\n",
       "0                NaN                NaN                     NaN   \n",
       "1                NaN                NaN                     NaN   \n",
       "2                NaN                NaN                     NaN   \n",
       "3                NaN                NaN                     NaN   \n",
       "4                NaN                NaN                     NaN   \n",
       "\n",
       "  PW_SURVEY_NAME_10 H-1B_DEPENDENT  WILLFUL_VIOLATOR  SUPPORT_H1B  \\\n",
       "0               NaN              N                 N          NaN   \n",
       "1               NaN            NaN               NaN          NaN   \n",
       "2               NaN            NaN               NaN          NaN   \n",
       "3               NaN            NaN               NaN          NaN   \n",
       "4               NaN            NaN               NaN          NaN   \n",
       "\n",
       "   STATUTORY_BASIS  MASTERS_EXEMPTION PUBLIC_DISCLOSURE  \n",
       "0              NaN                NaN               NaN  \n",
       "1              NaN                NaN               NaN  \n",
       "2              NaN                NaN               NaN  \n",
       "3              NaN                NaN               NaN  \n",
       "4              NaN                NaN               NaN  \n",
       "\n",
       "[5 rows x 260 columns]"
      ]
     },
     "execution_count": 8,
     "metadata": {},
     "output_type": "execute_result"
    }
   ],
   "source": [
    "data.head()"
   ]
  },
  {
   "cell_type": "code",
   "execution_count": 9,
   "metadata": {
    "colab": {
     "base_uri": "https://localhost:8080/"
    },
    "id": "AF9FVU56bnPi",
    "outputId": "3c5acc8d-db23-4c29-e20b-0c7826d5a98b"
   },
   "outputs": [
    {
     "name": "stdout",
     "output_type": "stream",
     "text": [
      "CASE_NUMBER\n",
      "CASE_STATUS\n",
      "CASE_SUBMITTED\n",
      "DECISION_DATE\n",
      "ORIGINAL_CERT_DATE\n",
      "VISA_CLASS\n",
      "JOB_TITLE\n",
      "SOC_CODE\n",
      "SOC_TITLE\n",
      "FULL_TIME_POSITION\n",
      "PERIOD_OF_EMPLOYMENT_START_DATE\n",
      "PERIOD_OF_EMPLOYMENT_END_DATE\n",
      "TOTAL_WORKER_POSITIONS\n",
      "NEW_EMPLOYMENT\n",
      "CONTINUED_EMPLOYMENT\n",
      "CHANGE_PREVIOUS_EMPLOYMENT\n",
      "NEW_CONCURRENT_EMPLOYMENT\n",
      "CHANGE_EMPLOYER\n",
      "AMENDED_PETITION\n",
      "EMPLOYER_NAME\n",
      "EMPLOYER_BUSINESS_DBA\n",
      "EMPLOYER_ADDRESS1\n",
      "EMPLOYER_ADDRESS2\n",
      "EMPLOYER_CITY\n",
      "EMPLOYER_STATE\n",
      "EMPLOYER_POSTAL_CODE\n",
      "EMPLOYER_COUNTRY\n",
      "EMPLOYER_PROVINCE\n",
      "EMPLOYER_PHONE\n",
      "EMPLOYER_PHONE_EXT\n",
      "NAICS_CODE\n",
      "AGENT_REPRESENTING_EMPLOYER\n",
      "AGENT_ATTORNEY_LAW_FIRM_BUSINESS_NAME\n",
      "AGENT_ATTORNEY_ADDRESS1\n",
      "AGENT_ATTORNEY_ADDRESS2\n",
      "AGENT_ATTORNEY_CITY\n",
      "AGENT_ATTORNEY_STATE\n",
      "AGENT_ATTORNEY_POSTAL_CODE\n",
      "AGENT_ATTORNEY_COUNTRY\n",
      "AGENT_ATTORNEY_PROVINCE\n",
      "AGENT_ATTORNEY_PHONE\n",
      "AGENT_ATTORNEY_PHONE_EXT\n",
      "STATE_OF_HIGHEST_COURT\n",
      "NAME_OF_HIGHEST_STATE_COURT\n",
      "WORKSITE_WORKERS_1\n",
      "SECONDARY_ENTITY_1\n",
      "SECONDARY_ENTITY_BUSINESS_NAME_1\n",
      "WORKSITE_ADDRESS1_1\n",
      "WORKSITE_ADDRESS2_1\n",
      "WORKSITE_CITY_1\n",
      "WORKSITE_COUNTY_1\n",
      "WORKSITE_STATE_1\n",
      "WORKSITE_POSTAL_CODE_1\n",
      "WAGE_RATE_OF_PAY_FROM_1\n",
      "WAGE_RATE_OF_PAY_TO_1\n",
      "WAGE_UNIT_OF_PAY_1\n",
      "PREVAILING_WAGE_1\n",
      "PW_UNIT_OF_PAY_1\n",
      "PW_TRACKING_NUMBER_1\n",
      "PW_WAGE_LEVEL_1\n",
      "PW_OES_YEAR_1\n",
      "PW_OTHER_SOURCE_1\n",
      "PW_NON-OES_YEAR_1\n",
      "PW_SURVEY_PUBLISHER_1\n",
      "PW_SURVEY_NAME_1\n",
      "WORKSITE_WORKERS_2\n",
      "SECONDARY_ENTITY_2\n",
      "SECONDARY_ENTITY_BUSINESS_NAME_2\n",
      "WORKSITE_ADDRESS1_2\n",
      "WORKSITE_ADDRESS2_2\n",
      "WORKSITE_CITY_2\n",
      "WORKSITE_COUNTY_2\n",
      "WORKSITE_STATE_2\n",
      "WORKSITE_POSTAL_CODE_2\n",
      "WAGE_RATE_OF_PAY_FROM_2\n",
      "WAGE_RATE_OF_PAY_TO_2\n",
      "WAGE_UNIT_OF_PAY_2\n",
      "PREVAILING_WAGE_2\n",
      "PW_UNIT_OF_PAY_2\n",
      "PW_TRACKING_NUMBER_2\n",
      "PW_WAGE_LEVEL_2\n",
      "PW_OES_YEAR_2\n",
      "PW_OTHER_SOURCE_2\n",
      "PW_NON-OES_YEAR_2\n",
      "PW_SURVEY_PUBLISHER_2\n",
      "PW_SURVEY_NAME_2\n",
      "WORKSITE_WORKERS_3\n",
      "SECONDARY_ENTITY_3\n",
      "SECONDARY_ENTITY_BUSINESS_NAME_3\n",
      "WORKSITE_ADDRESS1_3\n",
      "WORKSITE_ADDRESS2_3\n",
      "WORKSITE_CITY_3\n",
      "WORKSITE_COUNTY_3\n",
      "WORKSITE_STATE_3\n",
      "WORKSITE_POSTAL_CODE_3\n",
      "WAGE_RATE_OF_PAY_FROM_3\n",
      "WAGE_RATE_OF_PAY_TO_3\n",
      "WAGE_UNIT_OF_PAY_3\n",
      "PREVAILING_WAGE_3\n",
      "PW_UNIT_OF_PAY_3\n",
      "PW_TRACKING_NUMBER_3\n",
      "PW_WAGE_LEVEL_3\n",
      "PW_OES_YEAR_3\n",
      "PW_OTHER_SOURCE_3\n",
      "PW_NON-OES_YEAR_3\n",
      "PW_SURVEY_PUBLISHER_3\n",
      "PW_SURVEY_NAME_3\n",
      "WORKSITE_WORKERS_4\n",
      "SECONDARY_ENTITY_4\n",
      "SECONDARY_ENTITY_BUSINESS_NAME_4\n",
      "WORKSITE_ADDRESS1_4\n",
      "WORKSITE_ADDRESS2_4\n",
      "WORKSITE_CITY_4\n",
      "WORKSITE_COUNTY_4\n",
      "WORKSITE_STATE_4\n",
      "WORKSITE_POSTAL_CODE_4\n",
      "WAGE_RATE_OF_PAY_FROM_4\n",
      "WAGE_RATE_OF_PAY_TO_4\n",
      "WAGE_UNIT_OF_PAY_4\n",
      "PREVAILING_WAGE_4\n",
      "PW_UNIT_OF_PAY_4\n",
      "PW_TRACKING_NUMBER_4\n",
      "PW_WAGE_LEVEL_4\n",
      "PW_OES_YEAR_4\n",
      "PW_OTHER_SOURCE_4\n",
      "PW_NON-OES_YEAR_4\n",
      "PW_SURVEY_PUBLISHER_4\n",
      "PW_SURVEY_NAME_4\n",
      "WORKSITE_WORKERS_5\n",
      "SECONDARY_ENTITY_5\n",
      "SECONDARY_ENTITY_BUSINESS_NAME_5\n",
      "WORKSITE_ADDRESS1_5\n",
      "WORKSITE_ADDRESS2_5\n",
      "WORKSITE_CITY_5\n",
      "WORKSITE_COUNTY_5\n",
      "WORKSITE_STATE_5\n",
      "WORKSITE_POSTAL_CODE_5\n",
      "WAGE_RATE_OF_PAY_FROM_5\n",
      "WAGE_RATE_OF_PAY_TO_5\n",
      "WAGE_UNIT_OF_PAY_5\n",
      "PREVAILING_WAGE_5\n",
      "PW_UNIT_OF_PAY_5\n",
      "PW_TRACKING_NUMBER_5\n",
      "PW_WAGE_LEVEL_5\n",
      "PW_OES_YEAR_5\n",
      "PW_OTHER_SOURCE_5\n",
      "PW_NON-OES_YEAR_5\n",
      "PW_SURVEY_PUBLISHER_5\n",
      "PW_SURVEY_NAME_5\n",
      "WORKSITE_WORKERS_6\n",
      "SECONDARY_ENTITY_6\n",
      "SECONDARY_ENTITY_BUSINESS_NAME_6\n",
      "WORKSITE_ADDRESS1_6\n",
      "WORKSITE_ADDRESS2_6\n",
      "WORKSITE_CITY_6\n",
      "WORKSITE_COUNTY_6\n",
      "WORKSITE_STATE_6\n",
      "WORKSITE_POSTAL_CODE_6\n",
      "WAGE_RATE_OF_PAY_FROM_6\n",
      "WAGE_RATE_OF_PAY_TO_6\n",
      "WAGE_UNIT_OF_PAY_6\n",
      "PREVAILING_WAGE_6\n",
      "PW_UNIT_OF_PAY_6\n",
      "PW_TRACKING_NUMBER_6\n",
      "PW_WAGE_LEVEL_6\n",
      "PW_OES_YEAR_6\n",
      "PW_OTHER_SOURCE_6\n",
      "PW_NON-OES_YEAR_6\n",
      "PW_SURVEY_PUBLISHER_6\n",
      "PW_SURVEY_NAME_6\n",
      "WORKSITE_WORKERS_7\n",
      "SECONDARY_ENTITY_7\n",
      "SECONDARY_ENTITY_BUSINESS_NAME_7\n",
      "WORKSITE_ADDRESS1_7\n",
      "WORKSITE_ADDRESS2_7\n",
      "WORKSITE_CITY_7\n",
      "WORKSITE_COUNTY_7\n",
      "WORKSITE_STATE_7\n",
      "WORKSITE_POSTAL_CODE_7\n",
      "WAGE_RATE_OF_PAY_FROM_7\n",
      "WAGE_RATE_OF_PAY_TO_7\n",
      "WAGE_UNIT_OF_PAY_7\n",
      "PREVAILING_WAGE_7\n",
      "PW_UNIT_OF_PAY_7\n",
      "PW_TRACKING_NUMBER_7\n",
      "PW_WAGE_LEVEL_7\n",
      "PW_OES_YEAR_7\n",
      "PW_OTHER_SOURCE_7\n",
      "PW_NON-OES_YEAR_7\n",
      "PW_SURVEY_PUBLISHER_7\n",
      "PW_SURVEY_NAME_7\n",
      "WORKSITE_WORKERS_8\n",
      "SECONDARY_ENTITY_8\n",
      "SECONDARY_ENTITY_BUSINESS_NAME_8\n",
      "WORKSITE_ADDRESS1_8\n",
      "WORKSITE_ADDRESS2_8\n",
      "WORKSITE_CITY_8\n",
      "WORKSITE_COUNTY_8\n",
      "WORKSITE_STATE_8\n",
      "WORKSITE_POSTAL_CODE_8\n",
      "WAGE_RATE_OF_PAY_FROM_8\n",
      "WAGE_RATE_OF_PAY_TO_8\n",
      "WAGE_UNIT_OF_PAY_8\n",
      "PREVAILING_WAGE_8\n",
      "PW_UNIT_OF_PAY_8\n",
      "PW_TRACKING_NUMBER_8\n",
      "PW_WAGE_LEVEL_8\n",
      "PW_OES_YEAR_8\n",
      "PW_OTHER_SOURCE_8\n",
      "PW_NON-OES_YEAR_8\n",
      "PW_SURVEY_PUBLISHER_8\n",
      "PW_SURVEY_NAME_8\n",
      "WORKSITE_WORKERS_9\n",
      "SECONDARY_ENTITY_9\n",
      "SECONDARY_ENTITY_BUSINESS_NAME_9\n",
      "WORKSITE_ADDRESS1_9\n",
      "WORKSITE_ADDRESS2_9\n",
      "WORKSITE_CITY_9\n",
      "WORKSITE_COUNTY_9\n",
      "WORKSITE_STATE_9\n",
      "WORKSITE_POSTAL_CODE_9\n",
      "WAGE_RATE_OF_PAY_FROM_9\n",
      "WAGE_RATE_OF_PAY_TO_9\n",
      "WAGE_UNIT_OF_PAY_9\n",
      "PREVAILING_WAGE_9\n",
      "PW_UNIT_OF_PAY_9\n",
      "PW_TRACKING_NUMBER_9\n",
      "PW_WAGE_LEVEL_9\n",
      "PW_OES_YEAR_9\n",
      "PW_OTHER_SOURCE_9\n",
      "PW_NON-OES_YEAR_9\n",
      "PW_SURVEY_PUBLISHER_9\n",
      "PW_SURVEY_NAME_9\n",
      "WORKSITE_WORKERS_10\n",
      "SECONDARY_ENTITY_10\n",
      "SECONDARY_ENTITY_BUSINESS_NAME_10\n",
      "WORKSITE_ADDRESS1_10\n",
      "WORKSITE_ADDRESS2_10\n",
      "WORKSITE_CITY_10\n",
      "WORKSITE_COUNTY_10\n",
      "WORKSITE_STATE_10\n",
      "WORKSITE_POSTAL_CODE_10\n",
      "WAGE_RATE_OF_PAY_FROM_10\n",
      "WAGE_RATE_OF_PAY_TO_10\n",
      "WAGE_UNIT_OF_PAY_10\n",
      "PREVAILING_WAGE_10\n",
      "PW_UNIT_OF_PAY_10\n",
      "PW_TRACKING_NUMBER_10\n",
      "PW_WAGE_LEVEL_10\n",
      "PW_OES_YEAR_10\n",
      "PW_OTHER_SOURCE_10\n",
      "PW_NON-OES_YEAR_10\n",
      "PW_SURVEY_PUBLISHER_10\n",
      "PW_SURVEY_NAME_10\n",
      "H-1B_DEPENDENT\n",
      "WILLFUL_VIOLATOR\n",
      "SUPPORT_H1B\n",
      "STATUTORY_BASIS\n",
      "MASTERS_EXEMPTION\n",
      "PUBLIC_DISCLOSURE\n"
     ]
    }
   ],
   "source": [
    "features = data.columns \n",
    "for feature in features:\n",
    "    print(feature)"
   ]
  },
  {
   "cell_type": "code",
   "execution_count": 10,
   "metadata": {
    "id": "o5cT3VXPbt_p"
   },
   "outputs": [],
   "source": [
    "features_final = [\"CASE_STATUS\", \"VISA_CLASS\",\"EMPLOYER_NAME\",\"EMPLOYER_COUNTRY\",\"AGENT_REPRESENTING_EMPLOYER\",\"JOB_TITLE\",\"SOC_TITLE\",\"SOC_CODE\",\"NAICS_CODE\",\"CONTINUED_EMPLOYMENT\",\"CHANGE_PREVIOUS_EMPLOYMENT\",\"NEW_CONCURRENT_EMPLOYMENT\",\"CHANGE_EMPLOYER\",\"AMENDED_PETITION\",\"H-1B_DEPENDENT\",\"WILLFUL_VIOLATOR\",\"AGENT_ATTORNEY_LAW_FIRM_BUSINESS_NAME\", \"SUPPORT_H1B\", \"TOTAL_WORKER_POSITIONS\" ]\n",
    "data_final = data[features_final]"
   ]
  },
  {
   "cell_type": "code",
   "execution_count": 11,
   "metadata": {
    "colab": {
     "base_uri": "https://localhost:8080/"
    },
    "id": "ArhAXVBMbwPp",
    "outputId": "7afebfa0-c3bc-4a0f-8562-a689963f1607"
   },
   "outputs": [
    {
     "data": {
      "text/plain": [
       "(675509, 19)"
      ]
     },
     "execution_count": 11,
     "metadata": {},
     "output_type": "execute_result"
    }
   ],
   "source": [
    "duplicate = data_final[data_final.duplicated()]\n",
    "duplicate.shape"
   ]
  },
  {
   "cell_type": "code",
   "execution_count": 12,
   "metadata": {
    "colab": {
     "base_uri": "https://localhost:8080/"
    },
    "id": "bkNNV3QQbxfx",
    "outputId": "b741bdd8-7416-425b-a9b3-3718ec1a04b0"
   },
   "outputs": [
    {
     "data": {
      "text/plain": [
       "(373038, 19)"
      ]
     },
     "execution_count": 12,
     "metadata": {},
     "output_type": "execute_result"
    }
   ],
   "source": [
    "data_final = data_final.drop_duplicates()\n",
    "data_final.shape"
   ]
  },
  {
   "cell_type": "code",
   "execution_count": 13,
   "metadata": {
    "colab": {
     "base_uri": "https://localhost:8080/"
    },
    "id": "ysJ68rYab2ti",
    "outputId": "cc8fb4ba-9c9c-47a6-a55a-d8c414b227b8"
   },
   "outputs": [
    {
     "data": {
      "text/plain": [
       "CASE_STATUS                               object\n",
       "VISA_CLASS                                object\n",
       "EMPLOYER_NAME                             object\n",
       "EMPLOYER_COUNTRY                          object\n",
       "AGENT_REPRESENTING_EMPLOYER               object\n",
       "JOB_TITLE                                 object\n",
       "SOC_TITLE                                 object\n",
       "SOC_CODE                                  object\n",
       "NAICS_CODE                               float64\n",
       "CONTINUED_EMPLOYMENT                      object\n",
       "CHANGE_PREVIOUS_EMPLOYMENT               float64\n",
       "NEW_CONCURRENT_EMPLOYMENT                float64\n",
       "CHANGE_EMPLOYER                          float64\n",
       "AMENDED_PETITION                         float64\n",
       "H-1B_DEPENDENT                            object\n",
       "WILLFUL_VIOLATOR                          object\n",
       "AGENT_ATTORNEY_LAW_FIRM_BUSINESS_NAME     object\n",
       "SUPPORT_H1B                               object\n",
       "TOTAL_WORKER_POSITIONS                   float64\n",
       "dtype: object"
      ]
     },
     "execution_count": 13,
     "metadata": {},
     "output_type": "execute_result"
    }
   ],
   "source": [
    "data_final.dtypes"
   ]
  },
  {
   "cell_type": "code",
   "execution_count": 14,
   "metadata": {
    "id": "O2gue13mb6x4"
   },
   "outputs": [],
   "source": [
    "Categorical = ['CASE_STATUS','VISA_CLASS','EMPLOYER_NAME','EMPLOYER_COUNTRY','AGENT_REPRESENTING_EMPLOYER','JOB_TITLE','SOC_TITLE','H-1B_DEPENDENT', 'SUPPORT_H1B','AGENT_ATTORNEY_LAW_FIRM_BUSINESS_NAME','WILLFUL_VIOLATOR']\n",
    "Numerical = ['TOTAL_WORKER_POSITIONS','AMENDED_PETITION','CHANGE_EMPLOYER','NEW_CONCURRENT_EMPLOYMENT', 'CHANGE_PREVIOUS_EMPLOYMENT','CONTINUED_EMPLOYMENT','SOC_CODE','NAICS_CODE']"
   ]
  },
  {
   "cell_type": "code",
   "execution_count": 15,
   "metadata": {
    "colab": {
     "base_uri": "https://localhost:8080/",
     "height": 364
    },
    "id": "PT6NbI7Hb8DI",
    "outputId": "937e903f-1091-4c79-ef1d-eff3633a92bc"
   },
   "outputs": [
    {
     "data": {
      "text/html": [
       "<div>\n",
       "<style scoped>\n",
       "    .dataframe tbody tr th:only-of-type {\n",
       "        vertical-align: middle;\n",
       "    }\n",
       "\n",
       "    .dataframe tbody tr th {\n",
       "        vertical-align: top;\n",
       "    }\n",
       "\n",
       "    .dataframe thead th {\n",
       "        text-align: right;\n",
       "    }\n",
       "</style>\n",
       "<table border=\"1\" class=\"dataframe\">\n",
       "  <thead>\n",
       "    <tr style=\"text-align: right;\">\n",
       "      <th></th>\n",
       "      <th>NAICS_CODE</th>\n",
       "      <th>CHANGE_PREVIOUS_EMPLOYMENT</th>\n",
       "      <th>NEW_CONCURRENT_EMPLOYMENT</th>\n",
       "      <th>CHANGE_EMPLOYER</th>\n",
       "      <th>AMENDED_PETITION</th>\n",
       "      <th>TOTAL_WORKER_POSITIONS</th>\n",
       "    </tr>\n",
       "  </thead>\n",
       "  <tbody>\n",
       "    <tr>\n",
       "      <th>count</th>\n",
       "      <td>373035.000000</td>\n",
       "      <td>373037.000000</td>\n",
       "      <td>373036.000000</td>\n",
       "      <td>373037.000000</td>\n",
       "      <td>373037.000000</td>\n",
       "      <td>373035.000000</td>\n",
       "    </tr>\n",
       "    <tr>\n",
       "      <th>mean</th>\n",
       "      <td>449654.224365</td>\n",
       "      <td>0.115980</td>\n",
       "      <td>0.008747</td>\n",
       "      <td>0.239890</td>\n",
       "      <td>0.178132</td>\n",
       "      <td>1.440859</td>\n",
       "    </tr>\n",
       "    <tr>\n",
       "      <th>std</th>\n",
       "      <td>190393.859270</td>\n",
       "      <td>1.007719</td>\n",
       "      <td>0.280280</td>\n",
       "      <td>0.930622</td>\n",
       "      <td>0.766049</td>\n",
       "      <td>4.090045</td>\n",
       "    </tr>\n",
       "    <tr>\n",
       "      <th>min</th>\n",
       "      <td>31.000000</td>\n",
       "      <td>0.000000</td>\n",
       "      <td>0.000000</td>\n",
       "      <td>0.000000</td>\n",
       "      <td>0.000000</td>\n",
       "      <td>1.000000</td>\n",
       "    </tr>\n",
       "    <tr>\n",
       "      <th>25%</th>\n",
       "      <td>424410.000000</td>\n",
       "      <td>0.000000</td>\n",
       "      <td>0.000000</td>\n",
       "      <td>0.000000</td>\n",
       "      <td>0.000000</td>\n",
       "      <td>1.000000</td>\n",
       "    </tr>\n",
       "    <tr>\n",
       "      <th>50%</th>\n",
       "      <td>541511.000000</td>\n",
       "      <td>0.000000</td>\n",
       "      <td>0.000000</td>\n",
       "      <td>0.000000</td>\n",
       "      <td>0.000000</td>\n",
       "      <td>1.000000</td>\n",
       "    </tr>\n",
       "    <tr>\n",
       "      <th>75%</th>\n",
       "      <td>541512.000000</td>\n",
       "      <td>0.000000</td>\n",
       "      <td>0.000000</td>\n",
       "      <td>0.000000</td>\n",
       "      <td>0.000000</td>\n",
       "      <td>1.000000</td>\n",
       "    </tr>\n",
       "    <tr>\n",
       "      <th>max</th>\n",
       "      <td>928120.000000</td>\n",
       "      <td>338.000000</td>\n",
       "      <td>99.000000</td>\n",
       "      <td>99.000000</td>\n",
       "      <td>99.000000</td>\n",
       "      <td>594.000000</td>\n",
       "    </tr>\n",
       "  </tbody>\n",
       "</table>\n",
       "</div>"
      ],
      "text/plain": [
       "          NAICS_CODE  CHANGE_PREVIOUS_EMPLOYMENT  NEW_CONCURRENT_EMPLOYMENT  \\\n",
       "count  373035.000000               373037.000000              373036.000000   \n",
       "mean   449654.224365                    0.115980                   0.008747   \n",
       "std    190393.859270                    1.007719                   0.280280   \n",
       "min        31.000000                    0.000000                   0.000000   \n",
       "25%    424410.000000                    0.000000                   0.000000   \n",
       "50%    541511.000000                    0.000000                   0.000000   \n",
       "75%    541512.000000                    0.000000                   0.000000   \n",
       "max    928120.000000                  338.000000                  99.000000   \n",
       "\n",
       "       CHANGE_EMPLOYER  AMENDED_PETITION  TOTAL_WORKER_POSITIONS  \n",
       "count    373037.000000     373037.000000           373035.000000  \n",
       "mean          0.239890          0.178132                1.440859  \n",
       "std           0.930622          0.766049                4.090045  \n",
       "min           0.000000          0.000000                1.000000  \n",
       "25%           0.000000          0.000000                1.000000  \n",
       "50%           0.000000          0.000000                1.000000  \n",
       "75%           0.000000          0.000000                1.000000  \n",
       "max          99.000000         99.000000              594.000000  "
      ]
     },
     "execution_count": 15,
     "metadata": {},
     "output_type": "execute_result"
    }
   ],
   "source": [
    "data_final.describe()"
   ]
  },
  {
   "cell_type": "code",
   "execution_count": 16,
   "metadata": {
    "colab": {
     "base_uri": "https://localhost:8080/"
    },
    "id": "kFM5-iN2b_yT",
    "outputId": "1f70682d-35cd-4b48-9c0e-58c457f98b98"
   },
   "outputs": [
    {
     "data": {
      "text/plain": [
       "CASE_STATUS                                   1\n",
       "VISA_CLASS                                    1\n",
       "EMPLOYER_NAME                                10\n",
       "EMPLOYER_COUNTRY                          21055\n",
       "AGENT_REPRESENTING_EMPLOYER               21061\n",
       "JOB_TITLE                                     2\n",
       "SOC_TITLE                                     4\n",
       "SOC_CODE                                      4\n",
       "NAICS_CODE                                    3\n",
       "CONTINUED_EMPLOYMENT                          1\n",
       "CHANGE_PREVIOUS_EMPLOYMENT                    1\n",
       "NEW_CONCURRENT_EMPLOYMENT                     2\n",
       "CHANGE_EMPLOYER                               1\n",
       "AMENDED_PETITION                              1\n",
       "H-1B_DEPENDENT                            13219\n",
       "WILLFUL_VIOLATOR                          13224\n",
       "AGENT_ATTORNEY_LAW_FIRM_BUSINESS_NAME     80939\n",
       "SUPPORT_H1B                              289708\n",
       "TOTAL_WORKER_POSITIONS                        3\n",
       "dtype: int64"
      ]
     },
     "execution_count": 16,
     "metadata": {},
     "output_type": "execute_result"
    }
   ],
   "source": [
    "data_final.isnull().sum()"
   ]
  },
  {
   "cell_type": "code",
   "execution_count": 17,
   "metadata": {
    "colab": {
     "base_uri": "https://localhost:8080/"
    },
    "id": "8TNjmXZEcDOy",
    "outputId": "51f0315a-f0e9-4b53-d80d-71d088b2f9e8"
   },
   "outputs": [
    {
     "name": "stdout",
     "output_type": "stream",
     "text": [
      "Index(['H-1B', 'E-3 Australian', 'H-1B1 Singapore', 'H-1B1 Chile'], dtype='object')\n",
      "[359377  11508   1173    979]\n"
     ]
    }
   ],
   "source": [
    "visa_class_categories = data_final.VISA_CLASS.value_counts().index\n",
    "print(visa_class_categories)\n",
    "visa_class_values = data_final.VISA_CLASS.value_counts().values\n",
    "print(visa_class_values)"
   ]
  },
  {
   "cell_type": "code",
   "execution_count": 18,
   "metadata": {
    "colab": {
     "base_uri": "https://localhost:8080/",
     "height": 460
    },
    "id": "xc5Yqc3gcGEa",
    "outputId": "8177e1d1-c51f-4daa-da16-b2ef70384303"
   },
   "outputs": [
    {
     "name": "stderr",
     "output_type": "stream",
     "text": [
      "d:\\Program File\\Python310\\lib\\site-packages\\seaborn\\_decorators.py:36: FutureWarning: Pass the following variables as keyword args: x, y. From version 0.12, the only valid positional argument will be `data`, and passing other arguments without an explicit keyword will result in an error or misinterpretation.\n",
      "  warnings.warn(\n"
     ]
    },
    {
     "data": {
      "image/png": "[encoded data removed]",
      "text/plain": [
       "<Figure size 432x432 with 1 Axes>"
      ]
     },
     "metadata": {
      "needs_background": "light"
     },
     "output_type": "display_data"
    }
   ],
   "source": [
    "plt.figure(figsize = (6, 6))\n",
    "bargraph = sns.barplot(visa_class_categories,visa_class_values, data = data_final, palette = 'rainbow_r')\n",
    "\n",
    "plt.xlabel('Visa_Class_Categories')\n",
    "plt.ylabel('Values')\n",
    "plt.title(\"Visa Class\")\n",
    "plt.show()"
   ]
  },
  {
   "cell_type": "code",
   "execution_count": 19,
   "metadata": {
    "colab": {
     "base_uri": "https://localhost:8080/"
    },
    "id": "An7V_SaiciKW",
    "outputId": "86593164-6b22-4b1d-8dd8-b5ad8e6481e4"
   },
   "outputs": [
    {
     "name": "stdout",
     "output_type": "stream",
     "text": [
      "Requirement already satisfied: missingno in d:\\program file\\python310\\lib\\site-packages (0.5.1)Note: you may need to restart the kernel to use updated packages.\n"
     ]
    },
    {
     "name": "stderr",
     "output_type": "stream",
     "text": [
      "WARNING: You are using pip version 22.0.4; however, version 22.2.1 is available.\n",
      "You should consider upgrading via the 'd:\\Program File\\Python310\\python.exe -m pip install --upgrade pip' command.\n"
     ]
    },
    {
     "name": "stdout",
     "output_type": "stream",
     "text": [
      "\n",
      "Requirement already satisfied: seaborn in d:\\program file\\python310\\lib\\site-packages (from missingno) (0.11.2)\n",
      "Requirement already satisfied: matplotlib in d:\\program file\\python310\\lib\\site-packages (from missingno) (3.5.2)\n",
      "Requirement already satisfied: numpy in d:\\program file\\python310\\lib\\site-packages (from missingno) (1.22.4)\n",
      "Requirement already satisfied: scipy in d:\\program file\\python310\\lib\\site-packages (from missingno) (1.9.0)\n",
      "Requirement already satisfied: pillow>=6.2.0 in d:\\program file\\python310\\lib\\site-packages (from matplotlib->missingno) (9.1.1)\n",
      "Requirement already satisfied: pyparsing>=2.2.1 in d:\\program file\\python310\\lib\\site-packages (from matplotlib->missingno) (3.0.9)\n",
      "Requirement already satisfied: fonttools>=4.22.0 in d:\\program file\\python310\\lib\\site-packages (from matplotlib->missingno) (4.33.3)\n",
      "Requirement already satisfied: kiwisolver>=1.0.1 in d:\\program file\\python310\\lib\\site-packages (from matplotlib->missingno) (1.4.2)\n",
      "Requirement already satisfied: python-dateutil>=2.7 in d:\\program file\\python310\\lib\\site-packages (from matplotlib->missingno) (2.8.2)\n",
      "Requirement already satisfied: packaging>=20.0 in d:\\program file\\python310\\lib\\site-packages (from matplotlib->missingno) (21.3)\n",
      "Requirement already satisfied: cycler>=0.10 in d:\\program file\\python310\\lib\\site-packages (from matplotlib->missingno) (0.11.0)\n",
      "Requirement already satisfied: pandas>=0.23 in d:\\program file\\python310\\lib\\site-packages (from seaborn->missingno) (1.4.2)\n",
      "Requirement already satisfied: pytz>=2020.1 in d:\\program file\\python310\\lib\\site-packages (from pandas>=0.23->seaborn->missingno) (2022.1)\n",
      "Requirement already satisfied: six>=1.5 in d:\\program file\\python310\\lib\\site-packages (from python-dateutil>=2.7->matplotlib->missingno) (1.16.0)\n"
     ]
    }
   ],
   "source": [
    "pip install missingno"
   ]
  },
  {
   "cell_type": "code",
   "execution_count": 20,
   "metadata": {
    "colab": {
     "base_uri": "https://localhost:8080/",
     "height": 353
    },
    "id": "8puQmIBrcM5V",
    "outputId": "999d8e2a-ccff-4a5d-c9ed-618428e22bd5"
   },
   "outputs": [
    {
     "data": {
      "text/plain": [
       "<AxesSubplot:title={'center':'H1B Petitions by Case Status'}>"
      ]
     },
     "execution_count": 20,
     "metadata": {},
     "output_type": "execute_result"
    },
    {
     "data": {
      "image/png": "[encoded data removed]",
      "text/plain": [
       "<Figure size 720x360 with 1 Axes>"
      ]
     },
     "metadata": {
      "needs_background": "light"
     },
     "output_type": "display_data"
    }
   ],
   "source": [
    "%matplotlib inline\n",
    "#import ggplot\n",
    "import matplotlib.pyplot as plt\n",
    "plt.rcParams[\"figure.figsize\"] = (10,5)\n",
    "data['CASE_STATUS'].value_counts().plot(kind='barh',title='H1B Petitions by Case Status')"
   ]
  },
  {
   "cell_type": "code",
   "execution_count": 21,
   "metadata": {
    "colab": {
     "base_uri": "https://localhost:8080/",
     "height": 337
    },
    "id": "b0IaHVXRcpqw",
    "outputId": "116efe00-146b-40ce-fdd4-96d0128182dc"
   },
   "outputs": [
    {
     "data": {
      "text/plain": [
       "<AxesSubplot:ylabel='CASE_STATUS'>"
      ]
     },
     "execution_count": 21,
     "metadata": {},
     "output_type": "execute_result"
    },
    {
     "data": {
      "image/png": "[encoded data removed]",
      "text/plain": [
       "<Figure size 720x360 with 1 Axes>"
      ]
     },
     "metadata": {
      "needs_background": "light"
     },
     "output_type": "display_data"
    }
   ],
   "source": [
    "plt.rcParams[\"figure.figsize\"] = (10,5)\n",
    "pd.crosstab(data['CASE_STATUS'],data['FULL_TIME_POSITION']).plot(kind='barh')"
   ]
  },
  {
   "cell_type": "code",
   "execution_count": 22,
   "metadata": {
    "colab": {
     "base_uri": "https://localhost:8080/"
    },
    "id": "EcjtZVgmc-k7",
    "outputId": "1a44252a-36b1-45c4-87b0-4bb4b4741fce"
   },
   "outputs": [
    {
     "data": {
      "text/plain": [
       "Index(['SOFTWARE ENGINEER', 'SOFTWARE DEVELOPER',\n",
       "       'SENIOR SYSTEMS ANALYST JC60', 'SENIOR SOFTWARE ENGINEER',\n",
       "       'MANAGER JC50', 'TECHNOLOGY LEAD - US - PRACTITIONER',\n",
       "       'ASSISTANT PROFESSOR', 'PROGRAMMER ANALYST', 'JAVA DEVELOPER',\n",
       "       'SENIOR SOFTWARE DEVELOPER'],\n",
       "      dtype='object', name='JOB_TITLE')"
      ]
     },
     "execution_count": 22,
     "metadata": {},
     "output_type": "execute_result"
    }
   ],
   "source": [
    "\n",
    "order_by_job_title = data.groupby('JOB_TITLE').count().sort_values(by='CASE_STATUS', ascending=False).index[0:10]\n",
    "order_by_job_title"
   ]
  },
  {
   "cell_type": "code",
   "execution_count": 23,
   "metadata": {
    "colab": {
     "base_uri": "https://localhost:8080/",
     "height": 370
    },
    "id": "r-h9hb4GclkK",
    "outputId": "e9b67f6e-4f55-4d10-d193-37254a9c813b"
   },
   "outputs": [
    {
     "data": {
      "text/plain": [
       "<AxesSubplot:xlabel='JOB_TITLE', ylabel='count'>"
      ]
     },
     "execution_count": 23,
     "metadata": {},
     "output_type": "execute_result"
    },
    {
     "data": {
      "image/png": "[encoded data removed]",
      "text/plain": [
       "<Figure size 1872x720 with 1 Axes>"
      ]
     },
     "metadata": {
      "needs_background": "light"
     },
     "output_type": "display_data"
    }
   ],
   "source": [
    "plt.figure(figsize=(26,10))\n",
    "sns.countplot(x='JOB_TITLE', data=data, order=order_by_job_title)"
   ]
  },
  {
   "cell_type": "code",
   "execution_count": 24,
   "metadata": {
    "colab": {
     "base_uri": "https://localhost:8080/",
     "height": 319
    },
    "id": "edt-6yi1c7TR",
    "outputId": "c7cfc32c-af84-45d8-bd00-6dfe886e7dce"
   },
   "outputs": [
    {
     "data": {
      "image/png": "[encoded data removed]",
      "text/plain": [
       "<Figure size 720x360 with 1 Axes>"
      ]
     },
     "metadata": {},
     "output_type": "display_data"
    }
   ],
   "source": [
    "sns.set_style('darkgrid')\n",
    "Yes = data.WILLFUL_VIOLATOR[data.WILLFUL_VIOLATOR == 'Y'].count()\n",
    "No = data.WILLFUL_VIOLATOR[data.WILLFUL_VIOLATOR == 'N'].count()\n",
    "\n",
    "plt.title(\"No. of employers who broke H-1B rules\")\n",
    "plt.pie([Yes, No], labels=['Yes', 'No'], autopct=\"%.2f%%\")\n",
    "plt.legend(loc=(1,0.5))\n",
    "\n",
    "plt.show()"
   ]
  },
  {
   "cell_type": "code",
   "execution_count": 25,
   "metadata": {
    "colab": {
     "base_uri": "https://localhost:8080/",
     "height": 303
    },
    "id": "y1m97T6vdMh8",
    "outputId": "7f42e79c-980c-4ce0-e1be-46540082b572"
   },
   "outputs": [
    {
     "data": {
      "image/png": "[encoded data removed]",
      "text/plain": [
       "<Figure size 720x360 with 1 Axes>"
      ]
     },
     "metadata": {},
     "output_type": "display_data"
    }
   ],
   "source": [
    "wage_level = data['PW_WAGE_LEVEL_1'].value_counts()\n",
    "plt.pie(wage_level,autopct='%.2f',labels=['Level II','Level III','Level I','Level IV'])\n",
    "plt.show()"
   ]
  },
  {
   "cell_type": "code",
   "execution_count": 26,
   "metadata": {
    "colab": {
     "base_uri": "https://localhost:8080/",
     "height": 353
    },
    "id": "9NnKLPemdRij",
    "outputId": "0b619fcc-0248-4ed6-bf24-c8c189b07e6e"
   },
   "outputs": [
    {
     "data": {
      "text/plain": [
       "<AxesSubplot:title={'center':'H1B Petitions by Case Status'}>"
      ]
     },
     "execution_count": 26,
     "metadata": {},
     "output_type": "execute_result"
    },
    {
     "data": {
      "image/png": "[encoded data removed]",
      "text/plain": [
       "<Figure size 720x360 with 1 Axes>"
      ]
     },
     "metadata": {
      "needs_background": "light"
     },
     "output_type": "display_data"
    }
   ],
   "source": [
    "%matplotlib inline\n",
    "#import ggplot\n",
    "import matplotlib.pyplot as plt\n",
    "plt.rcParams[\"figure.figsize\"] = (10,5)\n",
    "data['CASE_STATUS'].value_counts().plot(kind='barh',title='H1B Petitions by Case Status')"
   ]
  },
  {
   "cell_type": "code",
   "execution_count": 27,
   "metadata": {
    "colab": {
     "base_uri": "https://localhost:8080/",
     "height": 407
    },
    "id": "_2x8QwWWdW9d",
    "outputId": "62430e11-1d0f-4f41-bc19-b2ca1c367ef5"
   },
   "outputs": [
    {
     "name": "stderr",
     "output_type": "stream",
     "text": [
      "d:\\Program File\\Python310\\lib\\site-packages\\seaborn\\_decorators.py:36: FutureWarning: Pass the following variables as keyword args: x, y, hue. From version 0.12, the only valid positional argument will be `data`, and passing other arguments without an explicit keyword will result in an error or misinterpretation.\n",
      "  warnings.warn(\n"
     ]
    },
    {
     "data": {
      "text/plain": [
       "<AxesSubplot:xlabel='TOTAL_WORKER_POSITIONS', ylabel='NEW_CONCURRENT_EMPLOYMENT'>"
      ]
     },
     "execution_count": 27,
     "metadata": {},
     "output_type": "execute_result"
    },
    {
     "data": {
      "image/png": "[encoded data removed]",
      "text/plain": [
       "<Figure size 720x360 with 1 Axes>"
      ]
     },
     "metadata": {
      "needs_background": "light"
     },
     "output_type": "display_data"
    }
   ],
   "source": [
    "sns.scatterplot(data['TOTAL_WORKER_POSITIONS'],data['NEW_CONCURRENT_EMPLOYMENT'],data['AMENDED_PETITION'])"
   ]
  },
  {
   "cell_type": "code",
   "execution_count": 28,
   "metadata": {
    "colab": {
     "base_uri": "https://localhost:8080/"
    },
    "id": "5dpTVkyxdggs",
    "outputId": "0e2b6aa9-4c96-4f85-f945-be04110ea7c3"
   },
   "outputs": [
    {
     "data": {
      "text/plain": [
       "3.8010223247453236"
      ]
     },
     "execution_count": 28,
     "metadata": {},
     "output_type": "execute_result"
    }
   ],
   "source": [
    "((data_final['VISA_CLASS'] == 'E-3 Australian') | (data_final['VISA_CLASS'] == 'H-1B1 Singapore') | (data_final['VISA_CLASS'] == 'H-1B1 Chile')).sum()/((data_final['VISA_CLASS'] == 'H-1B').sum())*100"
   ]
  },
  {
   "cell_type": "code",
   "execution_count": 29,
   "metadata": {
    "id": "rytclK0ud6TD"
   },
   "outputs": [],
   "source": [
    "data_H1B = data_final[data_final['VISA_CLASS'] == 'H-1B']"
   ]
  },
  {
   "cell_type": "code",
   "execution_count": 30,
   "metadata": {
    "colab": {
     "base_uri": "https://localhost:8080/"
    },
    "id": "8W5QW2Ijd9um",
    "outputId": "afc214f8-6ebf-47b7-a25f-9217dd883485"
   },
   "outputs": [
    {
     "data": {
      "text/plain": [
       "(359377, 19)"
      ]
     },
     "execution_count": 30,
     "metadata": {},
     "output_type": "execute_result"
    }
   ],
   "source": [
    "data_H1B.shape"
   ]
  },
  {
   "cell_type": "code",
   "execution_count": 31,
   "metadata": {
    "colab": {
     "base_uri": "https://localhost:8080/"
    },
    "id": "qL1hEoCdeAgw",
    "outputId": "940dcc7a-7f70-4529-fcfd-d6fe5aa26d48"
   },
   "outputs": [
    {
     "data": {
      "text/plain": [
       "0"
      ]
     },
     "execution_count": 31,
     "metadata": {},
     "output_type": "execute_result"
    }
   ],
   "source": [
    "data_H1B.CASE_STATUS.isnull().sum()"
   ]
  },
  {
   "cell_type": "code",
   "execution_count": 32,
   "metadata": {
    "id": "2Vqzwj_heC_S"
   },
   "outputs": [],
   "source": [
    "#Checking for the categories of the case status \n",
    "case_status_categories = data_H1B.CASE_STATUS.value_counts().index\n",
    "case_status_values = data_H1B.CASE_STATUS.value_counts().values"
   ]
  },
  {
   "cell_type": "code",
   "execution_count": 33,
   "metadata": {
    "colab": {
     "base_uri": "https://localhost:8080/",
     "height": 482
    },
    "id": "wH9i6GGmeETS",
    "outputId": "15b814cc-f160-4625-de3c-406c6ff51646"
   },
   "outputs": [
    {
     "data": {
      "image/png": "[encoded data removed]",
      "text/plain": [
       "<Figure size 576x576 with 1 Axes>"
      ]
     },
     "metadata": {},
     "output_type": "display_data"
    }
   ],
   "source": [
    "plt.figure(figsize = (8, 8))\n",
    "plt.pie(case_status_values, labels=case_status_categories,autopct='%1.2f%%')\n",
    "plt.title('Pie chart showing Case Status Distribution')\n",
    "plt.show()"
   ]
  },
  {
   "cell_type": "code",
   "execution_count": 34,
   "metadata": {
    "id": "1hi4MohCeJCb"
   },
   "outputs": [],
   "source": [
    "Agent_categories = data_H1B.AGENT_REPRESENTING_EMPLOYER.value_counts(dropna = False).index\n",
    "Agent_values = data_H1B.AGENT_REPRESENTING_EMPLOYER.value_counts(dropna = False).values"
   ]
  },
  {
   "cell_type": "code",
   "execution_count": 35,
   "metadata": {
    "colab": {
     "base_uri": "https://localhost:8080/",
     "height": 482
    },
    "id": "4CVl2nE2eLC-",
    "outputId": "c99aaac3-7cdc-4aed-c230-321d366eb82e"
   },
   "outputs": [
    {
     "data": {
      "image/png": "[encoded data removed]",
      "text/plain": [
       "<Figure size 576x576 with 1 Axes>"
      ]
     },
     "metadata": {},
     "output_type": "display_data"
    }
   ],
   "source": [
    "plt.figure(figsize = (8, 8))\n",
    "plt.pie(Agent_values, labels=Agent_categories,autopct='%1.2f%%')\n",
    "plt.title('Pie chart showing Agent Distribution')\n",
    "plt.show()"
   ]
  },
  {
   "cell_type": "code",
   "execution_count": 36,
   "metadata": {
    "colab": {
     "base_uri": "https://localhost:8080/"
    },
    "id": "2tzmC8fmeOFn",
    "outputId": "fb0a9cc2-5916-4ec2-b879-f23f9fa68ce5"
   },
   "outputs": [
    {
     "data": {
      "text/plain": [
       "20516"
      ]
     },
     "execution_count": 36,
     "metadata": {},
     "output_type": "execute_result"
    }
   ],
   "source": [
    "data_H1B.AGENT_REPRESENTING_EMPLOYER.isnull().sum()"
   ]
  },
  {
   "cell_type": "code",
   "execution_count": 37,
   "metadata": {
    "colab": {
     "base_uri": "https://localhost:8080/"
    },
    "id": "zw0aXmWbeQwT",
    "outputId": "66043f17-f06b-42fe-fd8e-f4fa09d37d03"
   },
   "outputs": [
    {
     "name": "stderr",
     "output_type": "stream",
     "text": [
      "C:\\Users\\Shruti Nathavani\\AppData\\Local\\Temp\\ipykernel_4948\\3608433016.py:1: SettingWithCopyWarning: \n",
      "A value is trying to be set on a copy of a slice from a DataFrame\n",
      "\n",
      "See the caveats in the documentation: https://pandas.pydata.org/pandas-docs/stable/user_guide/indexing.html#returning-a-view-versus-a-copy\n",
      "  data_H1B[\"AGENT_REPRESENTING_EMPLOYER\"].fillna(\"N\",inplace=True)\n"
     ]
    }
   ],
   "source": [
    "data_H1B[\"AGENT_REPRESENTING_EMPLOYER\"].fillna(\"N\",inplace=True)"
   ]
  },
  {
   "cell_type": "code",
   "execution_count": 38,
   "metadata": {
    "colab": {
     "base_uri": "https://localhost:8080/"
    },
    "id": "dBLny1JreSyH",
    "outputId": "edc73b8a-e9b3-4632-8de8-0d46e2d7babf"
   },
   "outputs": [
    {
     "data": {
      "text/plain": [
       "Y    282221\n",
       "N     77156\n",
       "Name: AGENT_REPRESENTING_EMPLOYER, dtype: int64"
      ]
     },
     "execution_count": 38,
     "metadata": {},
     "output_type": "execute_result"
    }
   ],
   "source": [
    "data_H1B.AGENT_REPRESENTING_EMPLOYER.value_counts(dropna = False)"
   ]
  },
  {
   "cell_type": "code",
   "execution_count": 39,
   "metadata": {
    "colab": {
     "base_uri": "https://localhost:8080/"
    },
    "id": "BQC885noeToB",
    "outputId": "907ba025-0481-4767-c292-1a3e7b750b47"
   },
   "outputs": [
    {
     "data": {
      "text/plain": [
       "SOFTWARE ENGINEER            11192\n",
       "SOFTWARE DEVELOPER           10785\n",
       "SENIOR SOFTWARE ENGINEER      4052\n",
       "ASSISTANT PROFESSOR           3967\n",
       "BUSINESS ANALYST              2305\n",
       "JAVA DEVELOPER                1960\n",
       "PROGRAMMER ANALYST            1813\n",
       "DATA SCIENTIST                1797\n",
       "PROJECT MANAGER               1562\n",
       "ACCOUNTANT                    1482\n",
       "ASSOCIATE                     1383\n",
       "SYSTEMS ENGINEER              1368\n",
       "DATABASE ADMINISTRATOR        1330\n",
       "DATA ANALYST                  1318\n",
       "DEVOPS ENGINEER               1224\n",
       "MECHANICAL ENGINEER           1209\n",
       "APPLICATION DEVELOPER         1189\n",
       "RESEARCH ASSOCIATE            1148\n",
       "PROJECT ENGINEER              1103\n",
       "SENIOR SOFTWARE DEVELOPER     1088\n",
       "Name: JOB_TITLE, dtype: int64"
      ]
     },
     "execution_count": 39,
     "metadata": {},
     "output_type": "execute_result"
    }
   ],
   "source": [
    "data_H1B.JOB_TITLE.value_counts()[:20]"
   ]
  },
  {
   "cell_type": "code",
   "execution_count": 40,
   "metadata": {
    "colab": {
     "base_uri": "https://localhost:8080/"
    },
    "id": "H4FGNypteVXN",
    "outputId": "92d9df36-eb27-40cd-c961-ad31006c7bc4"
   },
   "outputs": [
    {
     "data": {
      "text/plain": [
       "1"
      ]
     },
     "execution_count": 40,
     "metadata": {},
     "output_type": "execute_result"
    }
   ],
   "source": [
    "data_H1B.JOB_TITLE.isnull().sum()"
   ]
  },
  {
   "cell_type": "code",
   "execution_count": 41,
   "metadata": {
    "id": "Ckp3DCkYeWww"
   },
   "outputs": [],
   "source": [
    "data_H1B = data_H1B.dropna(subset = ['JOB_TITLE'])"
   ]
  },
  {
   "cell_type": "code",
   "execution_count": 42,
   "metadata": {
    "colab": {
     "base_uri": "https://localhost:8080/",
     "height": 482
    },
    "id": "AsQDpanNeZcD",
    "outputId": "3ddd3d5a-1b3d-49ed-8aea-ec8e6cc6b753"
   },
   "outputs": [
    {
     "data": {
      "image/png": "[encoded data removed]",
      "text/plain": [
       "<Figure size 576x576 with 1 Axes>"
      ]
     },
     "metadata": {},
     "output_type": "display_data"
    }
   ],
   "source": [
    "JobTitle = data_H1B.JOB_TITLE.value_counts().index[:10]\n",
    "JobTitle_values = data_H1B.JOB_TITLE.value_counts().values[:10]\n",
    "plt.figure(figsize = (8, 8))\n",
    "plt.pie(JobTitle_values, labels = JobTitle, autopct='%1.2f%%')\n",
    "plt.title('Pie chart showing the top 10 Job Titles')\n",
    "plt.show()"
   ]
  },
  {
   "cell_type": "code",
   "execution_count": 43,
   "metadata": {
    "colab": {
     "base_uri": "https://localhost:8080/"
    },
    "id": "7YVulU4zebWL",
    "outputId": "4cf65186-f838-45af-9281-8c970818933b"
   },
   "outputs": [
    {
     "data": {
      "text/plain": [
       "77283"
      ]
     },
     "execution_count": 43,
     "metadata": {},
     "output_type": "execute_result"
    }
   ],
   "source": [
    "data_H1B.AGENT_ATTORNEY_LAW_FIRM_BUSINESS_NAME.isnull().sum()"
   ]
  },
  {
   "cell_type": "code",
   "execution_count": 44,
   "metadata": {
    "id": "x4CjHP7eedvJ"
   },
   "outputs": [],
   "source": [
    "data_H1B.AGENT_ATTORNEY_LAW_FIRM_BUSINESS_NAME.fillna(data_H1B.AGENT_ATTORNEY_LAW_FIRM_BUSINESS_NAME.mode()[0], inplace = True)"
   ]
  },
  {
   "cell_type": "code",
   "execution_count": 45,
   "metadata": {
    "colab": {
     "base_uri": "https://localhost:8080/"
    },
    "id": "ox_JapCaegB_",
    "outputId": "ea77f3c4-b319-4bf9-af1c-2db109395dd8"
   },
   "outputs": [
    {
     "data": {
      "text/plain": [
       "FRAGOMEN, DEL REY, BERNSEN & LOEWY, LLP                103817\n",
       "BERRY APPLEMAN & LEIDEN LLP                             16057\n",
       "OGLETREE, DEAKINS, NASH, SMOAK & STEWART, P.C.           5277\n",
       "LAW OFFICE OF THOMAS V. ALLEN                            3996\n",
       "ERICKSON IMMIGRATION GROUP                               3531\n",
       "SEYFARTH SHAW LLP                                        3351\n",
       "FRAGOMEN, DEL REY, BERNSEN & LOEWY LLP                   2833\n",
       "FAKHOURY GLOBAL IMMIGRATION, USA PC                      2466\n",
       "GLOBAL IMMIGRATION ASSOCIATES, PC                        2454\n",
       "FRAGOMEN, DEL REY, BERNSEN & LOEWY                       2420\n",
       "INTERNATIONAL LEGAL AND BUSINESS SERVICES GROUP LLP      2394\n",
       "GLOBAL IMMIGRATION PARTNERS, INC                         2296\n",
       "PEARL LAW GROUP                                          2123\n",
       "CHUGH, LLP                                               1918\n",
       "RAMINENI & SHEPARD, LLC                                  1793\n",
       "GIBNEY, ANTHONY & FLAHERTY, LLP                          1787\n",
       "GLOBAL IMMIGRATION ASSOCIATES, P.C.                      1645\n",
       "MURTHY LAW FIRM                                          1629\n",
       "FRAGOMEN DEL REY BERNSEN & LOEWY LLP                     1571\n",
       "MORGAN, LEWIS & BOCKIUS LLP                              1512\n",
       "JOSEPH KALLABAT & ASSOCIATES, P.C.                       1508\n",
       "AKULA & ASSOCIATES, P.C.                                 1402\n",
       "THE LAW FIRM OF SIM, PARVATHANENI, AND BROWN PLLC        1396\n",
       "TAFAPOLSKY SMITH MEHLMAN LLP                             1286\n",
       "BERRY APPLEMAN AND LEIDEN LLP                            1282\n",
       "Name: AGENT_ATTORNEY_LAW_FIRM_BUSINESS_NAME, dtype: int64"
      ]
     },
     "execution_count": 45,
     "metadata": {},
     "output_type": "execute_result"
    }
   ],
   "source": [
    "all_applications = data_H1B.AGENT_ATTORNEY_LAW_FIRM_BUSINESS_NAME.value_counts()[:25]\n",
    "all_applications"
   ]
  },
  {
   "cell_type": "code",
   "execution_count": 46,
   "metadata": {
    "colab": {
     "base_uri": "https://localhost:8080/"
    },
    "id": "w0iGV9fSej3T",
    "outputId": "bee84368-8b5a-407c-ea01-5f606b8a7212"
   },
   "outputs": [
    {
     "data": {
      "text/plain": [
       "FRAGOMEN, DEL REY, BERNSEN & LOEWY, LLP           1400\n",
       "BERRY APPLEMAN & LEIDEN LLP                        187\n",
       "OGLETREE, DEAKINS, NASH, SMOAK & STEWART, P.C.      58\n",
       "ERICKSON IMMIGRATION GROUP                          55\n",
       "EY LAW LLP                                          45\n",
       "PEARL LAW GROUP                                     31\n",
       "SEYFARTH SHAW LLP                                   30\n",
       "FRAGOMEN, DEL REY, BERNSEN & LOEWY                  26\n",
       "LAW OFFICE OF THOMAS V. ALLEN                       23\n",
       "GLOBAL IMMIGRATION PARTNERS, INC                    23\n",
       "FRAGOMEN, DEL REY, BERNSEN & LOEWY LLP              19\n",
       "LAW OFFICE OF KENNETH W. JIANG                      17\n",
       "LAW OFFICES OF D.ROBERT JONES PLLC                  15\n",
       "MORGAN, LEWIS & BOCKIUS LLP                         14\n",
       "FRAGOMEN DEL REY BERNSEN & LOEWY LLP                14\n",
       "GARFINKEL IMMIGRATION LAW FIRM                      13\n",
       "BBI LAW GROUP, P.C.                                 13\n",
       "RANA LAW FIRM                                       12\n",
       "GARSON LLP                                          12\n",
       "FOSTER LLP                                          12\n",
       "MURTHY LAW FIRM                                     12\n",
       "GREENBERG TRAURIG, LLP                              12\n",
       "GREENBERG TRAURIG LLP                               11\n",
       "OGLETREE DEAKINS                                    11\n",
       "FRAGOMEN, DEL REY, BERNSEN AND LOEWY LLP            11\n",
       "Name: AGENT_ATTORNEY_LAW_FIRM_BUSINESS_NAME, dtype: int64"
      ]
     },
     "execution_count": 46,
     "metadata": {},
     "output_type": "execute_result"
    }
   ],
   "source": [
    "rejection = data_H1B[(data_H1B['CASE_STATUS'] == \"DENIED\")]\n",
    "rejection.AGENT_ATTORNEY_LAW_FIRM_BUSINESS_NAME.value_counts()[:25]"
   ]
  },
  {
   "cell_type": "code",
   "execution_count": 47,
   "metadata": {
    "colab": {
     "base_uri": "https://localhost:8080/"
    },
    "id": "DcNJfi1leloN",
    "outputId": "190ca69d-973b-4ced-cc87-9791904b346e"
   },
   "outputs": [
    {
     "data": {
      "text/plain": [
       "9"
      ]
     },
     "execution_count": 47,
     "metadata": {},
     "output_type": "execute_result"
    }
   ],
   "source": [
    "data_H1B.EMPLOYER_NAME.isnull().sum()"
   ]
  },
  {
   "cell_type": "code",
   "execution_count": 48,
   "metadata": {
    "id": "Xbk2EloBepZi"
   },
   "outputs": [],
   "source": [
    "data_H1B = data_H1B.dropna(subset = ['EMPLOYER_NAME'])"
   ]
  },
  {
   "cell_type": "code",
   "execution_count": 49,
   "metadata": {
    "colab": {
     "base_uri": "https://localhost:8080/"
    },
    "id": "Ja4qNtiDes1U",
    "outputId": "84ba6b32-e66f-45ef-fd11-f57d2bd4676b"
   },
   "outputs": [
    {
     "data": {
      "text/plain": [
       "0"
      ]
     },
     "execution_count": 49,
     "metadata": {},
     "output_type": "execute_result"
    }
   ],
   "source": [
    "data_H1B.EMPLOYER_NAME.isnull().sum()"
   ]
  },
  {
   "cell_type": "code",
   "execution_count": 50,
   "metadata": {
    "colab": {
     "base_uri": "https://localhost:8080/"
    },
    "id": "YS-N_GDLevEE",
    "outputId": "0eaeaf7b-33ef-4a2f-ca08-224adcc82e95"
   },
   "outputs": [
    {
     "data": {
      "text/plain": [
       "GOOGLE LLC                           9198\n",
       "IBM CORPORATION                      2085\n",
       "AMAZON.COM SERVICES, INC.            1744\n",
       "DELOITTE CONSULTING LLP              1199\n",
       "JPMORGAN CHASE & CO.                 1056\n",
       "IBM INDIA PRIVATE LIMITED            1046\n",
       "FACEBOOK, INC.                        959\n",
       "WAL-MART ASSOCIATES, INC.             812\n",
       "APPLE INC.                            805\n",
       "SALESFORCE.COM, INC.                  797\n",
       "ACCENTURE LLP                         741\n",
       "WIPRO LIMITED                         739\n",
       "TATA CONSULTANCY SERVICES LIMITED     736\n",
       "L&T TECHNOLOGY SERVICES LIMITED       689\n",
       "NTT DATA, INC.                        654\n",
       "CUMMINS INC.                          645\n",
       "MICROSOFT CORPORATION                 642\n",
       "LARSEN & TOUBRO INFOTECH LIMITED      626\n",
       "AMAZON WEB SERVICES, INC.             588\n",
       "TESLA, INC.                           571\n",
       "BANK OF AMERICA N.A.                  544\n",
       "CISCO SYSTEMS, INC.                   539\n",
       "PAYPAL, INC.                          517\n",
       "POPULUS GROUP LLC                     511\n",
       "V-SOFT CONSULTING GROUP, INC          502\n",
       "Name: EMPLOYER_NAME, dtype: int64"
      ]
     },
     "execution_count": 50,
     "metadata": {},
     "output_type": "execute_result"
    }
   ],
   "source": [
    "all_employers = data_H1B.EMPLOYER_NAME.value_counts()[:25]\n",
    "all_employers"
   ]
  },
  {
   "cell_type": "code",
   "execution_count": 51,
   "metadata": {
    "colab": {
     "base_uri": "https://localhost:8080/",
     "height": 482
    },
    "id": "rCscjQt_evuE",
    "outputId": "a5de5604-4edc-4548-ef44-1060e5cdf089"
   },
   "outputs": [
    {
     "data": {
      "image/png": "[encoded data removed]",
      "text/plain": [
       "<Figure size 576x576 with 1 Axes>"
      ]
     },
     "metadata": {},
     "output_type": "display_data"
    }
   ],
   "source": [
    "employers = data_H1B.EMPLOYER_NAME.value_counts().index[:10]\n",
    "employers_values = data_H1B.EMPLOYER_NAME.value_counts().values[:10]\n",
    "plt.figure(figsize = (8, 8))\n",
    "plt.pie(employers_values, labels = employers, autopct='%1.2f%%')\n",
    "plt.title('Pie chart showing the top 10 employers')\n",
    "plt.show()"
   ]
  },
  {
   "cell_type": "code",
   "execution_count": 52,
   "metadata": {
    "colab": {
     "base_uri": "https://localhost:8080/"
    },
    "id": "7KCXbCdkeyEp",
    "outputId": "5049d2cf-b671-432d-82cb-65fb6ec817c8"
   },
   "outputs": [
    {
     "data": {
      "text/plain": [
       "20508"
      ]
     },
     "execution_count": 52,
     "metadata": {},
     "output_type": "execute_result"
    }
   ],
   "source": [
    "data_H1B.EMPLOYER_COUNTRY.isnull().sum()"
   ]
  },
  {
   "cell_type": "code",
   "execution_count": 53,
   "metadata": {
    "id": "qdbjsfHAe1u3"
   },
   "outputs": [],
   "source": [
    "data_H1B.EMPLOYER_COUNTRY.fillna(data_H1B.EMPLOYER_COUNTRY.mode()[0], inplace = True)"
   ]
  },
  {
   "cell_type": "code",
   "execution_count": 54,
   "metadata": {
    "colab": {
     "base_uri": "https://localhost:8080/"
    },
    "id": "rUzoQ_One3Ub",
    "outputId": "19db2635-d699-489c-d519-d614be9c9b8d"
   },
   "outputs": [
    {
     "data": {
      "text/plain": [
       "0"
      ]
     },
     "execution_count": 54,
     "metadata": {},
     "output_type": "execute_result"
    }
   ],
   "source": [
    "data_H1B.EMPLOYER_COUNTRY.isnull().sum()"
   ]
  },
  {
   "cell_type": "code",
   "execution_count": 55,
   "metadata": {
    "colab": {
     "base_uri": "https://localhost:8080/"
    },
    "id": "ZNrok96xe5Wk",
    "outputId": "d3c9730a-fd84-4f25-89f5-9d07939a6210"
   },
   "outputs": [
    {
     "data": {
      "text/plain": [
       "UNITED STATES OF AMERICA    359338\n",
       "CANADA                          19\n",
       "INDIA                            3\n",
       "GUATEMALA                        2\n",
       "ALBANIA                          2\n",
       "TURKEY                           1\n",
       "AFGHANISTAN                      1\n",
       "AUSTRALIA                        1\n",
       "Name: EMPLOYER_COUNTRY, dtype: int64"
      ]
     },
     "execution_count": 55,
     "metadata": {},
     "output_type": "execute_result"
    }
   ],
   "source": [
    "data_H1B.EMPLOYER_COUNTRY.value_counts()"
   ]
  },
  {
   "cell_type": "code",
   "execution_count": 56,
   "metadata": {
    "colab": {
     "base_uri": "https://localhost:8080/"
    },
    "id": "QXo3gI74e7Uu",
    "outputId": "92195ec7-b0a3-4884-c426-b47726abf7ad"
   },
   "outputs": [
    {
     "data": {
      "text/plain": [
       "3"
      ]
     },
     "execution_count": 56,
     "metadata": {},
     "output_type": "execute_result"
    }
   ],
   "source": [
    "data_H1B.SOC_TITLE.isnull().sum()"
   ]
  },
  {
   "cell_type": "code",
   "execution_count": 57,
   "metadata": {
    "id": "ZJLVVDDZe9Ts"
   },
   "outputs": [],
   "source": [
    "data_H1B = data_H1B.dropna(subset = ['SOC_TITLE'])"
   ]
  },
  {
   "cell_type": "code",
   "execution_count": 58,
   "metadata": {
    "colab": {
     "base_uri": "https://localhost:8080/"
    },
    "id": "HEpUwE8Ye-44",
    "outputId": "a88c0cda-de00-44d6-b8fd-49de414a1dbb"
   },
   "outputs": [
    {
     "data": {
      "text/plain": [
       "SOFTWARE DEVELOPERS, APPLICATIONS                     108930\n",
       "COMPUTER OCCUPATIONS, ALL OTHER                        30422\n",
       "SOFTWARE DEVELOPERS, SYSTEMS SOFTWARE                  20526\n",
       "COMPUTER SYSTEMS ANALYSTS                              13895\n",
       "MECHANICAL ENGINEERS                                    8850\n",
       "                                                       ...  \n",
       "MECHANICAL ENGINEEERS                                      1\n",
       "MECHANCIAL ENGINEER                                        1\n",
       "INDUSTRIAL ENGINEER                                        1\n",
       "HEALTH AND SAFETY ENGS., EXCEPT MINING SAFETY ENGS         1\n",
       "15-2031                                                    1\n",
       "Name: SOC_TITLE, Length: 859, dtype: int64"
      ]
     },
     "execution_count": 58,
     "metadata": {},
     "output_type": "execute_result"
    }
   ],
   "source": [
    "data_H1B.SOC_TITLE.value_counts()"
   ]
  },
  {
   "cell_type": "code",
   "execution_count": 59,
   "metadata": {
    "colab": {
     "base_uri": "https://localhost:8080/",
     "height": 482
    },
    "id": "jCx-6z97fA9Y",
    "outputId": "4aba430f-0e79-4718-9aec-f252aecd2c64"
   },
   "outputs": [
    {
     "data": {
      "image/png": "[encoded data removed]",
      "text/plain": [
       "<Figure size 576x576 with 1 Axes>"
      ]
     },
     "metadata": {},
     "output_type": "display_data"
    }
   ],
   "source": [
    "plt.figure(figsize = (8, 8))\n",
    "plt.pie(data_H1B.SOC_TITLE.value_counts().values[:10], labels = data_H1B.SOC_TITLE.value_counts().index[:10], autopct='%1.2f%%')\n",
    "plt.title('Pie chart showing the top 10 SOC Titles')\n",
    "plt.show()"
   ]
  },
  {
   "cell_type": "code",
   "execution_count": 60,
   "metadata": {
    "colab": {
     "base_uri": "https://localhost:8080/"
    },
    "id": "UW-7hwZMfDla",
    "outputId": "98c04f81-a84c-457b-f380-6fd158b5ea4b"
   },
   "outputs": [
    {
     "data": {
      "text/plain": [
       "N      276506\n",
       "Y       82843\n",
       "NaN        15\n",
       "Name: H-1B_DEPENDENT, dtype: int64"
      ]
     },
     "execution_count": 60,
     "metadata": {},
     "output_type": "execute_result"
    }
   ],
   "source": [
    "data_H1B['H-1B_DEPENDENT'].value_counts(dropna = False)"
   ]
  },
  {
   "cell_type": "code",
   "execution_count": 61,
   "metadata": {
    "id": "2B8HelYVfGq4"
   },
   "outputs": [],
   "source": [
    "data_H1B = data_H1B.dropna(subset = ['H-1B_DEPENDENT'])"
   ]
  },
  {
   "cell_type": "code",
   "execution_count": 62,
   "metadata": {
    "colab": {
     "base_uri": "https://localhost:8080/"
    },
    "id": "j_Oz-HTdfICq",
    "outputId": "8aeda24d-99ca-4de2-b5ca-fe97b7ce3dc0"
   },
   "outputs": [
    {
     "data": {
      "text/plain": [
       "['CASE_STATUS',\n",
       " 'VISA_CLASS',\n",
       " 'EMPLOYER_NAME',\n",
       " 'EMPLOYER_COUNTRY',\n",
       " 'AGENT_REPRESENTING_EMPLOYER',\n",
       " 'JOB_TITLE',\n",
       " 'SOC_TITLE',\n",
       " 'H-1B_DEPENDENT',\n",
       " 'SUPPORT_H1B',\n",
       " 'AGENT_ATTORNEY_LAW_FIRM_BUSINESS_NAME',\n",
       " 'WILLFUL_VIOLATOR']"
      ]
     },
     "execution_count": 62,
     "metadata": {},
     "output_type": "execute_result"
    }
   ],
   "source": [
    "Categorical"
   ]
  },
  {
   "cell_type": "code",
   "execution_count": 63,
   "metadata": {
    "id": "l2c0z9ZbfKBJ"
   },
   "outputs": [
    {
     "data": {
      "text/plain": [
       "NaN    276061\n",
       "Y       81913\n",
       "N        1375\n",
       "Name: SUPPORT_H1B, dtype: int64"
      ]
     },
     "execution_count": 63,
     "metadata": {},
     "output_type": "execute_result"
    }
   ],
   "source": [
    "data_H1B['SUPPORT_H1B'].value_counts(dropna = False)"
   ]
  },
  {
   "cell_type": "code",
   "execution_count": 64,
   "metadata": {
    "id": "g_t9YQcWfOiV"
   },
   "outputs": [],
   "source": [
    "data_H1B.SUPPORT_H1B.fillna(data_H1B.SUPPORT_H1B.mode()[0], inplace = True)"
   ]
  },
  {
   "cell_type": "code",
   "execution_count": 65,
   "metadata": {
    "colab": {
     "base_uri": "https://localhost:8080/"
    },
    "id": "DaBMkI9FfWqS",
    "outputId": "913944cf-3d6b-437d-939c-91447db8daf0"
   },
   "outputs": [
    {
     "data": {
      "text/plain": [
       "Y    357974\n",
       "N      1375\n",
       "Name: SUPPORT_H1B, dtype: int64"
      ]
     },
     "execution_count": 65,
     "metadata": {},
     "output_type": "execute_result"
    }
   ],
   "source": [
    "data_H1B['SUPPORT_H1B'].value_counts(dropna = False)"
   ]
  },
  {
   "cell_type": "code",
   "execution_count": 66,
   "metadata": {
    "colab": {
     "base_uri": "https://localhost:8080/"
    },
    "id": "sHmQDfuafX3D",
    "outputId": "cfd88eeb-2693-4dee-a3b0-25dde8c407c7"
   },
   "outputs": [
    {
     "data": {
      "text/plain": [
       "N    359084\n",
       "Y       265\n",
       "Name: WILLFUL_VIOLATOR, dtype: int64"
      ]
     },
     "execution_count": 66,
     "metadata": {},
     "output_type": "execute_result"
    }
   ],
   "source": [
    "data_H1B['WILLFUL_VIOLATOR'].value_counts(dropna = False)"
   ]
  },
  {
   "cell_type": "code",
   "execution_count": 67,
   "metadata": {
    "colab": {
     "base_uri": "https://localhost:8080/"
    },
    "id": "vR9Y_ln2ffNm",
    "outputId": "134af130-58b4-48a1-c3fb-d3211baeb569"
   },
   "outputs": [
    {
     "data": {
      "text/plain": [
       "['CASE_STATUS',\n",
       " 'VISA_CLASS',\n",
       " 'EMPLOYER_NAME',\n",
       " 'EMPLOYER_COUNTRY',\n",
       " 'AGENT_REPRESENTING_EMPLOYER',\n",
       " 'JOB_TITLE',\n",
       " 'SOC_TITLE',\n",
       " 'H-1B_DEPENDENT',\n",
       " 'SUPPORT_H1B',\n",
       " 'AGENT_ATTORNEY_LAW_FIRM_BUSINESS_NAME',\n",
       " 'WILLFUL_VIOLATOR']"
      ]
     },
     "execution_count": 67,
     "metadata": {},
     "output_type": "execute_result"
    }
   ],
   "source": [
    "Categorical"
   ]
  },
  {
   "cell_type": "code",
   "execution_count": 68,
   "metadata": {
    "id": "wwuUQ-4vffz1"
   },
   "outputs": [],
   "source": [
    "from sklearn.preprocessing import LabelEncoder\n",
    "le = LabelEncoder() #creating an object of LabelEncoder class\n",
    "WillfulVoilator = le.fit_transform(data_H1B['WILLFUL_VIOLATOR'])\n",
    "SupportH1B = le.fit_transform(data_H1B['SUPPORT_H1B'])\n",
    "H1B_Dependent = le.fit_transform(data_H1B['H-1B_DEPENDENT'])\n",
    "SOCTitle = le.fit_transform(data_H1B['SOC_TITLE'])\n",
    "CountryEmployer = le.fit_transform(data_H1B['EMPLOYER_COUNTRY'])\n",
    "EmployerName = le.fit_transform(data_H1B['EMPLOYER_NAME'].astype(str))\n",
    "CaseStatus = le.fit_transform(data_H1B['CASE_STATUS'])\n",
    "VisaClass = le.fit_transform(data_H1B['VISA_CLASS'])\n",
    "LawFirm = le.fit_transform(data_H1B['AGENT_ATTORNEY_LAW_FIRM_BUSINESS_NAME'].astype(str))\n",
    "AgentRepresentingEmployer = le.fit_transform(data_H1B['AGENT_REPRESENTING_EMPLOYER'])\n",
    "JobTitle = le.fit_transform(data_H1B['JOB_TITLE'].astype(str))\n",
    "SOCCode = le.fit_transform(data_H1B['SOC_CODE'])"
   ]
  },
  {
   "cell_type": "code",
   "execution_count": 69,
   "metadata": {
    "id": "ZFwQoCohfhzA"
   },
   "outputs": [],
   "source": [
    "data_H1B['WILLFUL_VIOLATOR'] = WillfulVoilator\n",
    "data_H1B['SUPPORT_H1B'] = SupportH1B\n",
    "data_H1B['H-1B_DEPENDENT'] = H1B_Dependent\n",
    "data_H1B['SOC_TITLE'] = SOCTitle\n",
    "data_H1B['EMPLOYER_COUNTRY'] = CountryEmployer\n",
    "data_H1B['EMPLOYER_NAME'] = EmployerName\n",
    "data_H1B['CASE_STATUS'] = CaseStatus\n",
    "data_H1B['VISA_CLASS'] = VisaClass \n",
    "data_H1B['AGENT_ATTORNEY_LAW_FIRM_BUSINESS_NAME'] = LawFirm \n",
    "data_H1B['AGENT_REPRESENTING_EMPLOYER'] = AgentRepresentingEmployer\n",
    "data_H1B['SOC_CODE'] = SOCCode\n",
    "data_H1B['JOB_TITLE'] = JobTitle"
   ]
  },
  {
   "cell_type": "code",
   "execution_count": 70,
   "metadata": {
    "colab": {
     "base_uri": "https://localhost:8080/"
    },
    "id": "MqsxGHpWfr2q",
    "outputId": "2e65f9ea-7bc4-4e18-d8cd-d10f361f1012"
   },
   "outputs": [
    {
     "data": {
      "text/plain": [
       "0"
      ]
     },
     "execution_count": 70,
     "metadata": {},
     "output_type": "execute_result"
    }
   ],
   "source": [
    "data_H1B.SOC_CODE.isnull().sum()"
   ]
  },
  {
   "cell_type": "code",
   "execution_count": 71,
   "metadata": {
    "colab": {
     "base_uri": "https://localhost:8080/"
    },
    "id": "cdXUuiQyftdo",
    "outputId": "b52b20ca-2990-4015-87ab-055ffb7354f0"
   },
   "outputs": [
    {
     "data": {
      "text/plain": [
       "95     109146\n",
       "108     31037\n",
       "97      20551\n",
       "92      14210\n",
       "157      8865\n",
       "        ...  \n",
       "327         1\n",
       "55          1\n",
       "334         1\n",
       "50          1\n",
       "526         1\n",
       "Name: SOC_CODE, Length: 527, dtype: int64"
      ]
     },
     "execution_count": 71,
     "metadata": {},
     "output_type": "execute_result"
    }
   ],
   "source": [
    "data_H1B.SOC_CODE.value_counts()"
   ]
  },
  {
   "cell_type": "code",
   "execution_count": 72,
   "metadata": {
    "colab": {
     "base_uri": "https://localhost:8080/",
     "height": 505
    },
    "id": "IWV5pInIfvFU",
    "outputId": "621d3d1d-06fc-4558-a55f-7be60ba28856"
   },
   "outputs": [
    {
     "data": {
      "text/html": [
       "<div>\n",
       "<style scoped>\n",
       "    .dataframe tbody tr th:only-of-type {\n",
       "        vertical-align: middle;\n",
       "    }\n",
       "\n",
       "    .dataframe tbody tr th {\n",
       "        vertical-align: top;\n",
       "    }\n",
       "\n",
       "    .dataframe thead th {\n",
       "        text-align: right;\n",
       "    }\n",
       "</style>\n",
       "<table border=\"1\" class=\"dataframe\">\n",
       "  <thead>\n",
       "    <tr style=\"text-align: right;\">\n",
       "      <th></th>\n",
       "      <th>CASE_STATUS</th>\n",
       "      <th>VISA_CLASS</th>\n",
       "      <th>EMPLOYER_NAME</th>\n",
       "      <th>EMPLOYER_COUNTRY</th>\n",
       "      <th>AGENT_REPRESENTING_EMPLOYER</th>\n",
       "      <th>JOB_TITLE</th>\n",
       "      <th>SOC_TITLE</th>\n",
       "      <th>SOC_CODE</th>\n",
       "      <th>NAICS_CODE</th>\n",
       "      <th>CONTINUED_EMPLOYMENT</th>\n",
       "      <th>CHANGE_PREVIOUS_EMPLOYMENT</th>\n",
       "      <th>NEW_CONCURRENT_EMPLOYMENT</th>\n",
       "      <th>CHANGE_EMPLOYER</th>\n",
       "      <th>AMENDED_PETITION</th>\n",
       "      <th>H-1B_DEPENDENT</th>\n",
       "      <th>WILLFUL_VIOLATOR</th>\n",
       "      <th>AGENT_ATTORNEY_LAW_FIRM_BUSINESS_NAME</th>\n",
       "      <th>SUPPORT_H1B</th>\n",
       "      <th>TOTAL_WORKER_POSITIONS</th>\n",
       "    </tr>\n",
       "  </thead>\n",
       "  <tbody>\n",
       "    <tr>\n",
       "      <th>0</th>\n",
       "      <td>3</td>\n",
       "      <td>0</td>\n",
       "      <td>47135</td>\n",
       "      <td>7</td>\n",
       "      <td>0</td>\n",
       "      <td>7658</td>\n",
       "      <td>14</td>\n",
       "      <td>2</td>\n",
       "      <td>541810.0</td>\n",
       "      <td>1</td>\n",
       "      <td>0.0</td>\n",
       "      <td>0.0</td>\n",
       "      <td>0.0</td>\n",
       "      <td>0.0</td>\n",
       "      <td>0</td>\n",
       "      <td>0</td>\n",
       "      <td>1520</td>\n",
       "      <td>1</td>\n",
       "      <td>1.0</td>\n",
       "    </tr>\n",
       "    <tr>\n",
       "      <th>5</th>\n",
       "      <td>3</td>\n",
       "      <td>0</td>\n",
       "      <td>36533</td>\n",
       "      <td>7</td>\n",
       "      <td>0</td>\n",
       "      <td>33178</td>\n",
       "      <td>14</td>\n",
       "      <td>2</td>\n",
       "      <td>541810.0</td>\n",
       "      <td>1</td>\n",
       "      <td>0.0</td>\n",
       "      <td>0.0</td>\n",
       "      <td>0.0</td>\n",
       "      <td>0.0</td>\n",
       "      <td>0</td>\n",
       "      <td>0</td>\n",
       "      <td>1520</td>\n",
       "      <td>1</td>\n",
       "      <td>1.0</td>\n",
       "    </tr>\n",
       "    <tr>\n",
       "      <th>6</th>\n",
       "      <td>3</td>\n",
       "      <td>0</td>\n",
       "      <td>37474</td>\n",
       "      <td>7</td>\n",
       "      <td>1</td>\n",
       "      <td>24150</td>\n",
       "      <td>14</td>\n",
       "      <td>2</td>\n",
       "      <td>454111.0</td>\n",
       "      <td>0</td>\n",
       "      <td>1.0</td>\n",
       "      <td>0.0</td>\n",
       "      <td>0.0</td>\n",
       "      <td>0.0</td>\n",
       "      <td>0</td>\n",
       "      <td>0</td>\n",
       "      <td>1517</td>\n",
       "      <td>1</td>\n",
       "      <td>1.0</td>\n",
       "    </tr>\n",
       "    <tr>\n",
       "      <th>7</th>\n",
       "      <td>3</td>\n",
       "      <td>0</td>\n",
       "      <td>32327</td>\n",
       "      <td>7</td>\n",
       "      <td>1</td>\n",
       "      <td>34564</td>\n",
       "      <td>14</td>\n",
       "      <td>2</td>\n",
       "      <td>541990.0</td>\n",
       "      <td>1</td>\n",
       "      <td>0.0</td>\n",
       "      <td>0.0</td>\n",
       "      <td>0.0</td>\n",
       "      <td>0.0</td>\n",
       "      <td>0</td>\n",
       "      <td>0</td>\n",
       "      <td>1103</td>\n",
       "      <td>1</td>\n",
       "      <td>1.0</td>\n",
       "    </tr>\n",
       "    <tr>\n",
       "      <th>8</th>\n",
       "      <td>3</td>\n",
       "      <td>0</td>\n",
       "      <td>55256</td>\n",
       "      <td>7</td>\n",
       "      <td>1</td>\n",
       "      <td>404</td>\n",
       "      <td>14</td>\n",
       "      <td>2</td>\n",
       "      <td>541820.0</td>\n",
       "      <td>1</td>\n",
       "      <td>0.0</td>\n",
       "      <td>0.0</td>\n",
       "      <td>0.0</td>\n",
       "      <td>0.0</td>\n",
       "      <td>0</td>\n",
       "      <td>0</td>\n",
       "      <td>5965</td>\n",
       "      <td>1</td>\n",
       "      <td>1.0</td>\n",
       "    </tr>\n",
       "    <tr>\n",
       "      <th>...</th>\n",
       "      <td>...</td>\n",
       "      <td>...</td>\n",
       "      <td>...</td>\n",
       "      <td>...</td>\n",
       "      <td>...</td>\n",
       "      <td>...</td>\n",
       "      <td>...</td>\n",
       "      <td>...</td>\n",
       "      <td>...</td>\n",
       "      <td>...</td>\n",
       "      <td>...</td>\n",
       "      <td>...</td>\n",
       "      <td>...</td>\n",
       "      <td>...</td>\n",
       "      <td>...</td>\n",
       "      <td>...</td>\n",
       "      <td>...</td>\n",
       "      <td>...</td>\n",
       "      <td>...</td>\n",
       "    </tr>\n",
       "    <tr>\n",
       "      <th>664605</th>\n",
       "      <td>0</td>\n",
       "      <td>0</td>\n",
       "      <td>29837</td>\n",
       "      <td>7</td>\n",
       "      <td>1</td>\n",
       "      <td>37345</td>\n",
       "      <td>836</td>\n",
       "      <td>524</td>\n",
       "      <td>541380.0</td>\n",
       "      <td>0.0</td>\n",
       "      <td>0.0</td>\n",
       "      <td>0.0</td>\n",
       "      <td>0.0</td>\n",
       "      <td>1.0</td>\n",
       "      <td>0</td>\n",
       "      <td>0</td>\n",
       "      <td>1491</td>\n",
       "      <td>1</td>\n",
       "      <td>1.0</td>\n",
       "    </tr>\n",
       "    <tr>\n",
       "      <th>664608</th>\n",
       "      <td>0</td>\n",
       "      <td>0</td>\n",
       "      <td>29837</td>\n",
       "      <td>7</td>\n",
       "      <td>1</td>\n",
       "      <td>37349</td>\n",
       "      <td>836</td>\n",
       "      <td>524</td>\n",
       "      <td>541380.0</td>\n",
       "      <td>1.0</td>\n",
       "      <td>0.0</td>\n",
       "      <td>0.0</td>\n",
       "      <td>0.0</td>\n",
       "      <td>0.0</td>\n",
       "      <td>0</td>\n",
       "      <td>0</td>\n",
       "      <td>1491</td>\n",
       "      <td>1</td>\n",
       "      <td>1.0</td>\n",
       "    </tr>\n",
       "    <tr>\n",
       "      <th>664609</th>\n",
       "      <td>2</td>\n",
       "      <td>0</td>\n",
       "      <td>45221</td>\n",
       "      <td>7</td>\n",
       "      <td>0</td>\n",
       "      <td>18425</td>\n",
       "      <td>230</td>\n",
       "      <td>525</td>\n",
       "      <td>488320.0</td>\n",
       "      <td>0.0</td>\n",
       "      <td>0.0</td>\n",
       "      <td>0.0</td>\n",
       "      <td>0.0</td>\n",
       "      <td>0.0</td>\n",
       "      <td>0</td>\n",
       "      <td>0</td>\n",
       "      <td>1520</td>\n",
       "      <td>1</td>\n",
       "      <td>6.0</td>\n",
       "    </tr>\n",
       "    <tr>\n",
       "      <th>664610</th>\n",
       "      <td>0</td>\n",
       "      <td>0</td>\n",
       "      <td>45221</td>\n",
       "      <td>7</td>\n",
       "      <td>0</td>\n",
       "      <td>18425</td>\n",
       "      <td>230</td>\n",
       "      <td>525</td>\n",
       "      <td>488320.0</td>\n",
       "      <td>0.0</td>\n",
       "      <td>0.0</td>\n",
       "      <td>0.0</td>\n",
       "      <td>0.0</td>\n",
       "      <td>0.0</td>\n",
       "      <td>0</td>\n",
       "      <td>0</td>\n",
       "      <td>1520</td>\n",
       "      <td>1</td>\n",
       "      <td>6.0</td>\n",
       "    </tr>\n",
       "    <tr>\n",
       "      <th>664611</th>\n",
       "      <td>0</td>\n",
       "      <td>0</td>\n",
       "      <td>3366</td>\n",
       "      <td>7</td>\n",
       "      <td>1</td>\n",
       "      <td>23748</td>\n",
       "      <td>1</td>\n",
       "      <td>526</td>\n",
       "      <td>524113.0</td>\n",
       "      <td>0.0</td>\n",
       "      <td>0.0</td>\n",
       "      <td>0.0</td>\n",
       "      <td>1.0</td>\n",
       "      <td>0.0</td>\n",
       "      <td>0</td>\n",
       "      <td>0</td>\n",
       "      <td>4281</td>\n",
       "      <td>1</td>\n",
       "      <td>1.0</td>\n",
       "    </tr>\n",
       "  </tbody>\n",
       "</table>\n",
       "<p>359349 rows × 19 columns</p>\n",
       "</div>"
      ],
      "text/plain": [
       "        CASE_STATUS  VISA_CLASS  EMPLOYER_NAME  EMPLOYER_COUNTRY  \\\n",
       "0                 3           0          47135                 7   \n",
       "5                 3           0          36533                 7   \n",
       "6                 3           0          37474                 7   \n",
       "7                 3           0          32327                 7   \n",
       "8                 3           0          55256                 7   \n",
       "...             ...         ...            ...               ...   \n",
       "664605            0           0          29837                 7   \n",
       "664608            0           0          29837                 7   \n",
       "664609            2           0          45221                 7   \n",
       "664610            0           0          45221                 7   \n",
       "664611            0           0           3366                 7   \n",
       "\n",
       "        AGENT_REPRESENTING_EMPLOYER  JOB_TITLE  SOC_TITLE  SOC_CODE  \\\n",
       "0                                 0       7658         14         2   \n",
       "5                                 0      33178         14         2   \n",
       "6                                 1      24150         14         2   \n",
       "7                                 1      34564         14         2   \n",
       "8                                 1        404         14         2   \n",
       "...                             ...        ...        ...       ...   \n",
       "664605                            1      37345        836       524   \n",
       "664608                            1      37349        836       524   \n",
       "664609                            0      18425        230       525   \n",
       "664610                            0      18425        230       525   \n",
       "664611                            1      23748          1       526   \n",
       "\n",
       "        NAICS_CODE CONTINUED_EMPLOYMENT  CHANGE_PREVIOUS_EMPLOYMENT  \\\n",
       "0         541810.0                    1                         0.0   \n",
       "5         541810.0                    1                         0.0   \n",
       "6         454111.0                    0                         1.0   \n",
       "7         541990.0                    1                         0.0   \n",
       "8         541820.0                    1                         0.0   \n",
       "...            ...                  ...                         ...   \n",
       "664605    541380.0                  0.0                         0.0   \n",
       "664608    541380.0                  1.0                         0.0   \n",
       "664609    488320.0                  0.0                         0.0   \n",
       "664610    488320.0                  0.0                         0.0   \n",
       "664611    524113.0                  0.0                         0.0   \n",
       "\n",
       "        NEW_CONCURRENT_EMPLOYMENT  CHANGE_EMPLOYER  AMENDED_PETITION  \\\n",
       "0                             0.0              0.0               0.0   \n",
       "5                             0.0              0.0               0.0   \n",
       "6                             0.0              0.0               0.0   \n",
       "7                             0.0              0.0               0.0   \n",
       "8                             0.0              0.0               0.0   \n",
       "...                           ...              ...               ...   \n",
       "664605                        0.0              0.0               1.0   \n",
       "664608                        0.0              0.0               0.0   \n",
       "664609                        0.0              0.0               0.0   \n",
       "664610                        0.0              0.0               0.0   \n",
       "664611                        0.0              1.0               0.0   \n",
       "\n",
       "        H-1B_DEPENDENT  WILLFUL_VIOLATOR  \\\n",
       "0                    0                 0   \n",
       "5                    0                 0   \n",
       "6                    0                 0   \n",
       "7                    0                 0   \n",
       "8                    0                 0   \n",
       "...                ...               ...   \n",
       "664605               0                 0   \n",
       "664608               0                 0   \n",
       "664609               0                 0   \n",
       "664610               0                 0   \n",
       "664611               0                 0   \n",
       "\n",
       "        AGENT_ATTORNEY_LAW_FIRM_BUSINESS_NAME  SUPPORT_H1B  \\\n",
       "0                                        1520            1   \n",
       "5                                        1520            1   \n",
       "6                                        1517            1   \n",
       "7                                        1103            1   \n",
       "8                                        5965            1   \n",
       "...                                       ...          ...   \n",
       "664605                                   1491            1   \n",
       "664608                                   1491            1   \n",
       "664609                                   1520            1   \n",
       "664610                                   1520            1   \n",
       "664611                                   4281            1   \n",
       "\n",
       "        TOTAL_WORKER_POSITIONS  \n",
       "0                          1.0  \n",
       "5                          1.0  \n",
       "6                          1.0  \n",
       "7                          1.0  \n",
       "8                          1.0  \n",
       "...                        ...  \n",
       "664605                     1.0  \n",
       "664608                     1.0  \n",
       "664609                     6.0  \n",
       "664610                     6.0  \n",
       "664611                     1.0  \n",
       "\n",
       "[359349 rows x 19 columns]"
      ]
     },
     "execution_count": 72,
     "metadata": {},
     "output_type": "execute_result"
    }
   ],
   "source": [
    "data_H1B"
   ]
  },
  {
   "cell_type": "code",
   "execution_count": 73,
   "metadata": {
    "id": "TlAeHqjjfwqm"
   },
   "outputs": [],
   "source": [
    "data_H1B.CONTINUED_EMPLOYMENT.value_counts()\n",
    "data_H1B.drop(data_H1B[data_H1B['CONTINUED_EMPLOYMENT'] == 'B'].index, inplace = True)"
   ]
  },
  {
   "cell_type": "code",
   "execution_count": 74,
   "metadata": {
    "colab": {
     "base_uri": "https://localhost:8080/"
    },
    "id": "8wgkbQ3jf02p",
    "outputId": "5c321a93-2577-40b0-c552-b3e06959690e"
   },
   "outputs": [
    {
     "data": {
      "text/plain": [
       "0     273815\n",
       "1      78997\n",
       "0       1428\n",
       "2       1353\n",
       "5       1203\n",
       "4        872\n",
       "1        622\n",
       "10       387\n",
       "3        362\n",
       "25        46\n",
       "6         42\n",
       "15        40\n",
       "8         38\n",
       "20        29\n",
       "5         22\n",
       "4         17\n",
       "12        15\n",
       "30        12\n",
       "50         9\n",
       "2          7\n",
       "40         6\n",
       "3          4\n",
       "18         4\n",
       "7          3\n",
       "13         3\n",
       "99         2\n",
       "35         2\n",
       "8          1\n",
       "10         1\n",
       "17         1\n",
       "45         1\n",
       "21         1\n",
       "11         1\n",
       "Name: CONTINUED_EMPLOYMENT, dtype: int64"
      ]
     },
     "execution_count": 74,
     "metadata": {},
     "output_type": "execute_result"
    }
   ],
   "source": [
    "data_H1B.CONTINUED_EMPLOYMENT.value_counts()"
   ]
  },
  {
   "cell_type": "code",
   "execution_count": 75,
   "metadata": {
    "colab": {
     "base_uri": "https://localhost:8080/"
    },
    "id": "vw3OcI5Of3Vi",
    "outputId": "c9c7a786-9d45-4631-bb9b-e81962e9f522"
   },
   "outputs": [
    {
     "data": {
      "text/plain": [
       "0.0     312252\n",
       "1.0      42227\n",
       "5.0       1514\n",
       "2.0       1283\n",
       "4.0        886\n",
       "3.0        518\n",
       "10.0       340\n",
       "15.0       252\n",
       "6.0         22\n",
       "11.0        20\n",
       "20.0        15\n",
       "8.0          6\n",
       "30.0         3\n",
       "7.0          3\n",
       "99.0         2\n",
       "14.0         1\n",
       "25.0         1\n",
       "35.0         1\n",
       "Name: AMENDED_PETITION, dtype: int64"
      ]
     },
     "execution_count": 75,
     "metadata": {},
     "output_type": "execute_result"
    }
   ],
   "source": [
    "data_H1B.AMENDED_PETITION.value_counts()"
   ]
  },
  {
   "cell_type": "code",
   "execution_count": 76,
   "metadata": {
    "colab": {
     "base_uri": "https://localhost:8080/"
    },
    "id": "zO9sHlK0f6oS",
    "outputId": "f5ed118f-47e9-4fa5-fb1b-a4579fa34cf3"
   },
   "outputs": [
    {
     "data": {
      "text/plain": [
       "1"
      ]
     },
     "execution_count": 76,
     "metadata": {},
     "output_type": "execute_result"
    }
   ],
   "source": [
    "data_H1B.NAICS_CODE.isnull().sum()"
   ]
  },
  {
   "cell_type": "code",
   "execution_count": 77,
   "metadata": {
    "id": "Ytgwm8tnf8iP"
   },
   "outputs": [],
   "source": [
    "data_H1B = data_H1B.dropna(subset = ['NAICS_CODE'])"
   ]
  },
  {
   "cell_type": "code",
   "execution_count": 78,
   "metadata": {
    "colab": {
     "base_uri": "https://localhost:8080/"
    },
    "id": "AqLgUvJ1f92j",
    "outputId": "5dc897ce-8b77-4980-e861-15efe55ae820"
   },
   "outputs": [
    {
     "data": {
      "text/plain": [
       "0"
      ]
     },
     "execution_count": 78,
     "metadata": {},
     "output_type": "execute_result"
    }
   ],
   "source": [
    "data_H1B.NAICS_CODE.isnull().sum()"
   ]
  },
  {
   "cell_type": "code",
   "execution_count": 79,
   "metadata": {
    "colab": {
     "base_uri": "https://localhost:8080/"
    },
    "id": "RZtGmXQ4f_aa",
    "outputId": "370cd14f-3ed7-4990-cd6a-bb510b60ee9c"
   },
   "outputs": [
    {
     "data": {
      "text/plain": [
       "541511.0    91037\n",
       "541512.0    25605\n",
       "611310.0    20876\n",
       "541519.0     9965\n",
       "541330.0     9765\n",
       "            ...  \n",
       "32739.0         1\n",
       "23891.0         1\n",
       "44521.0         1\n",
       "33152.0         1\n",
       "44531.0         1\n",
       "Name: NAICS_CODE, Length: 1959, dtype: int64"
      ]
     },
     "execution_count": 79,
     "metadata": {},
     "output_type": "execute_result"
    }
   ],
   "source": [
    "data_H1B.NAICS_CODE.value_counts(dropna = False)"
   ]
  },
  {
   "cell_type": "code",
   "execution_count": 80,
   "metadata": {
    "colab": {
     "base_uri": "https://localhost:8080/",
     "height": 356
    },
    "id": "gXWfuDkpgBU5",
    "outputId": "60dff32a-6c7e-4bd7-c61d-3a7f1dc23f49"
   },
   "outputs": [
    {
     "data": {
      "image/png": "[encoded data removed]",
      "text/plain": [
       "<Figure size 1800x720 with 1 Axes>"
      ]
     },
     "metadata": {
      "needs_background": "light"
     },
     "output_type": "display_data"
    }
   ],
   "source": [
    "countplt, ax = plt.subplots(figsize = (25,10))\n",
    "ax = data_H1B.boxplot(column = 'NAICS_CODE')"
   ]
  },
  {
   "cell_type": "code",
   "execution_count": 81,
   "metadata": {
    "colab": {
     "base_uri": "https://localhost:8080/"
    },
    "id": "Il-XsrSngDw0",
    "outputId": "539dbc76-5015-46f9-d4a9-f0921f2f0604"
   },
   "outputs": [
    {
     "data": {
      "text/plain": [
       "2"
      ]
     },
     "execution_count": 81,
     "metadata": {},
     "output_type": "execute_result"
    }
   ],
   "source": [
    "data_H1B.TOTAL_WORKER_POSITIONS.isnull().sum()"
   ]
  },
  {
   "cell_type": "code",
   "execution_count": 82,
   "metadata": {
    "id": "2lQLzff-gEh9"
   },
   "outputs": [],
   "source": [
    "data_H1B = data_H1B.dropna(subset = ['TOTAL_WORKER_POSITIONS'])\n"
   ]
  },
  {
   "cell_type": "code",
   "execution_count": 83,
   "metadata": {
    "colab": {
     "base_uri": "https://localhost:8080/"
    },
    "id": "6yPiH5FwgFqQ",
    "outputId": "c6d7d406-fe16-4d5a-b206-c02cc58f6bfa"
   },
   "outputs": [
    {
     "data": {
      "text/plain": [
       "0"
      ]
     },
     "execution_count": 83,
     "metadata": {},
     "output_type": "execute_result"
    }
   ],
   "source": [
    "data_H1B.TOTAL_WORKER_POSITIONS.isnull().sum()"
   ]
  },
  {
   "cell_type": "code",
   "execution_count": 84,
   "metadata": {
    "colab": {
     "base_uri": "https://localhost:8080/"
    },
    "id": "-5_8VymAgilb",
    "outputId": "701289da-e1b8-4750-b9e4-ad9b0af488f5"
   },
   "outputs": [
    {
     "data": {
      "text/plain": [
       "1.0      344852\n",
       "2.0        2870\n",
       "10.0       2146\n",
       "3.0        2028\n",
       "5.0        1723\n",
       "20.0       1033\n",
       "15.0        913\n",
       "25.0        864\n",
       "50.0        617\n",
       "4.0         493\n",
       "30.0        474\n",
       "6.0         375\n",
       "12.0        142\n",
       "24.0        132\n",
       "8.0         132\n",
       "7.0         124\n",
       "100.0        74\n",
       "40.0         46\n",
       "9.0          36\n",
       "75.0         33\n",
       "45.0         26\n",
       "11.0         22\n",
       "16.0         20\n",
       "14.0         18\n",
       "60.0         17\n",
       "17.0         15\n",
       "35.0         15\n",
       "18.0         12\n",
       "13.0         12\n",
       "32.0          9\n",
       "150.0         8\n",
       "19.0          7\n",
       "23.0          6\n",
       "36.0          6\n",
       "200.0         4\n",
       "28.0          4\n",
       "22.0          4\n",
       "34.0          4\n",
       "175.0         3\n",
       "594.0         2\n",
       "300.0         2\n",
       "80.0          2\n",
       "500.0         2\n",
       "70.0          2\n",
       "90.0          2\n",
       "37.0          1\n",
       "78.0          1\n",
       "76.0          1\n",
       "65.0          1\n",
       "99.0          1\n",
       "31.0          1\n",
       "47.0          1\n",
       "26.0          1\n",
       "43.0          1\n",
       "54.0          1\n",
       "110.0         1\n",
       "21.0          1\n",
       "Name: TOTAL_WORKER_POSITIONS, dtype: int64"
      ]
     },
     "execution_count": 84,
     "metadata": {},
     "output_type": "execute_result"
    }
   ],
   "source": [
    "data_H1B.TOTAL_WORKER_POSITIONS.value_counts()"
   ]
  },
  {
   "cell_type": "code",
   "execution_count": 85,
   "metadata": {
    "colab": {
     "base_uri": "https://localhost:8080/",
     "height": 513
    },
    "id": "RYNw-Ri_gl4b",
    "outputId": "6b41bd3d-bef0-4e1c-fcc7-1599c667e9dd"
   },
   "outputs": [
    {
     "data": {
      "image/png": "[encoded data removed]",
      "text/plain": [
       "<Figure size 720x504 with 4 Axes>"
      ]
     },
     "metadata": {
      "needs_background": "light"
     },
     "output_type": "display_data"
    }
   ],
   "source": [
    "fig, ax = plt.subplots(2,3, figsize = (10,7))\n",
    "numerical_data = data_H1B[[\"TOTAL_WORKER_POSITIONS\", \"CHANGE_EMPLOYER\", \"AMENDED_PETITION\", \"NEW_CONCURRENT_EMPLOYMENT\", \"CHANGE_PREVIOUS_EMPLOYMENT\"]]\n",
    "for i,el in enumerate(list(numerical_data.columns.values)[:-1]):\n",
    "    a = numerical_data.boxplot(el, ax=ax.flatten()[i])\n",
    "\n",
    "\n",
    "fig.delaxes(ax[1,2]) \n",
    "fig.delaxes(ax[1,1])# remove empty subplot\n",
    "plt.tight_layout() \n",
    "\n",
    "plt.show()"
   ]
  },
  {
   "cell_type": "code",
   "execution_count": 86,
   "metadata": {
    "colab": {
     "base_uri": "https://localhost:8080/",
     "height": 490
    },
    "id": "X4L6yDivgoOr",
    "outputId": "614e9379-23a5-422d-86ed-5a35ad8df248"
   },
   "outputs": [],
   "source": [
    "# countplt, ax = plt.subplots(figsize = (5,5))\n",
    "# ax = numerical_data.boxplot(column = 'NAICS_CODE')"
   ]
  },
  {
   "cell_type": "code",
   "execution_count": 87,
   "metadata": {
    "colab": {
     "base_uri": "https://localhost:8080/"
    },
    "id": "uZ2TpCN4gpIF",
    "outputId": "94a49ad9-7b96-44b0-8735-6ae5a2ad8e78"
   },
   "outputs": [
    {
     "data": {
      "text/plain": [
       "CASE_STATUS                              0\n",
       "VISA_CLASS                               0\n",
       "EMPLOYER_NAME                            0\n",
       "EMPLOYER_COUNTRY                         0\n",
       "AGENT_REPRESENTING_EMPLOYER              0\n",
       "JOB_TITLE                                0\n",
       "SOC_TITLE                                0\n",
       "SOC_CODE                                 0\n",
       "NAICS_CODE                               0\n",
       "CONTINUED_EMPLOYMENT                     0\n",
       "CHANGE_PREVIOUS_EMPLOYMENT               0\n",
       "NEW_CONCURRENT_EMPLOYMENT                1\n",
       "CHANGE_EMPLOYER                          0\n",
       "AMENDED_PETITION                         0\n",
       "H-1B_DEPENDENT                           0\n",
       "WILLFUL_VIOLATOR                         0\n",
       "AGENT_ATTORNEY_LAW_FIRM_BUSINESS_NAME    0\n",
       "SUPPORT_H1B                              0\n",
       "TOTAL_WORKER_POSITIONS                   0\n",
       "dtype: int64"
      ]
     },
     "execution_count": 87,
     "metadata": {},
     "output_type": "execute_result"
    }
   ],
   "source": [
    "data_H1B.isnull().sum()"
   ]
  },
  {
   "cell_type": "code",
   "execution_count": 88,
   "metadata": {
    "colab": {
     "base_uri": "https://localhost:8080/",
     "height": 382
    },
    "id": "kYVpotDLgzu3",
    "outputId": "7fef26f2-0835-45a0-99ca-9fa77b28947c"
   },
   "outputs": [
    {
     "data": {
      "text/html": [
       "<div>\n",
       "<style scoped>\n",
       "    .dataframe tbody tr th:only-of-type {\n",
       "        vertical-align: middle;\n",
       "    }\n",
       "\n",
       "    .dataframe tbody tr th {\n",
       "        vertical-align: top;\n",
       "    }\n",
       "\n",
       "    .dataframe thead th {\n",
       "        text-align: right;\n",
       "    }\n",
       "</style>\n",
       "<table border=\"1\" class=\"dataframe\">\n",
       "  <thead>\n",
       "    <tr style=\"text-align: right;\">\n",
       "      <th></th>\n",
       "      <th>CASE_STATUS</th>\n",
       "      <th>VISA_CLASS</th>\n",
       "      <th>EMPLOYER_NAME</th>\n",
       "      <th>EMPLOYER_COUNTRY</th>\n",
       "      <th>AGENT_REPRESENTING_EMPLOYER</th>\n",
       "      <th>JOB_TITLE</th>\n",
       "      <th>SOC_TITLE</th>\n",
       "      <th>SOC_CODE</th>\n",
       "      <th>NAICS_CODE</th>\n",
       "      <th>CHANGE_PREVIOUS_EMPLOYMENT</th>\n",
       "      <th>NEW_CONCURRENT_EMPLOYMENT</th>\n",
       "      <th>CHANGE_EMPLOYER</th>\n",
       "      <th>AMENDED_PETITION</th>\n",
       "      <th>H-1B_DEPENDENT</th>\n",
       "      <th>WILLFUL_VIOLATOR</th>\n",
       "      <th>AGENT_ATTORNEY_LAW_FIRM_BUSINESS_NAME</th>\n",
       "      <th>SUPPORT_H1B</th>\n",
       "      <th>TOTAL_WORKER_POSITIONS</th>\n",
       "    </tr>\n",
       "  </thead>\n",
       "  <tbody>\n",
       "    <tr>\n",
       "      <th>count</th>\n",
       "      <td>359343.000000</td>\n",
       "      <td>359343.0</td>\n",
       "      <td>359343.000000</td>\n",
       "      <td>359343.000000</td>\n",
       "      <td>359343.000000</td>\n",
       "      <td>359343.000000</td>\n",
       "      <td>359343.000000</td>\n",
       "      <td>359343.000000</td>\n",
       "      <td>359343.000000</td>\n",
       "      <td>359343.000000</td>\n",
       "      <td>359342.000000</td>\n",
       "      <td>359343.000000</td>\n",
       "      <td>359343.000000</td>\n",
       "      <td>359343.000000</td>\n",
       "      <td>359343.000000</td>\n",
       "      <td>359343.000000</td>\n",
       "      <td>359343.000000</td>\n",
       "      <td>359343.000000</td>\n",
       "    </tr>\n",
       "    <tr>\n",
       "      <th>mean</th>\n",
       "      <td>0.251960</td>\n",
       "      <td>0.0</td>\n",
       "      <td>33097.854863</td>\n",
       "      <td>6.999686</td>\n",
       "      <td>0.785358</td>\n",
       "      <td>55238.884297</td>\n",
       "      <td>494.595364</td>\n",
       "      <td>123.933685</td>\n",
       "      <td>451250.675552</td>\n",
       "      <td>0.118155</td>\n",
       "      <td>0.008927</td>\n",
       "      <td>0.246066</td>\n",
       "      <td>0.182900</td>\n",
       "      <td>0.230532</td>\n",
       "      <td>0.000737</td>\n",
       "      <td>2519.762706</td>\n",
       "      <td>0.996174</td>\n",
       "      <td>1.454265</td>\n",
       "    </tr>\n",
       "    <tr>\n",
       "      <th>std</th>\n",
       "      <td>0.687468</td>\n",
       "      <td>0.0</td>\n",
       "      <td>19188.908747</td>\n",
       "      <td>0.036585</td>\n",
       "      <td>0.410574</td>\n",
       "      <td>31534.150905</td>\n",
       "      <td>256.671719</td>\n",
       "      <td>80.405191</td>\n",
       "      <td>188810.979617</td>\n",
       "      <td>1.025589</td>\n",
       "      <td>0.285185</td>\n",
       "      <td>0.945107</td>\n",
       "      <td>0.776771</td>\n",
       "      <td>0.421174</td>\n",
       "      <td>0.027146</td>\n",
       "      <td>1690.198622</td>\n",
       "      <td>0.061740</td>\n",
       "      <td>4.162290</td>\n",
       "    </tr>\n",
       "    <tr>\n",
       "      <th>min</th>\n",
       "      <td>0.000000</td>\n",
       "      <td>0.0</td>\n",
       "      <td>0.000000</td>\n",
       "      <td>0.000000</td>\n",
       "      <td>0.000000</td>\n",
       "      <td>0.000000</td>\n",
       "      <td>0.000000</td>\n",
       "      <td>0.000000</td>\n",
       "      <td>31.000000</td>\n",
       "      <td>0.000000</td>\n",
       "      <td>0.000000</td>\n",
       "      <td>0.000000</td>\n",
       "      <td>0.000000</td>\n",
       "      <td>0.000000</td>\n",
       "      <td>0.000000</td>\n",
       "      <td>0.000000</td>\n",
       "      <td>0.000000</td>\n",
       "      <td>1.000000</td>\n",
       "    </tr>\n",
       "    <tr>\n",
       "      <th>25%</th>\n",
       "      <td>0.000000</td>\n",
       "      <td>0.0</td>\n",
       "      <td>16744.000000</td>\n",
       "      <td>7.000000</td>\n",
       "      <td>1.000000</td>\n",
       "      <td>26954.000000</td>\n",
       "      <td>207.000000</td>\n",
       "      <td>95.000000</td>\n",
       "      <td>441110.000000</td>\n",
       "      <td>0.000000</td>\n",
       "      <td>0.000000</td>\n",
       "      <td>0.000000</td>\n",
       "      <td>0.000000</td>\n",
       "      <td>0.000000</td>\n",
       "      <td>0.000000</td>\n",
       "      <td>1520.000000</td>\n",
       "      <td>1.000000</td>\n",
       "      <td>1.000000</td>\n",
       "    </tr>\n",
       "    <tr>\n",
       "      <th>50%</th>\n",
       "      <td>0.000000</td>\n",
       "      <td>0.0</td>\n",
       "      <td>31803.000000</td>\n",
       "      <td>7.000000</td>\n",
       "      <td>1.000000</td>\n",
       "      <td>57734.000000</td>\n",
       "      <td>526.000000</td>\n",
       "      <td>95.000000</td>\n",
       "      <td>541511.000000</td>\n",
       "      <td>0.000000</td>\n",
       "      <td>0.000000</td>\n",
       "      <td>0.000000</td>\n",
       "      <td>0.000000</td>\n",
       "      <td>0.000000</td>\n",
       "      <td>0.000000</td>\n",
       "      <td>1520.000000</td>\n",
       "      <td>1.000000</td>\n",
       "      <td>1.000000</td>\n",
       "    </tr>\n",
       "    <tr>\n",
       "      <th>75%</th>\n",
       "      <td>0.000000</td>\n",
       "      <td>0.0</td>\n",
       "      <td>50289.000000</td>\n",
       "      <td>7.000000</td>\n",
       "      <td>1.000000</td>\n",
       "      <td>82684.000000</td>\n",
       "      <td>752.000000</td>\n",
       "      <td>135.000000</td>\n",
       "      <td>541512.000000</td>\n",
       "      <td>0.000000</td>\n",
       "      <td>0.000000</td>\n",
       "      <td>0.000000</td>\n",
       "      <td>0.000000</td>\n",
       "      <td>0.000000</td>\n",
       "      <td>0.000000</td>\n",
       "      <td>3981.000000</td>\n",
       "      <td>1.000000</td>\n",
       "      <td>1.000000</td>\n",
       "    </tr>\n",
       "    <tr>\n",
       "      <th>max</th>\n",
       "      <td>3.000000</td>\n",
       "      <td>0.0</td>\n",
       "      <td>65727.000000</td>\n",
       "      <td>7.000000</td>\n",
       "      <td>1.000000</td>\n",
       "      <td>109610.000000</td>\n",
       "      <td>858.000000</td>\n",
       "      <td>526.000000</td>\n",
       "      <td>928120.000000</td>\n",
       "      <td>338.000000</td>\n",
       "      <td>99.000000</td>\n",
       "      <td>99.000000</td>\n",
       "      <td>99.000000</td>\n",
       "      <td>1.000000</td>\n",
       "      <td>1.000000</td>\n",
       "      <td>6465.000000</td>\n",
       "      <td>1.000000</td>\n",
       "      <td>594.000000</td>\n",
       "    </tr>\n",
       "  </tbody>\n",
       "</table>\n",
       "</div>"
      ],
      "text/plain": [
       "         CASE_STATUS  VISA_CLASS  EMPLOYER_NAME  EMPLOYER_COUNTRY  \\\n",
       "count  359343.000000    359343.0  359343.000000     359343.000000   \n",
       "mean        0.251960         0.0   33097.854863          6.999686   \n",
       "std         0.687468         0.0   19188.908747          0.036585   \n",
       "min         0.000000         0.0       0.000000          0.000000   \n",
       "25%         0.000000         0.0   16744.000000          7.000000   \n",
       "50%         0.000000         0.0   31803.000000          7.000000   \n",
       "75%         0.000000         0.0   50289.000000          7.000000   \n",
       "max         3.000000         0.0   65727.000000          7.000000   \n",
       "\n",
       "       AGENT_REPRESENTING_EMPLOYER      JOB_TITLE      SOC_TITLE  \\\n",
       "count                359343.000000  359343.000000  359343.000000   \n",
       "mean                      0.785358   55238.884297     494.595364   \n",
       "std                       0.410574   31534.150905     256.671719   \n",
       "min                       0.000000       0.000000       0.000000   \n",
       "25%                       1.000000   26954.000000     207.000000   \n",
       "50%                       1.000000   57734.000000     526.000000   \n",
       "75%                       1.000000   82684.000000     752.000000   \n",
       "max                       1.000000  109610.000000     858.000000   \n",
       "\n",
       "            SOC_CODE     NAICS_CODE  CHANGE_PREVIOUS_EMPLOYMENT  \\\n",
       "count  359343.000000  359343.000000               359343.000000   \n",
       "mean      123.933685  451250.675552                    0.118155   \n",
       "std        80.405191  188810.979617                    1.025589   \n",
       "min         0.000000      31.000000                    0.000000   \n",
       "25%        95.000000  441110.000000                    0.000000   \n",
       "50%        95.000000  541511.000000                    0.000000   \n",
       "75%       135.000000  541512.000000                    0.000000   \n",
       "max       526.000000  928120.000000                  338.000000   \n",
       "\n",
       "       NEW_CONCURRENT_EMPLOYMENT  CHANGE_EMPLOYER  AMENDED_PETITION  \\\n",
       "count              359342.000000    359343.000000     359343.000000   \n",
       "mean                    0.008927         0.246066          0.182900   \n",
       "std                     0.285185         0.945107          0.776771   \n",
       "min                     0.000000         0.000000          0.000000   \n",
       "25%                     0.000000         0.000000          0.000000   \n",
       "50%                     0.000000         0.000000          0.000000   \n",
       "75%                     0.000000         0.000000          0.000000   \n",
       "max                    99.000000        99.000000         99.000000   \n",
       "\n",
       "       H-1B_DEPENDENT  WILLFUL_VIOLATOR  \\\n",
       "count   359343.000000     359343.000000   \n",
       "mean         0.230532          0.000737   \n",
       "std          0.421174          0.027146   \n",
       "min          0.000000          0.000000   \n",
       "25%          0.000000          0.000000   \n",
       "50%          0.000000          0.000000   \n",
       "75%          0.000000          0.000000   \n",
       "max          1.000000          1.000000   \n",
       "\n",
       "       AGENT_ATTORNEY_LAW_FIRM_BUSINESS_NAME    SUPPORT_H1B  \\\n",
       "count                          359343.000000  359343.000000   \n",
       "mean                             2519.762706       0.996174   \n",
       "std                              1690.198622       0.061740   \n",
       "min                                 0.000000       0.000000   \n",
       "25%                              1520.000000       1.000000   \n",
       "50%                              1520.000000       1.000000   \n",
       "75%                              3981.000000       1.000000   \n",
       "max                              6465.000000       1.000000   \n",
       "\n",
       "       TOTAL_WORKER_POSITIONS  \n",
       "count           359343.000000  \n",
       "mean                 1.454265  \n",
       "std                  4.162290  \n",
       "min                  1.000000  \n",
       "25%                  1.000000  \n",
       "50%                  1.000000  \n",
       "75%                  1.000000  \n",
       "max                594.000000  "
      ]
     },
     "execution_count": 88,
     "metadata": {},
     "output_type": "execute_result"
    }
   ],
   "source": [
    "data_H1B\n",
    "data_H1B.describe()"
   ]
  },
  {
   "cell_type": "code",
   "execution_count": 89,
   "metadata": {
    "colab": {
     "base_uri": "https://localhost:8080/"
    },
    "id": "MBKlhy5Fg4tX",
    "outputId": "0973f537-3592-4a18-cd5c-2a7720d3dfd1"
   },
   "outputs": [
    {
     "data": {
      "text/plain": [
       "CASE_STATUS                              0\n",
       "VISA_CLASS                               0\n",
       "EMPLOYER_NAME                            0\n",
       "EMPLOYER_COUNTRY                         0\n",
       "AGENT_REPRESENTING_EMPLOYER              0\n",
       "JOB_TITLE                                0\n",
       "SOC_TITLE                                0\n",
       "SOC_CODE                                 0\n",
       "NAICS_CODE                               0\n",
       "CONTINUED_EMPLOYMENT                     0\n",
       "CHANGE_PREVIOUS_EMPLOYMENT               0\n",
       "NEW_CONCURRENT_EMPLOYMENT                1\n",
       "CHANGE_EMPLOYER                          0\n",
       "AMENDED_PETITION                         0\n",
       "H-1B_DEPENDENT                           0\n",
       "WILLFUL_VIOLATOR                         0\n",
       "AGENT_ATTORNEY_LAW_FIRM_BUSINESS_NAME    0\n",
       "SUPPORT_H1B                              0\n",
       "TOTAL_WORKER_POSITIONS                   0\n",
       "dtype: int64"
      ]
     },
     "execution_count": 89,
     "metadata": {},
     "output_type": "execute_result"
    }
   ],
   "source": [
    "data_H1B.isnull().sum()"
   ]
  },
  {
   "cell_type": "code",
   "execution_count": 90,
   "metadata": {
    "id": "falzlNS3g7ey"
   },
   "outputs": [],
   "source": [
    "data_H1B = data_H1B.dropna(subset = ['NEW_CONCURRENT_EMPLOYMENT'])"
   ]
  },
  {
   "cell_type": "code",
   "execution_count": 91,
   "metadata": {
    "colab": {
     "base_uri": "https://localhost:8080/"
    },
    "id": "a4a-YJBIg9R8",
    "outputId": "454823f2-a7d7-41fb-a930-d0a6a98c5f45"
   },
   "outputs": [
    {
     "data": {
      "text/plain": [
       "(359342, 19)"
      ]
     },
     "execution_count": 91,
     "metadata": {},
     "output_type": "execute_result"
    }
   ],
   "source": [
    "data_H1B.shape"
   ]
  },
  {
   "cell_type": "code",
   "execution_count": 92,
   "metadata": {
    "colab": {
     "base_uri": "https://localhost:8080/"
    },
    "id": "A30kkF-_hB24",
    "outputId": "33928831-92ea-4289-96e0-b3d1903752cf"
   },
   "outputs": [
    {
     "data": {
      "text/plain": [
       "7    359313\n",
       "3        19\n",
       "5         3\n",
       "4         2\n",
       "1         2\n",
       "6         1\n",
       "0         1\n",
       "2         1\n",
       "Name: EMPLOYER_COUNTRY, dtype: int64"
      ]
     },
     "execution_count": 92,
     "metadata": {},
     "output_type": "execute_result"
    }
   ],
   "source": [
    "data_H1B.EMPLOYER_COUNTRY.value_counts()"
   ]
  },
  {
   "cell_type": "code",
   "execution_count": 93,
   "metadata": {
    "colab": {
     "base_uri": "https://localhost:8080/",
     "height": 459
    },
    "id": "8QhbzUi_hL2v",
    "outputId": "b1e0aa36-e959-452d-b095-5064d274b313"
   },
   "outputs": [
    {
     "data": {
      "image/png": "[encoded data removed]",
      "text/plain": [
       "<Figure size 1440x720 with 1 Axes>"
      ]
     },
     "metadata": {},
     "output_type": "display_data"
    }
   ],
   "source": [
    "sns.set_style('whitegrid')\n",
    "countplt, ax = plt.subplots(figsize = (20,10))\n",
    "ax=sns.countplot(x = data_H1B.EMPLOYER_COUNTRY,hue = data_H1B['CASE_STATUS'],palette = 'YlOrBr')\n",
    "ax.set_title(\"Countries VS Case Status\",fontsize = 15)\n",
    "\n",
    "for p in ax.patches:\n",
    "        ax.annotate(f'{round(p.get_height()/len(data_H1B)*100,2)} %', xy=(p.get_x() + p.get_width() / 2,  \n",
    "            p.get_height()), ha='center',  va='center',size=12, xytext=(0, 8),textcoords='offset points')\n",
    "plt.show()"
   ]
  },
  {
   "cell_type": "code",
   "execution_count": 94,
   "metadata": {
    "colab": {
     "base_uri": "https://localhost:8080/",
     "height": 505
    },
    "id": "8hISCeyNhOBB",
    "outputId": "b0d2ba36-bcf2-444e-9714-78133112b517"
   },
   "outputs": [
    {
     "data": {
      "text/html": [
       "<div>\n",
       "<style scoped>\n",
       "    .dataframe tbody tr th:only-of-type {\n",
       "        vertical-align: middle;\n",
       "    }\n",
       "\n",
       "    .dataframe tbody tr th {\n",
       "        vertical-align: top;\n",
       "    }\n",
       "\n",
       "    .dataframe thead th {\n",
       "        text-align: right;\n",
       "    }\n",
       "</style>\n",
       "<table border=\"1\" class=\"dataframe\">\n",
       "  <thead>\n",
       "    <tr style=\"text-align: right;\">\n",
       "      <th></th>\n",
       "      <th>CASE_STATUS</th>\n",
       "      <th>VISA_CLASS</th>\n",
       "      <th>EMPLOYER_NAME</th>\n",
       "      <th>EMPLOYER_COUNTRY</th>\n",
       "      <th>AGENT_REPRESENTING_EMPLOYER</th>\n",
       "      <th>JOB_TITLE</th>\n",
       "      <th>SOC_TITLE</th>\n",
       "      <th>SOC_CODE</th>\n",
       "      <th>NAICS_CODE</th>\n",
       "      <th>CONTINUED_EMPLOYMENT</th>\n",
       "      <th>CHANGE_PREVIOUS_EMPLOYMENT</th>\n",
       "      <th>NEW_CONCURRENT_EMPLOYMENT</th>\n",
       "      <th>CHANGE_EMPLOYER</th>\n",
       "      <th>AMENDED_PETITION</th>\n",
       "      <th>H-1B_DEPENDENT</th>\n",
       "      <th>WILLFUL_VIOLATOR</th>\n",
       "      <th>AGENT_ATTORNEY_LAW_FIRM_BUSINESS_NAME</th>\n",
       "      <th>SUPPORT_H1B</th>\n",
       "      <th>TOTAL_WORKER_POSITIONS</th>\n",
       "    </tr>\n",
       "  </thead>\n",
       "  <tbody>\n",
       "    <tr>\n",
       "      <th>0</th>\n",
       "      <td>3</td>\n",
       "      <td>0</td>\n",
       "      <td>47135</td>\n",
       "      <td>7</td>\n",
       "      <td>0</td>\n",
       "      <td>7658</td>\n",
       "      <td>14</td>\n",
       "      <td>2</td>\n",
       "      <td>541810.0</td>\n",
       "      <td>1</td>\n",
       "      <td>0.0</td>\n",
       "      <td>0.0</td>\n",
       "      <td>0.0</td>\n",
       "      <td>0.0</td>\n",
       "      <td>0</td>\n",
       "      <td>0</td>\n",
       "      <td>1520</td>\n",
       "      <td>1</td>\n",
       "      <td>1.0</td>\n",
       "    </tr>\n",
       "    <tr>\n",
       "      <th>5</th>\n",
       "      <td>3</td>\n",
       "      <td>0</td>\n",
       "      <td>36533</td>\n",
       "      <td>7</td>\n",
       "      <td>0</td>\n",
       "      <td>33178</td>\n",
       "      <td>14</td>\n",
       "      <td>2</td>\n",
       "      <td>541810.0</td>\n",
       "      <td>1</td>\n",
       "      <td>0.0</td>\n",
       "      <td>0.0</td>\n",
       "      <td>0.0</td>\n",
       "      <td>0.0</td>\n",
       "      <td>0</td>\n",
       "      <td>0</td>\n",
       "      <td>1520</td>\n",
       "      <td>1</td>\n",
       "      <td>1.0</td>\n",
       "    </tr>\n",
       "    <tr>\n",
       "      <th>6</th>\n",
       "      <td>3</td>\n",
       "      <td>0</td>\n",
       "      <td>37474</td>\n",
       "      <td>7</td>\n",
       "      <td>1</td>\n",
       "      <td>24150</td>\n",
       "      <td>14</td>\n",
       "      <td>2</td>\n",
       "      <td>454111.0</td>\n",
       "      <td>0</td>\n",
       "      <td>1.0</td>\n",
       "      <td>0.0</td>\n",
       "      <td>0.0</td>\n",
       "      <td>0.0</td>\n",
       "      <td>0</td>\n",
       "      <td>0</td>\n",
       "      <td>1517</td>\n",
       "      <td>1</td>\n",
       "      <td>1.0</td>\n",
       "    </tr>\n",
       "    <tr>\n",
       "      <th>7</th>\n",
       "      <td>3</td>\n",
       "      <td>0</td>\n",
       "      <td>32327</td>\n",
       "      <td>7</td>\n",
       "      <td>1</td>\n",
       "      <td>34564</td>\n",
       "      <td>14</td>\n",
       "      <td>2</td>\n",
       "      <td>541990.0</td>\n",
       "      <td>1</td>\n",
       "      <td>0.0</td>\n",
       "      <td>0.0</td>\n",
       "      <td>0.0</td>\n",
       "      <td>0.0</td>\n",
       "      <td>0</td>\n",
       "      <td>0</td>\n",
       "      <td>1103</td>\n",
       "      <td>1</td>\n",
       "      <td>1.0</td>\n",
       "    </tr>\n",
       "    <tr>\n",
       "      <th>8</th>\n",
       "      <td>3</td>\n",
       "      <td>0</td>\n",
       "      <td>55256</td>\n",
       "      <td>7</td>\n",
       "      <td>1</td>\n",
       "      <td>404</td>\n",
       "      <td>14</td>\n",
       "      <td>2</td>\n",
       "      <td>541820.0</td>\n",
       "      <td>1</td>\n",
       "      <td>0.0</td>\n",
       "      <td>0.0</td>\n",
       "      <td>0.0</td>\n",
       "      <td>0.0</td>\n",
       "      <td>0</td>\n",
       "      <td>0</td>\n",
       "      <td>5965</td>\n",
       "      <td>1</td>\n",
       "      <td>1.0</td>\n",
       "    </tr>\n",
       "    <tr>\n",
       "      <th>...</th>\n",
       "      <td>...</td>\n",
       "      <td>...</td>\n",
       "      <td>...</td>\n",
       "      <td>...</td>\n",
       "      <td>...</td>\n",
       "      <td>...</td>\n",
       "      <td>...</td>\n",
       "      <td>...</td>\n",
       "      <td>...</td>\n",
       "      <td>...</td>\n",
       "      <td>...</td>\n",
       "      <td>...</td>\n",
       "      <td>...</td>\n",
       "      <td>...</td>\n",
       "      <td>...</td>\n",
       "      <td>...</td>\n",
       "      <td>...</td>\n",
       "      <td>...</td>\n",
       "      <td>...</td>\n",
       "    </tr>\n",
       "    <tr>\n",
       "      <th>664605</th>\n",
       "      <td>0</td>\n",
       "      <td>0</td>\n",
       "      <td>29837</td>\n",
       "      <td>7</td>\n",
       "      <td>1</td>\n",
       "      <td>37345</td>\n",
       "      <td>836</td>\n",
       "      <td>524</td>\n",
       "      <td>541380.0</td>\n",
       "      <td>0.0</td>\n",
       "      <td>0.0</td>\n",
       "      <td>0.0</td>\n",
       "      <td>0.0</td>\n",
       "      <td>1.0</td>\n",
       "      <td>0</td>\n",
       "      <td>0</td>\n",
       "      <td>1491</td>\n",
       "      <td>1</td>\n",
       "      <td>1.0</td>\n",
       "    </tr>\n",
       "    <tr>\n",
       "      <th>664608</th>\n",
       "      <td>0</td>\n",
       "      <td>0</td>\n",
       "      <td>29837</td>\n",
       "      <td>7</td>\n",
       "      <td>1</td>\n",
       "      <td>37349</td>\n",
       "      <td>836</td>\n",
       "      <td>524</td>\n",
       "      <td>541380.0</td>\n",
       "      <td>1.0</td>\n",
       "      <td>0.0</td>\n",
       "      <td>0.0</td>\n",
       "      <td>0.0</td>\n",
       "      <td>0.0</td>\n",
       "      <td>0</td>\n",
       "      <td>0</td>\n",
       "      <td>1491</td>\n",
       "      <td>1</td>\n",
       "      <td>1.0</td>\n",
       "    </tr>\n",
       "    <tr>\n",
       "      <th>664609</th>\n",
       "      <td>2</td>\n",
       "      <td>0</td>\n",
       "      <td>45221</td>\n",
       "      <td>7</td>\n",
       "      <td>0</td>\n",
       "      <td>18425</td>\n",
       "      <td>230</td>\n",
       "      <td>525</td>\n",
       "      <td>488320.0</td>\n",
       "      <td>0.0</td>\n",
       "      <td>0.0</td>\n",
       "      <td>0.0</td>\n",
       "      <td>0.0</td>\n",
       "      <td>0.0</td>\n",
       "      <td>0</td>\n",
       "      <td>0</td>\n",
       "      <td>1520</td>\n",
       "      <td>1</td>\n",
       "      <td>6.0</td>\n",
       "    </tr>\n",
       "    <tr>\n",
       "      <th>664610</th>\n",
       "      <td>0</td>\n",
       "      <td>0</td>\n",
       "      <td>45221</td>\n",
       "      <td>7</td>\n",
       "      <td>0</td>\n",
       "      <td>18425</td>\n",
       "      <td>230</td>\n",
       "      <td>525</td>\n",
       "      <td>488320.0</td>\n",
       "      <td>0.0</td>\n",
       "      <td>0.0</td>\n",
       "      <td>0.0</td>\n",
       "      <td>0.0</td>\n",
       "      <td>0.0</td>\n",
       "      <td>0</td>\n",
       "      <td>0</td>\n",
       "      <td>1520</td>\n",
       "      <td>1</td>\n",
       "      <td>6.0</td>\n",
       "    </tr>\n",
       "    <tr>\n",
       "      <th>664611</th>\n",
       "      <td>0</td>\n",
       "      <td>0</td>\n",
       "      <td>3366</td>\n",
       "      <td>7</td>\n",
       "      <td>1</td>\n",
       "      <td>23748</td>\n",
       "      <td>1</td>\n",
       "      <td>526</td>\n",
       "      <td>524113.0</td>\n",
       "      <td>0.0</td>\n",
       "      <td>0.0</td>\n",
       "      <td>0.0</td>\n",
       "      <td>1.0</td>\n",
       "      <td>0.0</td>\n",
       "      <td>0</td>\n",
       "      <td>0</td>\n",
       "      <td>4281</td>\n",
       "      <td>1</td>\n",
       "      <td>1.0</td>\n",
       "    </tr>\n",
       "  </tbody>\n",
       "</table>\n",
       "<p>359342 rows × 19 columns</p>\n",
       "</div>"
      ],
      "text/plain": [
       "        CASE_STATUS  VISA_CLASS  EMPLOYER_NAME  EMPLOYER_COUNTRY  \\\n",
       "0                 3           0          47135                 7   \n",
       "5                 3           0          36533                 7   \n",
       "6                 3           0          37474                 7   \n",
       "7                 3           0          32327                 7   \n",
       "8                 3           0          55256                 7   \n",
       "...             ...         ...            ...               ...   \n",
       "664605            0           0          29837                 7   \n",
       "664608            0           0          29837                 7   \n",
       "664609            2           0          45221                 7   \n",
       "664610            0           0          45221                 7   \n",
       "664611            0           0           3366                 7   \n",
       "\n",
       "        AGENT_REPRESENTING_EMPLOYER  JOB_TITLE  SOC_TITLE  SOC_CODE  \\\n",
       "0                                 0       7658         14         2   \n",
       "5                                 0      33178         14         2   \n",
       "6                                 1      24150         14         2   \n",
       "7                                 1      34564         14         2   \n",
       "8                                 1        404         14         2   \n",
       "...                             ...        ...        ...       ...   \n",
       "664605                            1      37345        836       524   \n",
       "664608                            1      37349        836       524   \n",
       "664609                            0      18425        230       525   \n",
       "664610                            0      18425        230       525   \n",
       "664611                            1      23748          1       526   \n",
       "\n",
       "        NAICS_CODE CONTINUED_EMPLOYMENT  CHANGE_PREVIOUS_EMPLOYMENT  \\\n",
       "0         541810.0                    1                         0.0   \n",
       "5         541810.0                    1                         0.0   \n",
       "6         454111.0                    0                         1.0   \n",
       "7         541990.0                    1                         0.0   \n",
       "8         541820.0                    1                         0.0   \n",
       "...            ...                  ...                         ...   \n",
       "664605    541380.0                  0.0                         0.0   \n",
       "664608    541380.0                  1.0                         0.0   \n",
       "664609    488320.0                  0.0                         0.0   \n",
       "664610    488320.0                  0.0                         0.0   \n",
       "664611    524113.0                  0.0                         0.0   \n",
       "\n",
       "        NEW_CONCURRENT_EMPLOYMENT  CHANGE_EMPLOYER  AMENDED_PETITION  \\\n",
       "0                             0.0              0.0               0.0   \n",
       "5                             0.0              0.0               0.0   \n",
       "6                             0.0              0.0               0.0   \n",
       "7                             0.0              0.0               0.0   \n",
       "8                             0.0              0.0               0.0   \n",
       "...                           ...              ...               ...   \n",
       "664605                        0.0              0.0               1.0   \n",
       "664608                        0.0              0.0               0.0   \n",
       "664609                        0.0              0.0               0.0   \n",
       "664610                        0.0              0.0               0.0   \n",
       "664611                        0.0              1.0               0.0   \n",
       "\n",
       "        H-1B_DEPENDENT  WILLFUL_VIOLATOR  \\\n",
       "0                    0                 0   \n",
       "5                    0                 0   \n",
       "6                    0                 0   \n",
       "7                    0                 0   \n",
       "8                    0                 0   \n",
       "...                ...               ...   \n",
       "664605               0                 0   \n",
       "664608               0                 0   \n",
       "664609               0                 0   \n",
       "664610               0                 0   \n",
       "664611               0                 0   \n",
       "\n",
       "        AGENT_ATTORNEY_LAW_FIRM_BUSINESS_NAME  SUPPORT_H1B  \\\n",
       "0                                        1520            1   \n",
       "5                                        1520            1   \n",
       "6                                        1517            1   \n",
       "7                                        1103            1   \n",
       "8                                        5965            1   \n",
       "...                                       ...          ...   \n",
       "664605                                   1491            1   \n",
       "664608                                   1491            1   \n",
       "664609                                   1520            1   \n",
       "664610                                   1520            1   \n",
       "664611                                   4281            1   \n",
       "\n",
       "        TOTAL_WORKER_POSITIONS  \n",
       "0                          1.0  \n",
       "5                          1.0  \n",
       "6                          1.0  \n",
       "7                          1.0  \n",
       "8                          1.0  \n",
       "...                        ...  \n",
       "664605                     1.0  \n",
       "664608                     1.0  \n",
       "664609                     6.0  \n",
       "664610                     6.0  \n",
       "664611                     1.0  \n",
       "\n",
       "[359342 rows x 19 columns]"
      ]
     },
     "execution_count": 94,
     "metadata": {},
     "output_type": "execute_result"
    }
   ],
   "source": [
    "data_H1B"
   ]
  },
  {
   "cell_type": "code",
   "execution_count": 95,
   "metadata": {},
   "outputs": [],
   "source": [
    "data_H1Bdata_H1B = data_H1B.drop(['EMPLOYER_COUNTRY','EMPLOYER_NAME', 'JOB_TITLE','SOC_TITLE','SOC_CODE','NAICS_CODE','AGENT_ATTORNEY_LAW_FIRM_BUSINESS_NAME','TOTAL_WORKER_POSITIONS'], axis=1)"
   ]
  },
  {
   "cell_type": "code",
   "execution_count": 96,
   "metadata": {
    "colab": {
     "base_uri": "https://localhost:8080/",
     "height": 505
    },
    "id": "opA8D0zFhQve",
    "outputId": "8f05b7b4-e6e6-4bdc-8b30-94a3c59c5de4"
   },
   "outputs": [
    {
     "data": {
      "text/html": [
       "<div>\n",
       "<style scoped>\n",
       "    .dataframe tbody tr th:only-of-type {\n",
       "        vertical-align: middle;\n",
       "    }\n",
       "\n",
       "    .dataframe tbody tr th {\n",
       "        vertical-align: top;\n",
       "    }\n",
       "\n",
       "    .dataframe thead th {\n",
       "        text-align: right;\n",
       "    }\n",
       "</style>\n",
       "<table border=\"1\" class=\"dataframe\">\n",
       "  <thead>\n",
       "    <tr style=\"text-align: right;\">\n",
       "      <th></th>\n",
       "      <th>EMPLOYER_NAME</th>\n",
       "      <th>EMPLOYER_COUNTRY</th>\n",
       "      <th>AGENT_REPRESENTING_EMPLOYER</th>\n",
       "      <th>JOB_TITLE</th>\n",
       "      <th>SOC_TITLE</th>\n",
       "      <th>SOC_CODE</th>\n",
       "      <th>NAICS_CODE</th>\n",
       "      <th>CONTINUED_EMPLOYMENT</th>\n",
       "      <th>CHANGE_PREVIOUS_EMPLOYMENT</th>\n",
       "      <th>NEW_CONCURRENT_EMPLOYMENT</th>\n",
       "      <th>CHANGE_EMPLOYER</th>\n",
       "      <th>AMENDED_PETITION</th>\n",
       "      <th>H-1B_DEPENDENT</th>\n",
       "      <th>WILLFUL_VIOLATOR</th>\n",
       "      <th>AGENT_ATTORNEY_LAW_FIRM_BUSINESS_NAME</th>\n",
       "      <th>SUPPORT_H1B</th>\n",
       "      <th>TOTAL_WORKER_POSITIONS</th>\n",
       "    </tr>\n",
       "  </thead>\n",
       "  <tbody>\n",
       "    <tr>\n",
       "      <th>0</th>\n",
       "      <td>47135</td>\n",
       "      <td>7</td>\n",
       "      <td>0</td>\n",
       "      <td>7658</td>\n",
       "      <td>14</td>\n",
       "      <td>2</td>\n",
       "      <td>541810.0</td>\n",
       "      <td>1</td>\n",
       "      <td>0.0</td>\n",
       "      <td>0.0</td>\n",
       "      <td>0.0</td>\n",
       "      <td>0.0</td>\n",
       "      <td>0</td>\n",
       "      <td>0</td>\n",
       "      <td>1520</td>\n",
       "      <td>1</td>\n",
       "      <td>1.0</td>\n",
       "    </tr>\n",
       "    <tr>\n",
       "      <th>5</th>\n",
       "      <td>36533</td>\n",
       "      <td>7</td>\n",
       "      <td>0</td>\n",
       "      <td>33178</td>\n",
       "      <td>14</td>\n",
       "      <td>2</td>\n",
       "      <td>541810.0</td>\n",
       "      <td>1</td>\n",
       "      <td>0.0</td>\n",
       "      <td>0.0</td>\n",
       "      <td>0.0</td>\n",
       "      <td>0.0</td>\n",
       "      <td>0</td>\n",
       "      <td>0</td>\n",
       "      <td>1520</td>\n",
       "      <td>1</td>\n",
       "      <td>1.0</td>\n",
       "    </tr>\n",
       "    <tr>\n",
       "      <th>6</th>\n",
       "      <td>37474</td>\n",
       "      <td>7</td>\n",
       "      <td>1</td>\n",
       "      <td>24150</td>\n",
       "      <td>14</td>\n",
       "      <td>2</td>\n",
       "      <td>454111.0</td>\n",
       "      <td>0</td>\n",
       "      <td>1.0</td>\n",
       "      <td>0.0</td>\n",
       "      <td>0.0</td>\n",
       "      <td>0.0</td>\n",
       "      <td>0</td>\n",
       "      <td>0</td>\n",
       "      <td>1517</td>\n",
       "      <td>1</td>\n",
       "      <td>1.0</td>\n",
       "    </tr>\n",
       "    <tr>\n",
       "      <th>7</th>\n",
       "      <td>32327</td>\n",
       "      <td>7</td>\n",
       "      <td>1</td>\n",
       "      <td>34564</td>\n",
       "      <td>14</td>\n",
       "      <td>2</td>\n",
       "      <td>541990.0</td>\n",
       "      <td>1</td>\n",
       "      <td>0.0</td>\n",
       "      <td>0.0</td>\n",
       "      <td>0.0</td>\n",
       "      <td>0.0</td>\n",
       "      <td>0</td>\n",
       "      <td>0</td>\n",
       "      <td>1103</td>\n",
       "      <td>1</td>\n",
       "      <td>1.0</td>\n",
       "    </tr>\n",
       "    <tr>\n",
       "      <th>8</th>\n",
       "      <td>55256</td>\n",
       "      <td>7</td>\n",
       "      <td>1</td>\n",
       "      <td>404</td>\n",
       "      <td>14</td>\n",
       "      <td>2</td>\n",
       "      <td>541820.0</td>\n",
       "      <td>1</td>\n",
       "      <td>0.0</td>\n",
       "      <td>0.0</td>\n",
       "      <td>0.0</td>\n",
       "      <td>0.0</td>\n",
       "      <td>0</td>\n",
       "      <td>0</td>\n",
       "      <td>5965</td>\n",
       "      <td>1</td>\n",
       "      <td>1.0</td>\n",
       "    </tr>\n",
       "    <tr>\n",
       "      <th>...</th>\n",
       "      <td>...</td>\n",
       "      <td>...</td>\n",
       "      <td>...</td>\n",
       "      <td>...</td>\n",
       "      <td>...</td>\n",
       "      <td>...</td>\n",
       "      <td>...</td>\n",
       "      <td>...</td>\n",
       "      <td>...</td>\n",
       "      <td>...</td>\n",
       "      <td>...</td>\n",
       "      <td>...</td>\n",
       "      <td>...</td>\n",
       "      <td>...</td>\n",
       "      <td>...</td>\n",
       "      <td>...</td>\n",
       "      <td>...</td>\n",
       "    </tr>\n",
       "    <tr>\n",
       "      <th>664605</th>\n",
       "      <td>29837</td>\n",
       "      <td>7</td>\n",
       "      <td>1</td>\n",
       "      <td>37345</td>\n",
       "      <td>836</td>\n",
       "      <td>524</td>\n",
       "      <td>541380.0</td>\n",
       "      <td>0.0</td>\n",
       "      <td>0.0</td>\n",
       "      <td>0.0</td>\n",
       "      <td>0.0</td>\n",
       "      <td>1.0</td>\n",
       "      <td>0</td>\n",
       "      <td>0</td>\n",
       "      <td>1491</td>\n",
       "      <td>1</td>\n",
       "      <td>1.0</td>\n",
       "    </tr>\n",
       "    <tr>\n",
       "      <th>664608</th>\n",
       "      <td>29837</td>\n",
       "      <td>7</td>\n",
       "      <td>1</td>\n",
       "      <td>37349</td>\n",
       "      <td>836</td>\n",
       "      <td>524</td>\n",
       "      <td>541380.0</td>\n",
       "      <td>1.0</td>\n",
       "      <td>0.0</td>\n",
       "      <td>0.0</td>\n",
       "      <td>0.0</td>\n",
       "      <td>0.0</td>\n",
       "      <td>0</td>\n",
       "      <td>0</td>\n",
       "      <td>1491</td>\n",
       "      <td>1</td>\n",
       "      <td>1.0</td>\n",
       "    </tr>\n",
       "    <tr>\n",
       "      <th>664609</th>\n",
       "      <td>45221</td>\n",
       "      <td>7</td>\n",
       "      <td>0</td>\n",
       "      <td>18425</td>\n",
       "      <td>230</td>\n",
       "      <td>525</td>\n",
       "      <td>488320.0</td>\n",
       "      <td>0.0</td>\n",
       "      <td>0.0</td>\n",
       "      <td>0.0</td>\n",
       "      <td>0.0</td>\n",
       "      <td>0.0</td>\n",
       "      <td>0</td>\n",
       "      <td>0</td>\n",
       "      <td>1520</td>\n",
       "      <td>1</td>\n",
       "      <td>6.0</td>\n",
       "    </tr>\n",
       "    <tr>\n",
       "      <th>664610</th>\n",
       "      <td>45221</td>\n",
       "      <td>7</td>\n",
       "      <td>0</td>\n",
       "      <td>18425</td>\n",
       "      <td>230</td>\n",
       "      <td>525</td>\n",
       "      <td>488320.0</td>\n",
       "      <td>0.0</td>\n",
       "      <td>0.0</td>\n",
       "      <td>0.0</td>\n",
       "      <td>0.0</td>\n",
       "      <td>0.0</td>\n",
       "      <td>0</td>\n",
       "      <td>0</td>\n",
       "      <td>1520</td>\n",
       "      <td>1</td>\n",
       "      <td>6.0</td>\n",
       "    </tr>\n",
       "    <tr>\n",
       "      <th>664611</th>\n",
       "      <td>3366</td>\n",
       "      <td>7</td>\n",
       "      <td>1</td>\n",
       "      <td>23748</td>\n",
       "      <td>1</td>\n",
       "      <td>526</td>\n",
       "      <td>524113.0</td>\n",
       "      <td>0.0</td>\n",
       "      <td>0.0</td>\n",
       "      <td>0.0</td>\n",
       "      <td>1.0</td>\n",
       "      <td>0.0</td>\n",
       "      <td>0</td>\n",
       "      <td>0</td>\n",
       "      <td>4281</td>\n",
       "      <td>1</td>\n",
       "      <td>1.0</td>\n",
       "    </tr>\n",
       "  </tbody>\n",
       "</table>\n",
       "<p>359342 rows × 17 columns</p>\n",
       "</div>"
      ],
      "text/plain": [
       "        EMPLOYER_NAME  EMPLOYER_COUNTRY  AGENT_REPRESENTING_EMPLOYER  \\\n",
       "0               47135                 7                            0   \n",
       "5               36533                 7                            0   \n",
       "6               37474                 7                            1   \n",
       "7               32327                 7                            1   \n",
       "8               55256                 7                            1   \n",
       "...               ...               ...                          ...   \n",
       "664605          29837                 7                            1   \n",
       "664608          29837                 7                            1   \n",
       "664609          45221                 7                            0   \n",
       "664610          45221                 7                            0   \n",
       "664611           3366                 7                            1   \n",
       "\n",
       "        JOB_TITLE  SOC_TITLE  SOC_CODE  NAICS_CODE CONTINUED_EMPLOYMENT  \\\n",
       "0            7658         14         2    541810.0                    1   \n",
       "5           33178         14         2    541810.0                    1   \n",
       "6           24150         14         2    454111.0                    0   \n",
       "7           34564         14         2    541990.0                    1   \n",
       "8             404         14         2    541820.0                    1   \n",
       "...           ...        ...       ...         ...                  ...   \n",
       "664605      37345        836       524    541380.0                  0.0   \n",
       "664608      37349        836       524    541380.0                  1.0   \n",
       "664609      18425        230       525    488320.0                  0.0   \n",
       "664610      18425        230       525    488320.0                  0.0   \n",
       "664611      23748          1       526    524113.0                  0.0   \n",
       "\n",
       "        CHANGE_PREVIOUS_EMPLOYMENT  NEW_CONCURRENT_EMPLOYMENT  \\\n",
       "0                              0.0                        0.0   \n",
       "5                              0.0                        0.0   \n",
       "6                              1.0                        0.0   \n",
       "7                              0.0                        0.0   \n",
       "8                              0.0                        0.0   \n",
       "...                            ...                        ...   \n",
       "664605                         0.0                        0.0   \n",
       "664608                         0.0                        0.0   \n",
       "664609                         0.0                        0.0   \n",
       "664610                         0.0                        0.0   \n",
       "664611                         0.0                        0.0   \n",
       "\n",
       "        CHANGE_EMPLOYER  AMENDED_PETITION  H-1B_DEPENDENT  WILLFUL_VIOLATOR  \\\n",
       "0                   0.0               0.0               0                 0   \n",
       "5                   0.0               0.0               0                 0   \n",
       "6                   0.0               0.0               0                 0   \n",
       "7                   0.0               0.0               0                 0   \n",
       "8                   0.0               0.0               0                 0   \n",
       "...                 ...               ...             ...               ...   \n",
       "664605              0.0               1.0               0                 0   \n",
       "664608              0.0               0.0               0                 0   \n",
       "664609              0.0               0.0               0                 0   \n",
       "664610              0.0               0.0               0                 0   \n",
       "664611              1.0               0.0               0                 0   \n",
       "\n",
       "        AGENT_ATTORNEY_LAW_FIRM_BUSINESS_NAME  SUPPORT_H1B  \\\n",
       "0                                        1520            1   \n",
       "5                                        1520            1   \n",
       "6                                        1517            1   \n",
       "7                                        1103            1   \n",
       "8                                        5965            1   \n",
       "...                                       ...          ...   \n",
       "664605                                   1491            1   \n",
       "664608                                   1491            1   \n",
       "664609                                   1520            1   \n",
       "664610                                   1520            1   \n",
       "664611                                   4281            1   \n",
       "\n",
       "        TOTAL_WORKER_POSITIONS  \n",
       "0                          1.0  \n",
       "5                          1.0  \n",
       "6                          1.0  \n",
       "7                          1.0  \n",
       "8                          1.0  \n",
       "...                        ...  \n",
       "664605                     1.0  \n",
       "664608                     1.0  \n",
       "664609                     6.0  \n",
       "664610                     6.0  \n",
       "664611                     1.0  \n",
       "\n",
       "[359342 rows x 17 columns]"
      ]
     },
     "execution_count": 96,
     "metadata": {},
     "output_type": "execute_result"
    }
   ],
   "source": [
    "X = data_H1B.drop(\"CASE_STATUS\", axis = 1)\n",
    "X = X.drop(\"VISA_CLASS\", axis = 1)\n",
    "X = pd.DataFrame(X)\n",
    "X"
   ]
  },
  {
   "cell_type": "code",
   "execution_count": 97,
   "metadata": {
    "colab": {
     "base_uri": "https://localhost:8080/"
    },
    "id": "cWuitladhS6S",
    "outputId": "b29f2a70-5ecc-4d7a-e9f4-7aefea8dfc16"
   },
   "outputs": [
    {
     "data": {
      "text/plain": [
       "0         3\n",
       "5         3\n",
       "6         3\n",
       "7         3\n",
       "8         3\n",
       "         ..\n",
       "664605    0\n",
       "664608    0\n",
       "664609    2\n",
       "664610    0\n",
       "664611    0\n",
       "Name: CASE_STATUS, Length: 359342, dtype: int32"
      ]
     },
     "execution_count": 97,
     "metadata": {},
     "output_type": "execute_result"
    }
   ],
   "source": [
    "Y = data_H1B[\"CASE_STATUS\"]\n",
    "Y"
   ]
  },
  {
   "cell_type": "code",
   "execution_count": 98,
   "metadata": {
    "colab": {
     "base_uri": "https://localhost:8080/"
    },
    "id": "7E1mgpFShVJa",
    "outputId": "313aa804-3e89-44aa-b7a8-f851d4747b6b"
   },
   "outputs": [
    {
     "data": {
      "text/plain": [
       "(359342, 17)"
      ]
     },
     "execution_count": 98,
     "metadata": {},
     "output_type": "execute_result"
    }
   ],
   "source": [
    "X.shape"
   ]
  },
  {
   "cell_type": "code",
   "execution_count": 99,
   "metadata": {
    "colab": {
     "base_uri": "https://localhost:8080/"
    },
    "id": "9A5KfHTRhWyY",
    "outputId": "ae5a489a-08d2-4b92-b837-72ef0b9a9e1d"
   },
   "outputs": [
    {
     "data": {
      "text/plain": [
       "(359342,)"
      ]
     },
     "execution_count": 99,
     "metadata": {},
     "output_type": "execute_result"
    }
   ],
   "source": [
    "Y.shape"
   ]
  },
  {
   "cell_type": "code",
   "execution_count": 100,
   "metadata": {
    "id": "KuZIq-JbhaRJ"
   },
   "outputs": [],
   "source": [
    "from sklearn.model_selection import train_test_split \n",
    "X_train, X_test, Y_train, Y_test = train_test_split (X, Y, test_size=0.2, train_size=0.8, random_state = 7)"
   ]
  },
  {
   "cell_type": "code",
   "execution_count": 101,
   "metadata": {
    "colab": {
     "base_uri": "https://localhost:8080/"
    },
    "id": "1qy-KMEThcCu",
    "outputId": "5c8be2c8-e76d-49b9-bdfc-c99a9efd4cff"
   },
   "outputs": [
    {
     "data": {
      "text/plain": [
       "(71869, 17)"
      ]
     },
     "execution_count": 101,
     "metadata": {},
     "output_type": "execute_result"
    }
   ],
   "source": [
    "X_test.shape"
   ]
  },
  {
   "cell_type": "code",
   "execution_count": 102,
   "metadata": {
    "id": "myAscrbSheHp"
   },
   "outputs": [],
   "source": [
    "from sklearn.ensemble import RandomForestClassifier\n",
    "from sklearn.metrics import confusion_matrix, accuracy_score, classification_report"
   ]
  },
  {
   "cell_type": "code",
   "execution_count": 103,
   "metadata": {
    "id": "X2BEgRLHhexf"
   },
   "outputs": [],
   "source": [
    "RandomForest = RandomForestClassifier(n_estimators = 500, criterion=\"entropy\")"
   ]
  },
  {
   "cell_type": "code",
   "execution_count": 104,
   "metadata": {
    "colab": {
     "base_uri": "https://localhost:8080/"
    },
    "id": "_EvzphI8hhZ_",
    "outputId": "a4afde3e-88df-400d-c8dc-0074cdb91a3a"
   },
   "outputs": [
    {
     "data": {
      "text/html": [
       "<style>#sk-container-id-1 {color: black;background-color: white;}#sk-container-id-1 pre{padding: 0;}#sk-container-id-1 div.sk-toggleable {background-color: white;}#sk-container-id-1 label.sk-toggleable__label {cursor: pointer;display: block;width: 100%;margin-bottom: 0;padding: 0.3em;box-sizing: border-box;text-align: center;}#sk-container-id-1 label.sk-toggleable__label-arrow:before {content: \"▸\";float: left;margin-right: 0.25em;color: #696969;}#sk-container-id-1 label.sk-toggleable__label-arrow:hover:before {color: black;}#sk-container-id-1 div.sk-estimator:hover label.sk-toggleable__label-arrow:before {color: black;}#sk-container-id-1 div.sk-toggleable__content {max-height: 0;max-width: 0;overflow: hidden;text-align: left;background-color: #f0f8ff;}#sk-container-id-1 div.sk-toggleable__content pre {margin: 0.2em;color: black;border-radius: 0.25em;background-color: #f0f8ff;}#sk-container-id-1 input.sk-toggleable__control:checked~div.sk-toggleable__content {max-height: 200px;max-width: 100%;overflow: auto;}#sk-container-id-1 input.sk-toggleable__control:checked~label.sk-toggleable__label-arrow:before {content: \"▾\";}#sk-container-id-1 div.sk-estimator input.sk-toggleable__control:checked~label.sk-toggleable__label {background-color: #d4ebff;}#sk-container-id-1 div.sk-label input.sk-toggleable__control:checked~label.sk-toggleable__label {background-color: #d4ebff;}#sk-container-id-1 input.sk-hidden--visually {border: 0;clip: rect(1px 1px 1px 1px);clip: rect(1px, 1px, 1px, 1px);height: 1px;margin: -1px;overflow: hidden;padding: 0;position: absolute;width: 1px;}#sk-container-id-1 div.sk-estimator {font-family: monospace;background-color: #f0f8ff;border: 1px dotted black;border-radius: 0.25em;box-sizing: border-box;margin-bottom: 0.5em;}#sk-container-id-1 div.sk-estimator:hover {background-color: #d4ebff;}#sk-container-id-1 div.sk-parallel-item::after {content: \"\";width: 100%;border-bottom: 1px solid gray;flex-grow: 1;}#sk-container-id-1 div.sk-label:hover label.sk-toggleable__label {background-color: #d4ebff;}#sk-container-id-1 div.sk-serial::before {content: \"\";position: absolute;border-left: 1px solid gray;box-sizing: border-box;top: 0;bottom: 0;left: 50%;z-index: 0;}#sk-container-id-1 div.sk-serial {display: flex;flex-direction: column;align-items: center;background-color: white;padding-right: 0.2em;padding-left: 0.2em;position: relative;}#sk-container-id-1 div.sk-item {position: relative;z-index: 1;}#sk-container-id-1 div.sk-parallel {display: flex;align-items: stretch;justify-content: center;background-color: white;position: relative;}#sk-container-id-1 div.sk-item::before, #sk-container-id-1 div.sk-parallel-item::before {content: \"\";position: absolute;border-left: 1px solid gray;box-sizing: border-box;top: 0;bottom: 0;left: 50%;z-index: -1;}#sk-container-id-1 div.sk-parallel-item {display: flex;flex-direction: column;z-index: 1;position: relative;background-color: white;}#sk-container-id-1 div.sk-parallel-item:first-child::after {align-self: flex-end;width: 50%;}#sk-container-id-1 div.sk-parallel-item:last-child::after {align-self: flex-start;width: 50%;}#sk-container-id-1 div.sk-parallel-item:only-child::after {width: 0;}#sk-container-id-1 div.sk-dashed-wrapped {border: 1px dashed gray;margin: 0 0.4em 0.5em 0.4em;box-sizing: border-box;padding-bottom: 0.4em;background-color: white;}#sk-container-id-1 div.sk-label label {font-family: monospace;font-weight: bold;display: inline-block;line-height: 1.2em;}#sk-container-id-1 div.sk-label-container {text-align: center;}#sk-container-id-1 div.sk-container {/* jupyter's `normalize.less` sets `[hidden] { display: none; }` but bootstrap.min.css set `[hidden] { display: none !important; }` so we also need the `!important` here to be able to override the default hidden behavior on the sphinx rendered scikit-learn.org. See: https://github.com/scikit-learn/scikit-learn/issues/21755 */display: inline-block !important;position: relative;}#sk-container-id-1 div.sk-text-repr-fallback {display: none;}</style><div id=\"sk-container-id-1\" class=\"sk-top-container\"><div class=\"sk-text-repr-fallback\"><pre>RandomForestClassifier(criterion=&#x27;entropy&#x27;, n_estimators=500)</pre><b>In a Jupyter environment, please rerun this cell to show the HTML representation or trust the notebook. <br />On GitHub, the HTML representation is unable to render, please try loading this page with nbviewer.org.</b></div><div class=\"sk-container\" hidden><div class=\"sk-item\"><div class=\"sk-estimator sk-toggleable\"><input class=\"sk-toggleable__control sk-hidden--visually\" id=\"sk-estimator-id-1\" type=\"checkbox\" checked><label for=\"sk-estimator-id-1\" class=\"sk-toggleable__label sk-toggleable__label-arrow\">RandomForestClassifier</label><div class=\"sk-toggleable__content\"><pre>RandomForestClassifier(criterion=&#x27;entropy&#x27;, n_estimators=500)</pre></div></div></div></div></div>"
      ],
      "text/plain": [
       "RandomForestClassifier(criterion='entropy', n_estimators=500)"
      ]
     },
     "execution_count": 104,
     "metadata": {},
     "output_type": "execute_result"
    }
   ],
   "source": [
    "RandomForest.fit(X_train,Y_train)"
   ]
  },
  {
   "cell_type": "code",
   "execution_count": 105,
   "metadata": {
    "id": "-QaGFfXlhjVI"
   },
   "outputs": [],
   "source": [
    "Y_pred = RandomForest.predict(X_test) "
   ]
  },
  {
   "cell_type": "code",
   "execution_count": 106,
   "metadata": {
    "colab": {
     "base_uri": "https://localhost:8080/"
    },
    "id": "5BbGe5HVhpVN",
    "outputId": "aa487ee7-ad52-4574-f9cc-7cbf3b3e2c90"
   },
   "outputs": [
    {
     "name": "stdout",
     "output_type": "stream",
     "text": [
      "82.17729480026159\n"
     ]
    }
   ],
   "source": [
    "print(accuracy_score(Y_test, Y_pred)*100)"
   ]
  },
  {
   "cell_type": "code",
   "execution_count": 107,
   "metadata": {
    "colab": {
     "base_uri": "https://localhost:8080/",
     "height": 497
    },
    "id": "b1FRVsRHhrkI",
    "outputId": "fd0e7497-e000-4ae5-d675-c2ef1ce329d8"
   },
   "outputs": [
    {
     "data": {
      "image/png": "[encoded data removed]",
      "text/plain": [
       "<Figure size 576x576 with 2 Axes>"
      ]
     },
     "metadata": {},
     "output_type": "display_data"
    }
   ],
   "source": [
    "plt.figure(figsize = (8, 8))\n",
    "CM = confusion_matrix(Y_test, Y_pred)\n",
    "sns.heatmap(CM,annot=True, cmap='Blues', fmt='g')\n",
    "plt.xlabel('Predicted Label')\n",
    "plt.ylabel('Actual Label')\n",
    "plt.show()"
   ]
  },
  {
   "cell_type": "code",
   "execution_count": 108,
   "metadata": {
    "colab": {
     "base_uri": "https://localhost:8080/"
    },
    "id": "lg65B5Gzhtew",
    "outputId": "0982f5db-e94e-4b0f-b403-11ab78ee4b11"
   },
   "outputs": [
    {
     "name": "stdout",
     "output_type": "stream",
     "text": [
      "True Predictions :  59060\n",
      "False Predictions :  12809\n"
     ]
    }
   ],
   "source": [
    "print(\"True Predictions : \", CM[0][0]+CM[1][1]+CM[2][2]+CM[3][3])\n",
    "print(\"False Predictions : \", CM[0][1]+CM[0][2]+CM[0][3]+CM[1][0]+CM[1][2]+CM[1][3]+CM[2][0]+CM[2][1]+CM[2][3]+CM[3][0]+CM[3][1]+CM[3][2])\n"
   ]
  },
  {
   "cell_type": "code",
   "execution_count": 109,
   "metadata": {
    "colab": {
     "base_uri": "https://localhost:8080/"
    },
    "id": "Behb2XoChwC4",
    "outputId": "fd9914f7-7f8d-459d-be57-dc639c2e2575"
   },
   "outputs": [
    {
     "name": "stdout",
     "output_type": "stream",
     "text": [
      "              precision    recall  f1-score   support\n",
      "\n",
      "           0       0.88      0.93      0.90     60946\n",
      "           1       0.47      0.35      0.40      7030\n",
      "           2       0.03      0.02      0.02       891\n",
      "           3       0.06      0.04      0.05      3002\n",
      "\n",
      "    accuracy                           0.82     71869\n",
      "   macro avg       0.36      0.33      0.34     71869\n",
      "weighted avg       0.80      0.82      0.81     71869\n",
      "\n"
     ]
    }
   ],
   "source": [
    "print(classification_report(Y_test, Y_pred))"
   ]
  },
  {
   "cell_type": "code",
   "execution_count": 110,
   "metadata": {},
   "outputs": [],
   "source": [
    "import pickle"
   ]
  },
  {
   "cell_type": "code",
   "execution_count": 111,
   "metadata": {},
   "outputs": [
    {
     "ename": "MemoryError",
     "evalue": "",
     "output_type": "error",
     "traceback": [
      "\u001b[1;31m---------------------------------------------------------------------------\u001b[0m",
      "\u001b[1;31mMemoryError\u001b[0m                               Traceback (most recent call last)",
      "\u001b[1;32me:\\ICT 2020-2021\\Internship\\TechnoColabs\\Main Project\\Dataset\\Deployment\\Final_RandomForest.ipynb Cell 108\u001b[0m in \u001b[0;36m<cell line: 2>\u001b[1;34m()\u001b[0m\n\u001b[0;32m      <a href='vscode-notebook-cell:/e%3A/ICT%202020-2021/Internship/TechnoColabs/Main%20Project/Dataset/Deployment/Final_RandomForest.ipynb#Y212sZmlsZQ%3D%3D?line=0'>1</a>\u001b[0m pickle\u001b[39m.\u001b[39mdump(RandomForest,\u001b[39mopen\u001b[39m(\u001b[39m'\u001b[39m\u001b[39mrfmodel.pkl\u001b[39m\u001b[39m'\u001b[39m,\u001b[39m'\u001b[39m\u001b[39mwb\u001b[39m\u001b[39m'\u001b[39m))\n\u001b[1;32m----> <a href='vscode-notebook-cell:/e%3A/ICT%202020-2021/Internship/TechnoColabs/Main%20Project/Dataset/Deployment/Final_RandomForest.ipynb#Y212sZmlsZQ%3D%3D?line=1'>2</a>\u001b[0m model \u001b[39m=\u001b[39m pickle\u001b[39m.\u001b[39;49mload(\u001b[39mopen\u001b[39;49m(\u001b[39m'\u001b[39;49m\u001b[39mrfmodel.pkl\u001b[39;49m\u001b[39m'\u001b[39;49m,\u001b[39m'\u001b[39;49m\u001b[39mrb\u001b[39;49m\u001b[39m'\u001b[39;49m))\n",
      "\u001b[1;31mMemoryError\u001b[0m: "
     ]
    }
   ],
   "source": [
    "\n",
    "pickle.dump(RandomForest,open('rfmodel.pkl','wb'))\n",
    "model = pickle.load(open('rfmodel.pkl','rb'))"
   ]
  }
 ],
 "metadata": {
  "colab": {
   "name": "Final_RandomForest.ipynb",
   "provenance": []
  },
  "kernelspec": {
   "display_name": "Python 3 (ipykernel)",
   "language": "python",
   "name": "python3"
  },
  "language_info": {
   "codemirror_mode": {
    "name": "ipython",
    "version": 3
   },
   "file_extension": ".py",
   "mimetype": "text/x-python",
   "name": "python",
   "nbconvert_exporter": "python",
   "pygments_lexer": "ipython3",
   "version": "3.10.5"
  },
  "vscode": {
   "interpreter": {
    "hash": "a8c5ba1b328a57b7dd25cd9722740ddcc75a674582cbfe50febfbd9df5927f0e"
   }
  }
 },
 "nbformat": 4,
 "nbformat_minor": 1
}
